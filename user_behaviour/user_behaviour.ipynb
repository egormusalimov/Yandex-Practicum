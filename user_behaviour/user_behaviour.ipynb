{
 "cells": [
  {
   "cell_type": "markdown",
   "metadata": {},
   "source": [
    "# Анализ поведения пользователей мобильного приложения\n",
    "## Заказчик\n",
    "\n",
    "Стартап: мобильное приложение по продаже продуктов питания.\n",
    "\n",
    "## Цель проекта\n",
    "\n",
    "Необходимо проанализировать поведение покупателей на основании логов пользователей и результатов А/А/В - эксперимента (изменение шрифта во всем приложении).\n",
    "\n",
    "## Входные данные\n",
    "\n",
    "логи пользователей мабильного приложения (файл logs_exp.csv)\n",
    "- EventName — название события;\n",
    "- DeviceIDHash — уникальный идентификатор пользователя;\n",
    "- EventTimestamp — время события;\n",
    "- ExpId — номер эксперимента: 246 и 247 — контрольные группы, а 248 — экспериментальная.\n",
    "\n",
    "## Ход исследования\n",
    "\n",
    "Исследование пройдёт в четыре этапа:\n",
    "\n",
    "- Обзор и предобработка данных;\n",
    "- Анализ данных, воронка событий;\n",
    "- Анализ результатов экспериента;\n",
    "- Выводы."
   ]
  },
  {
   "cell_type": "markdown",
   "metadata": {},
   "source": [
    "## Общий план\n",
    "Перед выполнением любой из задач, в первую очередь необходимо подготовить набор библиотек, познакомится с данными.\n",
    "\n",
    "Сам процесс исследования будет проведен в следующем порядке (основные этапы):\n",
    "\n",
    "    - загрузка библиотек и знакомство с данными\n",
    "    - предобработка данных\n",
    "    - формирование временных таблиц, включая новые сводные (если потребуется)\n",
    "    - Анализ\n",
    "    - Общие выводы по результатам\n",
    "\n",
    "*Итоговая цель анализа* - оценка результатов текущего этапа тестирования."
   ]
  },
  {
   "cell_type": "markdown",
   "metadata": {},
   "source": [
    "## Подготовка, знакомство и предобработка "
   ]
  },
  {
   "cell_type": "code",
   "execution_count": 1,
   "metadata": {},
   "outputs": [],
   "source": [
    "import pandas as pd\n",
    "import matplotlib\n",
    "import matplotlib.pyplot as plt\n",
    "import numpy as np\n",
    "import scipy.stats as stats\n",
    "from scipy import stats as st\n",
    "import datetime as dt\n",
    "import seaborn as sns"
   ]
  },
  {
   "cell_type": "code",
   "execution_count": 2,
   "metadata": {},
   "outputs": [],
   "source": [
    "data = pd.read_csv('/datasets/logs_exp.csv', sep='\\s+')"
   ]
  },
  {
   "cell_type": "code",
   "execution_count": 3,
   "metadata": {},
   "outputs": [
    {
     "data": {
      "text/html": [
       "<div>\n",
       "<style scoped>\n",
       "    .dataframe tbody tr th:only-of-type {\n",
       "        vertical-align: middle;\n",
       "    }\n",
       "\n",
       "    .dataframe tbody tr th {\n",
       "        vertical-align: top;\n",
       "    }\n",
       "\n",
       "    .dataframe thead th {\n",
       "        text-align: right;\n",
       "    }\n",
       "</style>\n",
       "<table border=\"1\" class=\"dataframe\">\n",
       "  <thead>\n",
       "    <tr style=\"text-align: right;\">\n",
       "      <th></th>\n",
       "      <th>EventName</th>\n",
       "      <th>DeviceIDHash</th>\n",
       "      <th>EventTimestamp</th>\n",
       "      <th>ExpId</th>\n",
       "    </tr>\n",
       "  </thead>\n",
       "  <tbody>\n",
       "    <tr>\n",
       "      <th>0</th>\n",
       "      <td>MainScreenAppear</td>\n",
       "      <td>4575588528974610257</td>\n",
       "      <td>1564029816</td>\n",
       "      <td>246</td>\n",
       "    </tr>\n",
       "    <tr>\n",
       "      <th>1</th>\n",
       "      <td>MainScreenAppear</td>\n",
       "      <td>7416695313311560658</td>\n",
       "      <td>1564053102</td>\n",
       "      <td>246</td>\n",
       "    </tr>\n",
       "    <tr>\n",
       "      <th>2</th>\n",
       "      <td>PaymentScreenSuccessful</td>\n",
       "      <td>3518123091307005509</td>\n",
       "      <td>1564054127</td>\n",
       "      <td>248</td>\n",
       "    </tr>\n",
       "    <tr>\n",
       "      <th>3</th>\n",
       "      <td>CartScreenAppear</td>\n",
       "      <td>3518123091307005509</td>\n",
       "      <td>1564054127</td>\n",
       "      <td>248</td>\n",
       "    </tr>\n",
       "    <tr>\n",
       "      <th>4</th>\n",
       "      <td>PaymentScreenSuccessful</td>\n",
       "      <td>6217807653094995999</td>\n",
       "      <td>1564055322</td>\n",
       "      <td>248</td>\n",
       "    </tr>\n",
       "  </tbody>\n",
       "</table>\n",
       "</div>"
      ],
      "text/plain": [
       "                 EventName         DeviceIDHash  EventTimestamp  ExpId\n",
       "0         MainScreenAppear  4575588528974610257      1564029816    246\n",
       "1         MainScreenAppear  7416695313311560658      1564053102    246\n",
       "2  PaymentScreenSuccessful  3518123091307005509      1564054127    248\n",
       "3         CartScreenAppear  3518123091307005509      1564054127    248\n",
       "4  PaymentScreenSuccessful  6217807653094995999      1564055322    248"
      ]
     },
     "metadata": {},
     "output_type": "display_data"
    },
    {
     "name": "stdout",
     "output_type": "stream",
     "text": [
      "<class 'pandas.core.frame.DataFrame'>\n",
      "RangeIndex: 244126 entries, 0 to 244125\n",
      "Data columns (total 4 columns):\n",
      " #   Column          Non-Null Count   Dtype \n",
      "---  ------          --------------   ----- \n",
      " 0   EventName       244126 non-null  object\n",
      " 1   DeviceIDHash    244126 non-null  int64 \n",
      " 2   EventTimestamp  244126 non-null  int64 \n",
      " 3   ExpId           244126 non-null  int64 \n",
      "dtypes: int64(3), object(1)\n",
      "memory usage: 7.5+ MB\n"
     ]
    },
    {
     "data": {
      "text/plain": [
       "None"
      ]
     },
     "metadata": {},
     "output_type": "display_data"
    }
   ],
   "source": [
    "display (data.head ())\n",
    "display (data.info ())"
   ]
  },
  {
   "cell_type": "code",
   "execution_count": 4,
   "metadata": {},
   "outputs": [
    {
     "name": "stdout",
     "output_type": "stream",
     "text": [
      "<class 'pandas.core.frame.DataFrame'>\n",
      "RangeIndex: 244126 entries, 0 to 244125\n",
      "Data columns (total 4 columns):\n",
      " #   Column      Non-Null Count   Dtype         \n",
      "---  ------      --------------   -----         \n",
      " 0   event_name  244126 non-null  object        \n",
      " 1   user_id     244126 non-null  int64         \n",
      " 2   event_time  244126 non-null  datetime64[ns]\n",
      " 3   group       244126 non-null  int64         \n",
      "dtypes: datetime64[ns](1), int64(2), object(1)\n",
      "memory usage: 7.5+ MB\n"
     ]
    }
   ],
   "source": [
    "data = data.rename(columns={'EventName':'event_name','DeviceIDHash':'user_id','EventTimestamp':'event_time','ExpId':'group'})\n",
    "data['event_time'] = pd.to_datetime(data['event_time'], unit='s')\n",
    "data.info()"
   ]
  },
  {
   "cell_type": "code",
   "execution_count": 5,
   "metadata": {},
   "outputs": [
    {
     "name": "stdout",
     "output_type": "stream",
     "text": [
      "<class 'pandas.core.frame.DataFrame'>\n",
      "RangeIndex: 244126 entries, 0 to 244125\n",
      "Data columns (total 6 columns):\n",
      " #   Column      Non-Null Count   Dtype         \n",
      "---  ------      --------------   -----         \n",
      " 0   event_name  244126 non-null  object        \n",
      " 1   user_id     244126 non-null  int64         \n",
      " 2   event_time  244126 non-null  datetime64[ns]\n",
      " 3   group       244126 non-null  int64         \n",
      " 4   date        244126 non-null  datetime64[ns]\n",
      " 5   time        244126 non-null  object        \n",
      "dtypes: datetime64[ns](2), int64(2), object(2)\n",
      "memory usage: 11.2+ MB\n"
     ]
    }
   ],
   "source": [
    "data['date'] = data['event_time'].dt.date \n",
    "data['date'] = pd.to_datetime(data['date'])\n",
    "data['time'] = data['event_time'].dt.time\n",
    "data.info()"
   ]
  },
  {
   "cell_type": "markdown",
   "metadata": {},
   "source": [
    "### Обработка пропусков и дубликатов"
   ]
  },
  {
   "cell_type": "code",
   "execution_count": 6,
   "metadata": {},
   "outputs": [
    {
     "name": "stdout",
     "output_type": "stream",
     "text": [
      " Явные дубликаты во всех строках и столбцах 413\n",
      "\n",
      "<class 'pandas.core.frame.DataFrame'>\n",
      "Int64Index: 413 entries, 453 to 242635\n",
      "Data columns (total 6 columns):\n",
      " #   Column      Non-Null Count  Dtype         \n",
      "---  ------      --------------  -----         \n",
      " 0   event_name  413 non-null    object        \n",
      " 1   user_id     413 non-null    int64         \n",
      " 2   event_time  413 non-null    datetime64[ns]\n",
      " 3   group       413 non-null    int64         \n",
      " 4   date        413 non-null    datetime64[ns]\n",
      " 5   time        413 non-null    object        \n",
      "dtypes: datetime64[ns](2), int64(2), object(2)\n",
      "memory usage: 22.6+ KB\n",
      "None\n",
      "                     event_name              user_id          event_time  \\\n",
      "453            MainScreenAppear  5613408041324010552 2019-07-30 08:19:44   \n",
      "2350           CartScreenAppear  1694940645335807244 2019-07-31 21:51:39   \n",
      "3573           MainScreenAppear   434103746454591587 2019-08-01 02:59:37   \n",
      "4076           MainScreenAppear  3761373764179762633 2019-08-01 03:47:46   \n",
      "4803           MainScreenAppear  2835328739789306622 2019-08-01 04:44:01   \n",
      "...                         ...                  ...                 ...   \n",
      "242329         MainScreenAppear  8870358373313968633 2019-08-07 19:26:44   \n",
      "242332  PaymentScreenSuccessful  4718002964983105693 2019-08-07 19:26:45   \n",
      "242360  PaymentScreenSuccessful  2382591782303281935 2019-08-07 19:27:29   \n",
      "242362         CartScreenAppear  2382591782303281935 2019-08-07 19:27:29   \n",
      "242635         MainScreenAppear  4097782667445790512 2019-08-07 19:36:58   \n",
      "\n",
      "        group       date      time  \n",
      "453       248 2019-07-30  08:19:44  \n",
      "2350      248 2019-07-31  21:51:39  \n",
      "3573      248 2019-08-01  02:59:37  \n",
      "4076      247 2019-08-01  03:47:46  \n",
      "4803      248 2019-08-01  04:44:01  \n",
      "...       ...        ...       ...  \n",
      "242329    247 2019-08-07  19:26:44  \n",
      "242332    247 2019-08-07  19:26:45  \n",
      "242360    246 2019-08-07  19:27:29  \n",
      "242362    246 2019-08-07  19:27:29  \n",
      "242635    246 2019-08-07  19:36:58  \n",
      "\n",
      "[413 rows x 6 columns]\n"
     ]
    }
   ],
   "source": [
    "print (f' Явные дубликаты во всех строках и столбцах {data.duplicated ().sum ()}')\n",
    "print ()\n",
    "duplicates = data.duplicated()\n",
    "duplicate_rows = data.loc[duplicates]\n",
    "print(duplicate_rows.info())\n",
    "print(duplicate_rows)"
   ]
  },
  {
   "cell_type": "code",
   "execution_count": 7,
   "metadata": {},
   "outputs": [
    {
     "name": "stdout",
     "output_type": "stream",
     "text": [
      "<class 'pandas.core.frame.DataFrame'>\n",
      "RangeIndex: 243713 entries, 0 to 243712\n",
      "Data columns (total 6 columns):\n",
      " #   Column      Non-Null Count   Dtype         \n",
      "---  ------      --------------   -----         \n",
      " 0   event_name  243713 non-null  object        \n",
      " 1   user_id     243713 non-null  int64         \n",
      " 2   event_time  243713 non-null  datetime64[ns]\n",
      " 3   group       243713 non-null  int64         \n",
      " 4   date        243713 non-null  datetime64[ns]\n",
      " 5   time        243713 non-null  object        \n",
      "dtypes: datetime64[ns](2), int64(2), object(2)\n",
      "memory usage: 11.2+ MB\n"
     ]
    }
   ],
   "source": [
    "data = data.drop_duplicates().reset_index(drop=True)\n",
    "data.info()"
   ]
  },
  {
   "cell_type": "code",
   "execution_count": 8,
   "metadata": {},
   "outputs": [
    {
     "data": {
      "text/plain": [
       "event_name    0\n",
       "user_id       0\n",
       "event_time    0\n",
       "group         0\n",
       "date          0\n",
       "time          0\n",
       "dtype: int64"
      ]
     },
     "metadata": {},
     "output_type": "display_data"
    }
   ],
   "source": [
    "display (data.isna ().sum ())"
   ]
  },
  {
   "cell_type": "markdown",
   "metadata": {},
   "source": [
    "По итогу предобработки пропусков невыявлено, все явный дубликаты удалены."
   ]
  },
  {
   "cell_type": "markdown",
   "metadata": {},
   "source": [
    "## Изучение и проверка данных\n",
    "Проверим следующие вопросы:\n",
    "-Сколько всего событий в логе?\n",
    "-Сколько всего пользователей в логе?\n",
    "-Сколько в среднем событий приходится на пользователя?\n",
    "-Данными за какой период вы располагаете? Найдите максимальную и минимальную дату. Постройте гистограмму по дате и времени. Можно ли быть уверенным, что у вас одинаково полные данные за весь период? Технически в логи новых дней по некоторым пользователям могут «доезжать» события из прошлого — это может «перекашивать данные». Определите, с какого момента данные полные и отбросьте более старые. Данными за какой период времени вы располагаете на самом деле?\n",
    "-Много ли событий и пользователей вы потеряли, отбросив старые данные?\n",
    "-Проверьте, что у вас есть пользователи из всех трёх экспериментальных групп."
   ]
  },
  {
   "cell_type": "code",
   "execution_count": 9,
   "metadata": {},
   "outputs": [
    {
     "data": {
      "text/plain": [
       "243713"
      ]
     },
     "metadata": {},
     "output_type": "display_data"
    },
    {
     "data": {
      "text/plain": [
       "5"
      ]
     },
     "metadata": {},
     "output_type": "display_data"
    },
    {
     "data": {
      "text/plain": [
       "243713"
      ]
     },
     "metadata": {},
     "output_type": "display_data"
    },
    {
     "data": {
      "text/plain": [
       "7551"
      ]
     },
     "metadata": {},
     "output_type": "display_data"
    }
   ],
   "source": [
    "#Количество событий и пользователей в логе\n",
    "display(data['event_name'].count(), data['event_name'].nunique())\n",
    "display(data['user_id'].count(), data['user_id'].nunique())"
   ]
  },
  {
   "cell_type": "code",
   "execution_count": 10,
   "metadata": {},
   "outputs": [
    {
     "data": {
      "text/plain": [
       "event_name    32.3\n",
       "dtype: float64"
      ]
     },
     "execution_count": 10,
     "metadata": {},
     "output_type": "execute_result"
    }
   ],
   "source": [
    "#Среднее количетсво событий пользователя\n",
    "user_event = data.groupby('user_id').agg({'event_name' : 'count'}).mean ().round (1)\n",
    "user_event"
   ]
  },
  {
   "cell_type": "code",
   "execution_count": 11,
   "metadata": {},
   "outputs": [
    {
     "name": "stderr",
     "output_type": "stream",
     "text": [
      "/tmp/ipykernel_48/3258294046.py:2: FutureWarning: Treating datetime data as categorical rather than numeric in `.describe` is deprecated and will be removed in a future version of pandas. Specify `datetime_is_numeric=True` to silence this warning and adopt the future behavior now.\n",
      "  data['event_time'].describe()\n"
     ]
    },
    {
     "data": {
      "text/plain": [
       "count                  243713\n",
       "unique                 176654\n",
       "top       2019-08-01 14:40:35\n",
       "freq                        9\n",
       "first     2019-07-25 04:43:36\n",
       "last      2019-08-07 21:15:17\n",
       "Name: event_time, dtype: object"
      ]
     },
     "execution_count": 11,
     "metadata": {},
     "output_type": "execute_result"
    }
   ],
   "source": [
    "#Изучим период для данных\n",
    "data['event_time'].describe()"
   ]
  },
  {
   "cell_type": "markdown",
   "metadata": {},
   "source": [
    "Данные содержат информацию с 25/07/2019 по 07/08/2019."
   ]
  },
  {
   "cell_type": "code",
   "execution_count": 12,
   "metadata": {},
   "outputs": [
    {
     "data": {
      "image/png": "[encoded data removed]",
      "text/plain": [
       "<Figure size 1080x360 with 1 Axes>"
      ]
     },
     "metadata": {
      "needs_background": "light"
     },
     "output_type": "display_data"
    },
    {
     "data": {
      "image/png": "[encoded data removed]",
      "text/plain": [
       "<Figure size 1080x360 with 1 Axes>"
      ]
     },
     "metadata": {
      "needs_background": "light"
     },
     "output_type": "display_data"
    }
   ],
   "source": [
    "#Строим график распределения времени\n",
    "plt.title('Распределение логов по дате и времени', loc='left')\n",
    "data['event_time'].hist(bins=100, xrot=30,  figsize=(15, 5))\n",
    "plt.show()\n",
    "\n",
    "plt.title('Распределение логов по времени суток', loc='left')\n",
    "data['event_time'].dt.hour.hist(bins=24, figsize=(15, 5))\n",
    "plt.xticks(range(0, 23))\n",
    "plt.show()"
   ]
  },
  {
   "cell_type": "markdown",
   "metadata": {},
   "source": [
    "Данные за июль - неполные. Технически в логи новых дней по некоторым пользователям могут «доезжать» события из прошлого — это может «перекашивать данные».\n",
    "Поэтому, чтобы избежать данной проблемы, берем данные с 01-08-2019 по 07/08/2019. Так же, мы видим, что основная активность пользователей происходит в дневное время."
   ]
  },
  {
   "cell_type": "code",
   "execution_count": 13,
   "metadata": {},
   "outputs": [
    {
     "name": "stdout",
     "output_type": "stream",
     "text": [
      "ДО корректировки периода всего событий: 243713, всего пользователей: 7551.\n",
      "\n",
      "ПОСЛЕ корректировки периода всего событий: 240887, всего пользователей: 7534.\n",
      "\n",
      "Изменение количества логов: -2826 (-1.2%)\n",
      "Изменение количества пользователей: -17 (-0.2%)\n"
     ]
    }
   ],
   "source": [
    "#Отбросим старые данные и оценим изменения\n",
    "before_logs = data.shape[0]\n",
    "before_users = data['user_id'].nunique()\n",
    "\n",
    "print('ДО корректировки периода всего событий: %d, всего пользователей: %d.' % (before_logs, \n",
    "                                                                                before_users))\n",
    "data = data[data['date'] >= '2019-08-01']\n",
    "print()\n",
    "\n",
    "print('ПОСЛЕ корректировки периода всего событий: %d, всего пользователей: %d.' % (data.shape[0], \n",
    "                                                                                   data['user_id'].nunique()))\n",
    "print()\n",
    "\n",
    "# diff: \n",
    "\n",
    "print('Изменение количества логов:', \n",
    "      data.shape[0]- before_logs, \n",
    "      '({:.1%})'.format((data.shape[0]-before_logs)/before_logs))\n",
    "print('Изменение количества пользователей:', \n",
    "      data['user_id'].nunique()- before_users, \n",
    "      '({:.1%})'.format((data['user_id'].nunique()-before_users)/before_users))"
   ]
  },
  {
   "cell_type": "code",
   "execution_count": 14,
   "metadata": {},
   "outputs": [
    {
     "data": {
      "text/html": [
       "<div>\n",
       "<style scoped>\n",
       "    .dataframe tbody tr th:only-of-type {\n",
       "        vertical-align: middle;\n",
       "    }\n",
       "\n",
       "    .dataframe tbody tr th {\n",
       "        vertical-align: top;\n",
       "    }\n",
       "\n",
       "    .dataframe thead th {\n",
       "        text-align: right;\n",
       "    }\n",
       "</style>\n",
       "<table border=\"1\" class=\"dataframe\">\n",
       "  <thead>\n",
       "    <tr style=\"text-align: right;\">\n",
       "      <th></th>\n",
       "      <th>user_id</th>\n",
       "      <th>event_name</th>\n",
       "    </tr>\n",
       "    <tr>\n",
       "      <th>group</th>\n",
       "      <th></th>\n",
       "      <th></th>\n",
       "    </tr>\n",
       "  </thead>\n",
       "  <tbody>\n",
       "    <tr>\n",
       "      <th>246</th>\n",
       "      <td>2484</td>\n",
       "      <td>79302</td>\n",
       "    </tr>\n",
       "    <tr>\n",
       "      <th>247</th>\n",
       "      <td>2513</td>\n",
       "      <td>77022</td>\n",
       "    </tr>\n",
       "    <tr>\n",
       "      <th>248</th>\n",
       "      <td>2537</td>\n",
       "      <td>84563</td>\n",
       "    </tr>\n",
       "  </tbody>\n",
       "</table>\n",
       "</div>"
      ],
      "text/plain": [
       "       user_id  event_name\n",
       "group                     \n",
       "246       2484       79302\n",
       "247       2513       77022\n",
       "248       2537       84563"
      ]
     },
     "execution_count": 14,
     "metadata": {},
     "output_type": "execute_result"
    }
   ],
   "source": [
    "#Проверим, всё ли в порядке с группами\n",
    "data.groupby('group').agg({'user_id': 'nunique','event_name':'count'})"
   ]
  },
  {
   "cell_type": "markdown",
   "metadata": {},
   "source": [
    "Количество пользователей в группах в общем и целом сопоставимо, количество событий немного разнится. Группа 248 имеет больше всего пользователей и событий."
   ]
  },
  {
   "cell_type": "markdown",
   "metadata": {},
   "source": [
    "## Изучите воронку событий\n",
    "-Посмотрите, какие события есть в логах, как часто они встречаются. Отсортируйте события по частоте.\n",
    "-Посчитайте, сколько пользователей совершали каждое из этих событий. Отсортируйте события по числу пользователей. Посчитайте долю пользователей, которые хоть раз совершали событие.\n",
    "-Предположите, в каком порядке происходят события. Все ли они выстраиваются в последовательную цепочку? Их не нужно учитывать при расчёте воронки.\n",
    "-По воронке событий посчитайте, какая доля пользователей проходит на следующий шаг воронки (от числа пользователей на предыдущем). То есть для последовательности событий A → B → C посчитайте отношение числа пользователей с событием B к количеству пользователей с событием A, а также отношение числа пользователей с событием C к количеству пользователей с событием B.\n",
    "-На каком шаге теряете больше всего пользователей?\n",
    "-Какая доля пользователей доходит от первого события до оплаты?"
   ]
  },
  {
   "cell_type": "code",
   "execution_count": 15,
   "metadata": {},
   "outputs": [
    {
     "data": {
      "text/html": [
       "<div>\n",
       "<style scoped>\n",
       "    .dataframe tbody tr th:only-of-type {\n",
       "        vertical-align: middle;\n",
       "    }\n",
       "\n",
       "    .dataframe tbody tr th {\n",
       "        vertical-align: top;\n",
       "    }\n",
       "\n",
       "    .dataframe thead th {\n",
       "        text-align: right;\n",
       "    }\n",
       "</style>\n",
       "<table border=\"1\" class=\"dataframe\">\n",
       "  <thead>\n",
       "    <tr style=\"text-align: right;\">\n",
       "      <th></th>\n",
       "      <th>event_name</th>\n",
       "      <th>total_events</th>\n",
       "    </tr>\n",
       "  </thead>\n",
       "  <tbody>\n",
       "    <tr>\n",
       "      <th>1</th>\n",
       "      <td>MainScreenAppear</td>\n",
       "      <td>117328</td>\n",
       "    </tr>\n",
       "    <tr>\n",
       "      <th>2</th>\n",
       "      <td>OffersScreenAppear</td>\n",
       "      <td>46333</td>\n",
       "    </tr>\n",
       "    <tr>\n",
       "      <th>0</th>\n",
       "      <td>CartScreenAppear</td>\n",
       "      <td>42303</td>\n",
       "    </tr>\n",
       "    <tr>\n",
       "      <th>3</th>\n",
       "      <td>PaymentScreenSuccessful</td>\n",
       "      <td>33918</td>\n",
       "    </tr>\n",
       "    <tr>\n",
       "      <th>4</th>\n",
       "      <td>Tutorial</td>\n",
       "      <td>1005</td>\n",
       "    </tr>\n",
       "  </tbody>\n",
       "</table>\n",
       "</div>"
      ],
      "text/plain": [
       "                event_name  total_events\n",
       "1         MainScreenAppear        117328\n",
       "2       OffersScreenAppear         46333\n",
       "0         CartScreenAppear         42303\n",
       "3  PaymentScreenSuccessful         33918\n",
       "4                 Tutorial          1005"
      ]
     },
     "execution_count": 15,
     "metadata": {},
     "output_type": "execute_result"
    }
   ],
   "source": [
    "#Проверим какие события есть и как часто они встречаются\n",
    "events = (data.\n",
    "          groupby('event_name').\n",
    "          agg({'user_id': 'count'}).\n",
    "          reset_index().\n",
    "          rename(columns={'user_id' : 'total_events'}).\n",
    "          sort_values(by='total_events', ascending=False))\n",
    "events"
   ]
  },
  {
   "cell_type": "code",
   "execution_count": 16,
   "metadata": {},
   "outputs": [
    {
     "data": {
      "image/png": "[encoded data removed]",
      "text/plain": [
       "<Figure size 1080x360 with 1 Axes>"
      ]
     },
     "metadata": {
      "needs_background": "light"
     },
     "output_type": "display_data"
    }
   ],
   "source": [
    "plt.figure(figsize=(15, 5))\n",
    "ax = sns.barplot(x='total_events', y='event_name', data=events)\n",
    "ax.set_title('Частота событий в логах', loc='Left')\n",
    "ax.set_xlabel('Количество') \n",
    "ax.set_ylabel('') \n",
    "plt.show()"
   ]
  },
  {
   "cell_type": "markdown",
   "metadata": {},
   "source": [
    "MainScreenAppear (Главный экран) увидели 117328 раз;\n",
    "OffersScreenAppear (Каталог предложений) увидели 46333 раза;\n",
    "CartScreenAppear (Карточка товара) увидели 42303 раза;\n",
    "PaymentScreenSuccessful (Экран с подтверждением успешной оплаты) увидели 33918 раз;\n",
    "Tutorial (Урок) просмотрели 1005 раз."
   ]
  },
  {
   "cell_type": "code",
   "execution_count": 17,
   "metadata": {},
   "outputs": [
    {
     "data": {
      "text/html": [
       "<div>\n",
       "<style scoped>\n",
       "    .dataframe tbody tr th:only-of-type {\n",
       "        vertical-align: middle;\n",
       "    }\n",
       "\n",
       "    .dataframe tbody tr th {\n",
       "        vertical-align: top;\n",
       "    }\n",
       "\n",
       "    .dataframe thead th {\n",
       "        text-align: right;\n",
       "    }\n",
       "</style>\n",
       "<table border=\"1\" class=\"dataframe\">\n",
       "  <thead>\n",
       "    <tr style=\"text-align: right;\">\n",
       "      <th></th>\n",
       "      <th>event_name</th>\n",
       "      <th>total_users</th>\n",
       "      <th>percent</th>\n",
       "    </tr>\n",
       "  </thead>\n",
       "  <tbody>\n",
       "    <tr>\n",
       "      <th>1</th>\n",
       "      <td>MainScreenAppear</td>\n",
       "      <td>7419</td>\n",
       "      <td>98.47</td>\n",
       "    </tr>\n",
       "    <tr>\n",
       "      <th>2</th>\n",
       "      <td>OffersScreenAppear</td>\n",
       "      <td>4593</td>\n",
       "      <td>60.96</td>\n",
       "    </tr>\n",
       "    <tr>\n",
       "      <th>0</th>\n",
       "      <td>CartScreenAppear</td>\n",
       "      <td>3734</td>\n",
       "      <td>49.56</td>\n",
       "    </tr>\n",
       "    <tr>\n",
       "      <th>3</th>\n",
       "      <td>PaymentScreenSuccessful</td>\n",
       "      <td>3539</td>\n",
       "      <td>46.97</td>\n",
       "    </tr>\n",
       "    <tr>\n",
       "      <th>4</th>\n",
       "      <td>Tutorial</td>\n",
       "      <td>840</td>\n",
       "      <td>11.15</td>\n",
       "    </tr>\n",
       "  </tbody>\n",
       "</table>\n",
       "</div>"
      ],
      "text/plain": [
       "                event_name  total_users  percent\n",
       "1         MainScreenAppear         7419    98.47\n",
       "2       OffersScreenAppear         4593    60.96\n",
       "0         CartScreenAppear         3734    49.56\n",
       "3  PaymentScreenSuccessful         3539    46.97\n",
       "4                 Tutorial          840    11.15"
      ]
     },
     "execution_count": 17,
     "metadata": {},
     "output_type": "execute_result"
    }
   ],
   "source": [
    "#Отсортируем события по числу пользователей. Посчитаем долю пользователей, которые хоть раз совершали событие\n",
    "users = (data.\n",
    "          groupby('event_name').\n",
    "          agg({'user_id': 'nunique'}).\n",
    "          reset_index().\n",
    "          rename(columns={'user_id' : 'total_users'}).\n",
    "          sort_values(by='total_users', ascending=False))\n",
    "users['percent'] = (users['total_users'] / data['user_id'].nunique() * 100).round(2)  \n",
    "users\n"
   ]
  },
  {
   "cell_type": "markdown",
   "metadata": {},
   "source": [
    "Главную страницу увидели 7419 пользователей (98.5% от общего числа пользователей) - почти все\n",
    "Каталог предложений просмотрели 4593 пользователей (61% от общего числа)\n",
    "Карточку товара 3734 пользователя (49.6% от общего числа)\n",
    "Завершили оплату 3539 пользователей (47% от общего числа)\n",
    "Урок просмотрели 840 пользователей (11% от общего числа)\n",
    "\n",
    "Мы видим, что все события выстраиваются в цепочку действий, кроме просмотра урока (Tutorial). Для того, чтобы посмотреть урок (как пользоваться приложением?) не обязательно нужно что-то купить. Шаг Tutorial из дальнейшей цепочки уберем.\n",
    "\n",
    "Тогда последовательность действий видится такой:\n",
    "Главный экран\n",
    "Каталог предложений\n",
    "Карточка товара\n",
    "Экран с подтверждением успешной оплаты"
   ]
  },
  {
   "cell_type": "code",
   "execution_count": 18,
   "metadata": {
    "scrolled": true
   },
   "outputs": [
    {
     "data": {
      "text/html": [
       "<div>\n",
       "<style scoped>\n",
       "    .dataframe tbody tr th:only-of-type {\n",
       "        vertical-align: middle;\n",
       "    }\n",
       "\n",
       "    .dataframe tbody tr th {\n",
       "        vertical-align: top;\n",
       "    }\n",
       "\n",
       "    .dataframe thead th {\n",
       "        text-align: right;\n",
       "    }\n",
       "</style>\n",
       "<table border=\"1\" class=\"dataframe\">\n",
       "  <thead>\n",
       "    <tr style=\"text-align: right;\">\n",
       "      <th></th>\n",
       "      <th>event_name</th>\n",
       "      <th>count</th>\n",
       "      <th>nunique</th>\n",
       "    </tr>\n",
       "  </thead>\n",
       "  <tbody>\n",
       "    <tr>\n",
       "      <th>0</th>\n",
       "      <td>MainScreenAppear</td>\n",
       "      <td>117328</td>\n",
       "      <td>7419</td>\n",
       "    </tr>\n",
       "    <tr>\n",
       "      <th>1</th>\n",
       "      <td>OffersScreenAppear</td>\n",
       "      <td>46333</td>\n",
       "      <td>4593</td>\n",
       "    </tr>\n",
       "    <tr>\n",
       "      <th>2</th>\n",
       "      <td>CartScreenAppear</td>\n",
       "      <td>42303</td>\n",
       "      <td>3734</td>\n",
       "    </tr>\n",
       "    <tr>\n",
       "      <th>3</th>\n",
       "      <td>PaymentScreenSuccessful</td>\n",
       "      <td>33918</td>\n",
       "      <td>3539</td>\n",
       "    </tr>\n",
       "    <tr>\n",
       "      <th>4</th>\n",
       "      <td>Tutorial</td>\n",
       "      <td>1005</td>\n",
       "      <td>840</td>\n",
       "    </tr>\n",
       "  </tbody>\n",
       "</table>\n",
       "</div>"
      ],
      "text/plain": [
       "                event_name   count  nunique\n",
       "0         MainScreenAppear  117328     7419\n",
       "1       OffersScreenAppear   46333     4593\n",
       "2         CartScreenAppear   42303     3734\n",
       "3  PaymentScreenSuccessful   33918     3539\n",
       "4                 Tutorial    1005      840"
      ]
     },
     "metadata": {},
     "output_type": "display_data"
    },
    {
     "data": {
      "text/html": [
       "<div>\n",
       "<style scoped>\n",
       "    .dataframe tbody tr th:only-of-type {\n",
       "        vertical-align: middle;\n",
       "    }\n",
       "\n",
       "    .dataframe tbody tr th {\n",
       "        vertical-align: top;\n",
       "    }\n",
       "\n",
       "    .dataframe thead th {\n",
       "        text-align: right;\n",
       "    }\n",
       "</style>\n",
       "<table border=\"1\" class=\"dataframe\">\n",
       "  <thead>\n",
       "    <tr style=\"text-align: right;\">\n",
       "      <th></th>\n",
       "      <th>event_name</th>\n",
       "      <th>users_count</th>\n",
       "      <th>users_unique</th>\n",
       "      <th>conv_step</th>\n",
       "      <th>conv_step_unique</th>\n",
       "    </tr>\n",
       "  </thead>\n",
       "  <tbody>\n",
       "    <tr>\n",
       "      <th>0</th>\n",
       "      <td>MainScreenAppear</td>\n",
       "      <td>117328</td>\n",
       "      <td>7419</td>\n",
       "      <td>100.00</td>\n",
       "      <td>100.00</td>\n",
       "    </tr>\n",
       "    <tr>\n",
       "      <th>1</th>\n",
       "      <td>OffersScreenAppear</td>\n",
       "      <td>46333</td>\n",
       "      <td>4593</td>\n",
       "      <td>39.49</td>\n",
       "      <td>61.91</td>\n",
       "    </tr>\n",
       "    <tr>\n",
       "      <th>2</th>\n",
       "      <td>CartScreenAppear</td>\n",
       "      <td>42303</td>\n",
       "      <td>3734</td>\n",
       "      <td>91.30</td>\n",
       "      <td>81.30</td>\n",
       "    </tr>\n",
       "    <tr>\n",
       "      <th>3</th>\n",
       "      <td>PaymentScreenSuccessful</td>\n",
       "      <td>33918</td>\n",
       "      <td>3539</td>\n",
       "      <td>80.18</td>\n",
       "      <td>94.78</td>\n",
       "    </tr>\n",
       "    <tr>\n",
       "      <th>4</th>\n",
       "      <td>Tutorial</td>\n",
       "      <td>1005</td>\n",
       "      <td>840</td>\n",
       "      <td>2.96</td>\n",
       "      <td>23.74</td>\n",
       "    </tr>\n",
       "  </tbody>\n",
       "</table>\n",
       "</div>"
      ],
      "text/plain": [
       "                event_name  users_count  users_unique  conv_step  \\\n",
       "0         MainScreenAppear       117328          7419     100.00   \n",
       "1       OffersScreenAppear        46333          4593      39.49   \n",
       "2         CartScreenAppear        42303          3734      91.30   \n",
       "3  PaymentScreenSuccessful        33918          3539      80.18   \n",
       "4                 Tutorial         1005           840       2.96   \n",
       "\n",
       "   conv_step_unique  \n",
       "0            100.00  \n",
       "1             61.91  \n",
       "2             81.30  \n",
       "3             94.78  \n",
       "4             23.74  "
      ]
     },
     "metadata": {},
     "output_type": "display_data"
    }
   ],
   "source": [
    "# считаем % по шагам (от предыдущего шага)\n",
    "\n",
    "\n",
    "unit_event = data.pivot_table(\n",
    "    index='event_name', \n",
    "    values='user_id',\n",
    "    aggfunc=('nunique', 'count')).sort_values (by='count',ascending = False).reset_index()\n",
    "\n",
    "display(unit_event)\n",
    "unit_event = unit_event.rename(columns={'count':'users_count','nunique':'users_unique'})\n",
    "\n",
    "for i, row in enumerate(unit_event.itertuples(), start=0):\n",
    "    if i == 0:\n",
    "        unit_event.at[row.Index, 'conv_step'] = 100\n",
    "        unit_event.at[row.Index, 'conv_step_unique'] = 100\n",
    "    else:\n",
    "        prev_row = unit_event.iloc[i - 1]\n",
    "        unit_event.at[row.Index, 'conv_step'] = (row.users_count / prev_row.users_count * 100).round(2)\n",
    "        unit_event.at[row.Index, 'conv_step_unique'] = (row.users_unique / prev_row.users_unique * 100).round(2)\n",
    "        \n",
    "        \n",
    "display(unit_event)\n",
    "\n"
   ]
  },
  {
   "cell_type": "markdown",
   "metadata": {},
   "source": [
    "Мы видим, что наибольшее количество пользователей теряется после первого шага (более 38%). "
   ]
  },
  {
   "cell_type": "markdown",
   "metadata": {},
   "source": [
    "## Изучение результатов эксперимента\n",
    "\n",
    "-Сколько пользователей в каждой экспериментальной группе?\n",
    "-Есть 2 контрольные группы для А/А-эксперимента, чтобы проверить корректность всех механизмов и расчётов. Проверьте, находят ли статистические критерии разницу между выборками 246 и 247.\n",
    "-Выберите самое популярное событие. Посчитайте число пользователей, совершивших это событие в каждой из контрольных групп. Посчитайте долю пользователей, совершивших это событие. Проверьте, будет ли отличие между группами статистически достоверным. Проделайте то же самое для всех других событий (удобно обернуть проверку в отдельную функцию). Можно ли сказать, что разбиение на группы работает корректно?\n",
    "-Аналогично поступите с группой с изменённым шрифтом. Сравните результаты с каждой из контрольных групп в отдельности по каждому событию. Сравните результаты с объединённой контрольной группой. Какие выводы из эксперимента можно сделать?\n",
    "-Какой уровень значимости вы выбрали при проверке статистических гипотез выше? Посчитайте, сколько проверок статистических гипотез вы сделали. При уровне значимости 0.1 каждый десятый раз можно получать ложный результат. Какой уровень значимости стоит применить? Если вы хотите изменить его, проделайте предыдущие пункты и проверьте свои выводы."
   ]
  },
  {
   "cell_type": "code",
   "execution_count": 19,
   "metadata": {
    "scrolled": true
   },
   "outputs": [
    {
     "data": {
      "text/plain": [
       "group\n",
       "246    2484\n",
       "247    2513\n",
       "248    2537\n",
       "Name: user_id, dtype: int64"
      ]
     },
     "execution_count": 19,
     "metadata": {},
     "output_type": "execute_result"
    }
   ],
   "source": [
    "#Общее количество пользователей в каждой группе\n",
    "data_grouped = data.groupby('group')['user_id'].agg('nunique')\n",
    "data_grouped"
   ]
  },
  {
   "cell_type": "code",
   "execution_count": 20,
   "metadata": {},
   "outputs": [
    {
     "name": "stdout",
     "output_type": "stream",
     "text": [
      "<class 'pandas.core.frame.DataFrame'>\n",
      "Index: 4 entries, 246 to 248\n",
      "Data columns (total 5 columns):\n",
      " #   Column                   Non-Null Count  Dtype\n",
      "---  ------                   --------------  -----\n",
      " 0   CartScreenAppear         4 non-null      int64\n",
      " 1   MainScreenAppear         4 non-null      int64\n",
      " 2   OffersScreenAppear       4 non-null      int64\n",
      " 3   PaymentScreenSuccessful  4 non-null      int64\n",
      " 4   user_count               4 non-null      int64\n",
      "dtypes: int64(5)\n",
      "memory usage: 192.0+ bytes\n"
     ]
    },
    {
     "data": {
      "text/html": [
       "<div>\n",
       "<style scoped>\n",
       "    .dataframe tbody tr th:only-of-type {\n",
       "        vertical-align: middle;\n",
       "    }\n",
       "\n",
       "    .dataframe tbody tr th {\n",
       "        vertical-align: top;\n",
       "    }\n",
       "\n",
       "    .dataframe thead th {\n",
       "        text-align: right;\n",
       "    }\n",
       "</style>\n",
       "<table border=\"1\" class=\"dataframe\">\n",
       "  <thead>\n",
       "    <tr style=\"text-align: right;\">\n",
       "      <th>event_name</th>\n",
       "      <th>CartScreenAppear</th>\n",
       "      <th>MainScreenAppear</th>\n",
       "      <th>OffersScreenAppear</th>\n",
       "      <th>PaymentScreenSuccessful</th>\n",
       "      <th>user_count</th>\n",
       "    </tr>\n",
       "  </thead>\n",
       "  <tbody>\n",
       "    <tr>\n",
       "      <th>246</th>\n",
       "      <td>1266</td>\n",
       "      <td>2450</td>\n",
       "      <td>1542</td>\n",
       "      <td>1200</td>\n",
       "      <td>2484</td>\n",
       "    </tr>\n",
       "    <tr>\n",
       "      <th>247</th>\n",
       "      <td>1238</td>\n",
       "      <td>2476</td>\n",
       "      <td>1520</td>\n",
       "      <td>1158</td>\n",
       "      <td>2513</td>\n",
       "    </tr>\n",
       "    <tr>\n",
       "      <th>246_247</th>\n",
       "      <td>2504</td>\n",
       "      <td>4926</td>\n",
       "      <td>3062</td>\n",
       "      <td>2358</td>\n",
       "      <td>4997</td>\n",
       "    </tr>\n",
       "    <tr>\n",
       "      <th>248</th>\n",
       "      <td>1230</td>\n",
       "      <td>2493</td>\n",
       "      <td>1531</td>\n",
       "      <td>1181</td>\n",
       "      <td>2537</td>\n",
       "    </tr>\n",
       "  </tbody>\n",
       "</table>\n",
       "</div>"
      ],
      "text/plain": [
       "event_name  CartScreenAppear  MainScreenAppear  OffersScreenAppear  \\\n",
       "246                     1266              2450                1542   \n",
       "247                     1238              2476                1520   \n",
       "246_247                 2504              4926                3062   \n",
       "248                     1230              2493                1531   \n",
       "\n",
       "event_name  PaymentScreenSuccessful  user_count  \n",
       "246                            1200        2484  \n",
       "247                            1158        2513  \n",
       "246_247                        2358        4997  \n",
       "248                            1181        2537  "
      ]
     },
     "metadata": {},
     "output_type": "display_data"
    },
    {
     "data": {
      "text/plain": [
       "Index(['CartScreenAppear', 'MainScreenAppear', 'OffersScreenAppear',\n",
       "       'PaymentScreenSuccessful', 'user_count'],\n",
       "      dtype='object', name='event_name')"
      ]
     },
     "metadata": {},
     "output_type": "display_data"
    }
   ],
   "source": [
    "#Распределим участников в каждой группе по этапам прохождения воронки\n",
    "data = data[data['event_name'] != 'Tutorial']\n",
    "\n",
    "table = data.pivot_table(index='group',columns='event_name', values='user_id', aggfunc='nunique').reset_index()\n",
    "table['user_count'] = table['group'].apply(lambda x: data_grouped.loc[x])\n",
    "table = table.set_index('group')\n",
    "\n",
    "groups = table.loc[246] + table.loc[247]\n",
    "groups.name = '246_247'\n",
    "table = table.append([groups])\n",
    "table = table.reindex([246, 247, '246_247', 248])\n",
    "table.info()\n",
    "display(table)\n",
    "display(table.columns)"
   ]
  },
  {
   "cell_type": "code",
   "execution_count": 21,
   "metadata": {},
   "outputs": [],
   "source": [
    "#Напишем функцию для проверки статистической значимости\n",
    "#Фнукция принимает на входе 4 значения с логами и проверяет есть ли стат разница между долями пользователей \n",
    "\n",
    "def z_test(nusers1, nusers2, success1, success2, alpha):\n",
    " \n",
    "    # пропорции успехов в группах:\n",
    "    p1 = success1/nusers1\n",
    "    p2 = success2/nusers2\n",
    "    \n",
    "    # пропорция успехов в комбинированном датасете:\n",
    "    p_combined = (success1 + success2) / (nusers1 + nusers2)\n",
    "\n",
    "    # разница пропорций в датасетах\n",
    "    difference = p1 - p2 \n",
    "\n",
    "    # считаем статистику в ст.отклонениях стандартного нормального распределения\n",
    "    z_value = difference /  np.sqrt(p_combined * (1 - p_combined) * (1/nusers1 + 1/nusers2))\n",
    "\n",
    "    # задаем стандартное нормальное распределение (среднее 0, ст.отклонение 1)\n",
    "    distr = st.norm(0, 1)  \n",
    "\n",
    "    p_value = (1 - distr.cdf(abs(z_value))) * 2   #тест двусторонний, удваиваем результат\n",
    "    \n",
    "    \n",
    "    print('p-значение: ', p_value.round(4))\n",
    "\n",
    "    if p_value < alpha:\n",
    "        print('Отвергаем нулевую гипотезу: между долями есть разница')\n",
    "    else:\n",
    "        print(\n",
    "        'Не получилось отвергнуть нулевую гипотезу, нет оснований считать доли разными')"
   ]
  },
  {
   "cell_type": "markdown",
   "metadata": {},
   "source": [
    "Согласно предложенному процессу, нам нужно будет сопоставить доли по каждому событию между:\n",
    "-контрольными группами 246 и 247;\n",
    "-каждой из контрольной группы по отдельности и экспериментальной (246-248 и 247-248);\n",
    "-объединенной контрольной группой и экспериментальной (246+247 и 248)."
   ]
  },
  {
   "cell_type": "markdown",
   "metadata": {},
   "source": [
    "Введём гипотезы.\n",
    "Н0: доли уникальных посетителей, попавших на этап воронки, одинаковы.\n",
    "Н1: доли уникальных посетителей, попавших на этап воронки, отличаются."
   ]
  },
  {
   "cell_type": "code",
   "execution_count": 22,
   "metadata": {},
   "outputs": [
    {
     "name": "stdout",
     "output_type": "stream",
     "text": [
      "Событие: CartScreenAppear\n",
      "p-значение:  0.2288\n",
      "Не получилось отвергнуть нулевую гипотезу, нет оснований считать доли разными\n",
      "Событие: MainScreenAppear\n",
      "p-значение:  0.7571\n",
      "Не получилось отвергнуть нулевую гипотезу, нет оснований считать доли разными\n",
      "Событие: OffersScreenAppear\n",
      "p-значение:  0.2481\n",
      "Не получилось отвергнуть нулевую гипотезу, нет оснований считать доли разными\n",
      "Событие: PaymentScreenSuccessful\n",
      "p-значение:  0.1146\n",
      "Не получилось отвергнуть нулевую гипотезу, нет оснований считать доли разными\n"
     ]
    }
   ],
   "source": [
    "# проверим, есть ли статистически значимая разница между контрольными группами 246 и 247:\n",
    "group1 = 246\n",
    "group2 = 247\n",
    "for event in range(4):\n",
    "        curr_event = table.columns[event]\n",
    "        print('Событие:', curr_event)\n",
    "        z_test(table['user_count'][group1],table['user_count'][group2],table[curr_event][group1],table[curr_event][group2],.01)\n",
    "   "
   ]
  },
  {
   "cell_type": "markdown",
   "metadata": {},
   "source": [
    "Между группами 246 и 247 ни по одному событию нет статистически достоверного отличия при заданном уровне значимости, а значит, приступаем к A/B-тестированию."
   ]
  },
  {
   "cell_type": "code",
   "execution_count": 23,
   "metadata": {},
   "outputs": [
    {
     "name": "stdout",
     "output_type": "stream",
     "text": [
      "\n",
      "Сравнение групп 246 и 248.\n",
      "Событие: CartScreenAppear\n",
      "p-значение:  0.0784\n",
      "Не получилось отвергнуть нулевую гипотезу, нет оснований считать доли разными\n",
      "Событие: MainScreenAppear\n",
      "p-значение:  0.295\n",
      "Не получилось отвергнуть нулевую гипотезу, нет оснований считать доли разными\n",
      "Событие: OffersScreenAppear\n",
      "p-значение:  0.2084\n",
      "Не получилось отвергнуть нулевую гипотезу, нет оснований считать доли разными\n",
      "Событие: PaymentScreenSuccessful\n",
      "p-значение:  0.2123\n",
      "Не получилось отвергнуть нулевую гипотезу, нет оснований считать доли разными\n",
      "\n",
      "Сравнение групп 247 и 248.\n",
      "Событие: CartScreenAppear\n",
      "p-значение:  0.5786\n",
      "Не получилось отвергнуть нулевую гипотезу, нет оснований считать доли разными\n",
      "Событие: MainScreenAppear\n",
      "p-значение:  0.4587\n",
      "Не получилось отвергнуть нулевую гипотезу, нет оснований считать доли разными\n",
      "Событие: OffersScreenAppear\n",
      "p-значение:  0.9198\n",
      "Не получилось отвергнуть нулевую гипотезу, нет оснований считать доли разными\n",
      "Событие: PaymentScreenSuccessful\n",
      "p-значение:  0.7373\n",
      "Не получилось отвергнуть нулевую гипотезу, нет оснований считать доли разными\n",
      "\n",
      "Сравнение групп 246_247 и 248.\n",
      "Событие: CartScreenAppear\n",
      "p-значение:  0.1818\n",
      "Не получилось отвергнуть нулевую гипотезу, нет оснований считать доли разными\n",
      "Событие: MainScreenAppear\n",
      "p-значение:  0.2942\n",
      "Не получилось отвергнуть нулевую гипотезу, нет оснований считать доли разными\n",
      "Событие: OffersScreenAppear\n",
      "p-значение:  0.4343\n",
      "Не получилось отвергнуть нулевую гипотезу, нет оснований считать доли разными\n",
      "Событие: PaymentScreenSuccessful\n",
      "p-значение:  0.6004\n",
      "Не получилось отвергнуть нулевую гипотезу, нет оснований считать доли разными\n"
     ]
    }
   ],
   "source": [
    "# проверим, есть ли статистически значимая разница между всеми группами:\n",
    "for i in range(3):\n",
    "    group1 = table.index[i]\n",
    "    group2 = 248\n",
    "    print()\n",
    "    print(f'Сравнение групп {group1} и {group2}.')\n",
    "    for event in range(4):\n",
    "        curr_event = table.columns[event]\n",
    "        print('Событие:', curr_event)\n",
    "        z_test(table['user_count'][group1],table['user_count'][group2],table[curr_event][group1],table[curr_event][group2],.01)"
   ]
  },
  {
   "cell_type": "markdown",
   "metadata": {},
   "source": [
    "Фиксируем, что изменение шрифтов во всём приложении на поведение пользователей не повлияло. Статистически значимой разницы мы не обнаружили.\n"
   ]
  },
  {
   "cell_type": "markdown",
   "metadata": {},
   "source": [
    "## Вывод\n",
    "В результате исследования были проанализированы поведение покупателей на основании логов пользователей, а так же, результаты А/А/В-теста. После предобработки данных было рассмотрено поведение 7419-ти пользователей мобильного приложения.\n",
    "\n",
    "Было выявлено, что:\n",
    "\n",
    "Главную страницу увидели 7419 пользователей (100% от общего числа пользователей);\n",
    "Страницу товара просмотрели 4593 пользователей (61% от общего числа);\n",
    "Карточку просмотрели 3734 пользователя (50% от общего числа);\n",
    "Завершили оплату 3539 пользователей (47% от общего числа).\n",
    "Еще одно событие (Tutorial) было исключено из анализа ввиду необязательного прохождения и отсутствия влияния на остальные шаги.\n",
    "\n",
    "Большее количество пользователей приложение теряло после первого шага (более 38%).\n",
    "Был проанализирован результат А/А/В-эксперимента(изменение шрифта во всем приложении), для этого были ипользованы логи событий за неделю (с 01/08/2019 по 07/08/2019).\n",
    "\n",
    "В эксперименте были учтено поведение пользователей, разделенных на три группы:\n",
    "\n",
    "246-ая - 2484 пользователя;\n",
    "247-ая - 2513 пользователя;\n",
    "248-ая - 2537 пользователя.\n",
    "Согласно предложенному процессу, нам нужно было сопоставить доли пользователей по каждому событию между:\n",
    "-контрольными группами 246 и 247;\n",
    "-каждой из контрольной группы по отдельности и экспериментальной (246-248 и 247-248);\n",
    "-объединенной контрольной группой и экспериментальной (246+247 и 248).\n",
    "\n",
    "Множесто А/В-тестов, проведённых по каждому из событий, не обнаружили статистически значимой разницы между группами. Т.е. изменение шрифтов во всём приложении на поведение пользователей не повлияло.\n",
    "Однако стоит учитывать, что вероятность ни разу не ошибиться при 16 тестах равна: (1-0.99)^16 = 0.85, это довольно высокий показатель."
   ]
  }
 ],
 "metadata": {
  "ExecuteTimeLog": [
   {
    "duration": 2022,
    "start_time": "2023-05-02T09:58:26.697Z"
   },
   {
    "duration": 767,
    "start_time": "2023-05-02T09:58:58.057Z"
   },
   {
    "duration": 49,
    "start_time": "2023-05-02T09:59:12.807Z"
   },
   {
    "duration": 52,
    "start_time": "2023-05-02T09:59:26.901Z"
   },
   {
    "duration": 333,
    "start_time": "2023-05-02T10:02:39.508Z"
   },
   {
    "duration": 25,
    "start_time": "2023-05-02T10:02:41.350Z"
   },
   {
    "duration": 734,
    "start_time": "2023-05-02T10:03:49.477Z"
   },
   {
    "duration": 36,
    "start_time": "2023-05-02T10:03:50.213Z"
   },
   {
    "duration": 231,
    "start_time": "2023-05-02T10:04:01.002Z"
   },
   {
    "duration": 304,
    "start_time": "2023-05-02T10:06:31.195Z"
   },
   {
    "duration": 42,
    "start_time": "2023-05-02T10:06:32.950Z"
   },
   {
    "duration": 123,
    "start_time": "2023-05-02T10:17:15.931Z"
   },
   {
    "duration": 12,
    "start_time": "2023-05-02T10:17:20.995Z"
   },
   {
    "duration": 126,
    "start_time": "2023-05-02T10:17:35.641Z"
   },
   {
    "duration": 13,
    "start_time": "2023-05-02T10:17:45.747Z"
   },
   {
    "duration": 34,
    "start_time": "2023-05-02T10:18:13.406Z"
   },
   {
    "duration": 28,
    "start_time": "2023-05-02T10:18:20.006Z"
   },
   {
    "duration": 12,
    "start_time": "2023-05-02T10:25:50.903Z"
   },
   {
    "duration": 18,
    "start_time": "2023-05-02T10:25:52.446Z"
   },
   {
    "duration": 13,
    "start_time": "2023-05-02T10:26:05.901Z"
   },
   {
    "duration": 25,
    "start_time": "2023-05-02T10:26:13.555Z"
   },
   {
    "duration": 25,
    "start_time": "2023-05-02T10:26:25.352Z"
   },
   {
    "duration": 54,
    "start_time": "2023-05-02T10:27:58.097Z"
   },
   {
    "duration": 121,
    "start_time": "2023-05-02T10:28:12.315Z"
   },
   {
    "duration": 138,
    "start_time": "2023-05-02T10:28:51.686Z"
   },
   {
    "duration": 192,
    "start_time": "2023-05-02T10:29:41.788Z"
   },
   {
    "duration": 158,
    "start_time": "2023-05-02T10:30:10.519Z"
   },
   {
    "duration": 165,
    "start_time": "2023-05-02T10:30:26.596Z"
   },
   {
    "duration": 152,
    "start_time": "2023-05-02T10:30:33.112Z"
   },
   {
    "duration": 175,
    "start_time": "2023-05-02T10:30:37.605Z"
   },
   {
    "duration": 153,
    "start_time": "2023-05-02T10:32:23.293Z"
   },
   {
    "duration": 185,
    "start_time": "2023-05-02T10:32:27.394Z"
   },
   {
    "duration": 137,
    "start_time": "2023-05-02T10:34:40.855Z"
   },
   {
    "duration": 52,
    "start_time": "2023-05-02T10:40:13.775Z"
   },
   {
    "duration": 14,
    "start_time": "2023-05-02T10:40:30.701Z"
   },
   {
    "duration": 191,
    "start_time": "2023-05-02T10:40:37.997Z"
   },
   {
    "duration": 172,
    "start_time": "2023-05-02T10:43:41.411Z"
   },
   {
    "duration": 117,
    "start_time": "2023-05-02T10:44:50.648Z"
   },
   {
    "duration": 161,
    "start_time": "2023-05-02T10:44:57.479Z"
   },
   {
    "duration": 335,
    "start_time": "2023-05-02T10:47:51.947Z"
   },
   {
    "duration": 278,
    "start_time": "2023-05-02T10:47:58.240Z"
   },
   {
    "duration": 280,
    "start_time": "2023-05-02T10:48:06.231Z"
   },
   {
    "duration": 272,
    "start_time": "2023-05-02T10:48:11.329Z"
   },
   {
    "duration": 268,
    "start_time": "2023-05-02T10:48:55.814Z"
   },
   {
    "duration": 2544,
    "start_time": "2023-05-02T10:49:21.133Z"
   },
   {
    "duration": 277,
    "start_time": "2023-05-02T10:49:33.455Z"
   },
   {
    "duration": 255,
    "start_time": "2023-05-02T10:55:07.111Z"
   },
   {
    "duration": 270,
    "start_time": "2023-05-02T10:55:27.707Z"
   },
   {
    "duration": 350,
    "start_time": "2023-05-02T10:56:31.828Z"
   },
   {
    "duration": 297,
    "start_time": "2023-05-02T10:56:37.508Z"
   },
   {
    "duration": 247,
    "start_time": "2023-05-02T10:56:44.424Z"
   },
   {
    "duration": 2759,
    "start_time": "2023-05-02T10:57:33.306Z"
   },
   {
    "duration": 258,
    "start_time": "2023-05-02T10:57:47.366Z"
   },
   {
    "duration": 316,
    "start_time": "2023-05-02T10:57:52.511Z"
   },
   {
    "duration": 336,
    "start_time": "2023-05-02T11:30:08.156Z"
   },
   {
    "duration": 194,
    "start_time": "2023-05-02T11:36:17.357Z"
   },
   {
    "duration": 48,
    "start_time": "2023-05-02T11:38:22.320Z"
   },
   {
    "duration": 266,
    "start_time": "2023-05-02T11:40:35.608Z"
   },
   {
    "duration": 55,
    "start_time": "2023-05-02T11:45:44.313Z"
   },
   {
    "duration": 42,
    "start_time": "2023-05-02T11:45:51.787Z"
   },
   {
    "duration": 98,
    "start_time": "2023-05-02T11:46:48.301Z"
   },
   {
    "duration": 80,
    "start_time": "2023-05-02T11:47:10.582Z"
   },
   {
    "duration": 71,
    "start_time": "2023-05-02T11:49:02.913Z"
   },
   {
    "duration": 128,
    "start_time": "2023-05-02T11:50:50.250Z"
   },
   {
    "duration": 58,
    "start_time": "2023-05-02T11:51:44.860Z"
   },
   {
    "duration": 61,
    "start_time": "2023-05-02T11:52:01.999Z"
   },
   {
    "duration": 143,
    "start_time": "2023-05-02T11:53:55.109Z"
   },
   {
    "duration": 26,
    "start_time": "2023-05-02T11:56:21.755Z"
   },
   {
    "duration": 39765,
    "start_time": "2023-05-02T11:59:07.983Z"
   },
   {
    "duration": 206,
    "start_time": "2023-05-02T12:00:25.679Z"
   },
   {
    "duration": 22,
    "start_time": "2023-05-02T12:02:09.277Z"
   },
   {
    "duration": 46,
    "start_time": "2023-05-02T12:03:04.239Z"
   },
   {
    "duration": 45,
    "start_time": "2023-05-02T12:07:31.607Z"
   },
   {
    "duration": 358,
    "start_time": "2023-05-02T12:14:05.092Z"
   },
   {
    "duration": 410,
    "start_time": "2023-05-02T12:14:45.897Z"
   },
   {
    "duration": 4486,
    "start_time": "2023-05-02T12:15:24.317Z"
   },
   {
    "duration": 3360,
    "start_time": "2023-05-02T12:15:29.541Z"
   },
   {
    "duration": 597,
    "start_time": "2023-05-02T12:15:50.946Z"
   },
   {
    "duration": 781,
    "start_time": "2023-05-02T12:16:06.911Z"
   },
   {
    "duration": 17,
    "start_time": "2023-05-02T12:27:07.444Z"
   },
   {
    "duration": 74,
    "start_time": "2023-05-02T12:27:20.084Z"
   },
   {
    "duration": 74,
    "start_time": "2023-05-02T12:27:57.849Z"
   },
   {
    "duration": 54,
    "start_time": "2023-05-02T12:28:06.946Z"
   },
   {
    "duration": 68,
    "start_time": "2023-05-02T12:28:15.376Z"
   },
   {
    "duration": 4235,
    "start_time": "2023-05-02T12:28:29.982Z"
   },
   {
    "duration": 47,
    "start_time": "2023-05-02T12:28:45.196Z"
   },
   {
    "duration": 48,
    "start_time": "2023-05-02T12:29:03.913Z"
   },
   {
    "duration": 1255,
    "start_time": "2023-05-02T12:29:13.528Z"
   },
   {
    "duration": 229,
    "start_time": "2023-05-02T12:29:14.786Z"
   },
   {
    "duration": 49,
    "start_time": "2023-05-02T12:29:15.018Z"
   },
   {
    "duration": 35,
    "start_time": "2023-05-02T12:29:15.068Z"
   },
   {
    "duration": 323,
    "start_time": "2023-05-02T12:29:15.117Z"
   },
   {
    "duration": 297,
    "start_time": "2023-05-02T12:29:15.452Z"
   },
   {
    "duration": 187,
    "start_time": "2023-05-02T12:29:15.751Z"
   },
   {
    "duration": 32,
    "start_time": "2023-05-02T12:29:15.942Z"
   },
   {
    "duration": 57,
    "start_time": "2023-05-02T12:29:15.975Z"
   },
   {
    "duration": 32,
    "start_time": "2023-05-02T12:29:16.033Z"
   },
   {
    "duration": 778,
    "start_time": "2023-05-02T12:29:16.068Z"
   },
   {
    "duration": 858,
    "start_time": "2023-05-02T12:29:16.847Z"
   },
   {
    "duration": 46,
    "start_time": "2023-05-02T12:29:17.707Z"
   },
   {
    "duration": 39,
    "start_time": "2023-05-02T12:31:27.449Z"
   },
   {
    "duration": 48,
    "start_time": "2023-05-02T12:31:35.877Z"
   },
   {
    "duration": 1302,
    "start_time": "2023-05-02T12:31:41.876Z"
   },
   {
    "duration": 266,
    "start_time": "2023-05-02T12:31:43.180Z"
   },
   {
    "duration": 50,
    "start_time": "2023-05-02T12:31:43.447Z"
   },
   {
    "duration": 48,
    "start_time": "2023-05-02T12:31:43.499Z"
   },
   {
    "duration": 336,
    "start_time": "2023-05-02T12:31:43.550Z"
   },
   {
    "duration": 301,
    "start_time": "2023-05-02T12:31:43.888Z"
   },
   {
    "duration": 193,
    "start_time": "2023-05-02T12:31:44.191Z"
   },
   {
    "duration": 47,
    "start_time": "2023-05-02T12:31:44.387Z"
   },
   {
    "duration": 76,
    "start_time": "2023-05-02T12:31:44.436Z"
   },
   {
    "duration": 56,
    "start_time": "2023-05-02T12:31:44.513Z"
   },
   {
    "duration": 38,
    "start_time": "2023-05-02T12:31:44.571Z"
   },
   {
    "duration": 782,
    "start_time": "2023-05-02T12:31:44.611Z"
   },
   {
    "duration": 38,
    "start_time": "2023-05-02T12:31:45.396Z"
   },
   {
    "duration": 148,
    "start_time": "2023-05-02T12:36:48.067Z"
   },
   {
    "duration": 44,
    "start_time": "2023-05-02T12:37:04.155Z"
   },
   {
    "duration": 210,
    "start_time": "2023-05-02T12:47:10.883Z"
   },
   {
    "duration": 55,
    "start_time": "2023-05-02T12:47:45.116Z"
   },
   {
    "duration": 47,
    "start_time": "2023-05-02T12:48:17.664Z"
   },
   {
    "duration": 25,
    "start_time": "2023-05-02T12:48:39.645Z"
   },
   {
    "duration": 46,
    "start_time": "2023-05-02T12:48:46.137Z"
   },
   {
    "duration": 28,
    "start_time": "2023-05-02T12:50:14.039Z"
   },
   {
    "duration": 58,
    "start_time": "2023-05-02T12:50:20.467Z"
   },
   {
    "duration": 75,
    "start_time": "2023-05-02T12:52:15.915Z"
   },
   {
    "duration": 89,
    "start_time": "2023-05-02T13:01:07.136Z"
   },
   {
    "duration": 48,
    "start_time": "2023-05-02T13:01:22.547Z"
   },
   {
    "duration": 18,
    "start_time": "2023-05-02T13:01:50.893Z"
   },
   {
    "duration": 60,
    "start_time": "2023-05-02T13:01:57.951Z"
   },
   {
    "duration": 20,
    "start_time": "2023-05-02T13:02:31.474Z"
   },
   {
    "duration": 17,
    "start_time": "2023-05-02T13:02:38.264Z"
   },
   {
    "duration": 1575,
    "start_time": "2023-05-02T13:03:14.675Z"
   },
   {
    "duration": 291,
    "start_time": "2023-05-02T13:03:16.260Z"
   },
   {
    "duration": 42,
    "start_time": "2023-05-02T13:03:16.561Z"
   },
   {
    "duration": 89,
    "start_time": "2023-05-02T13:03:16.605Z"
   },
   {
    "duration": 433,
    "start_time": "2023-05-02T13:03:16.699Z"
   },
   {
    "duration": 417,
    "start_time": "2023-05-02T13:03:17.134Z"
   },
   {
    "duration": 268,
    "start_time": "2023-05-02T13:03:17.557Z"
   },
   {
    "duration": 50,
    "start_time": "2023-05-02T13:03:17.832Z"
   },
   {
    "duration": 104,
    "start_time": "2023-05-02T13:03:17.890Z"
   },
   {
    "duration": 51,
    "start_time": "2023-05-02T13:03:17.997Z"
   },
   {
    "duration": 42,
    "start_time": "2023-05-02T13:03:18.053Z"
   },
   {
    "duration": 1160,
    "start_time": "2023-05-02T13:03:18.097Z"
   },
   {
    "duration": 59,
    "start_time": "2023-05-02T13:03:19.263Z"
   },
   {
    "duration": 91,
    "start_time": "2023-05-02T13:03:19.330Z"
   },
   {
    "duration": 52,
    "start_time": "2023-05-02T13:03:19.429Z"
   },
   {
    "duration": 211,
    "start_time": "2023-05-02T13:03:19.484Z"
   },
   {
    "duration": 301,
    "start_time": "2023-05-02T13:05:14.805Z"
   },
   {
    "duration": 307,
    "start_time": "2023-05-02T13:05:22.697Z"
   },
   {
    "duration": 92,
    "start_time": "2023-05-02T13:09:06.990Z"
   },
   {
    "duration": 128,
    "start_time": "2023-05-02T13:10:06.570Z"
   },
   {
    "duration": 118,
    "start_time": "2023-05-02T13:10:13.890Z"
   },
   {
    "duration": 116,
    "start_time": "2023-05-02T13:10:29.466Z"
   },
   {
    "duration": 119,
    "start_time": "2023-05-02T13:11:03.507Z"
   },
   {
    "duration": 0,
    "start_time": "2023-05-02T13:18:06.001Z"
   },
   {
    "duration": 3294,
    "start_time": "2023-05-02T13:18:32.789Z"
   },
   {
    "duration": 1560,
    "start_time": "2023-05-02T13:18:42.610Z"
   },
   {
    "duration": 292,
    "start_time": "2023-05-02T13:18:44.172Z"
   },
   {
    "duration": 39,
    "start_time": "2023-05-02T13:18:44.465Z"
   },
   {
    "duration": 54,
    "start_time": "2023-05-02T13:18:44.516Z"
   },
   {
    "duration": 338,
    "start_time": "2023-05-02T13:18:44.574Z"
   },
   {
    "duration": 346,
    "start_time": "2023-05-02T13:18:44.914Z"
   },
   {
    "duration": 250,
    "start_time": "2023-05-02T13:18:45.262Z"
   },
   {
    "duration": 58,
    "start_time": "2023-05-02T13:18:45.514Z"
   },
   {
    "duration": 87,
    "start_time": "2023-05-02T13:18:45.574Z"
   },
   {
    "duration": 37,
    "start_time": "2023-05-02T13:18:45.663Z"
   },
   {
    "duration": 36,
    "start_time": "2023-05-02T13:18:45.703Z"
   },
   {
    "duration": 882,
    "start_time": "2023-05-02T13:18:45.740Z"
   },
   {
    "duration": 43,
    "start_time": "2023-05-02T13:18:46.628Z"
   },
   {
    "duration": 88,
    "start_time": "2023-05-02T13:18:46.675Z"
   },
   {
    "duration": 34,
    "start_time": "2023-05-02T13:18:46.765Z"
   },
   {
    "duration": 221,
    "start_time": "2023-05-02T13:18:46.801Z"
   },
   {
    "duration": 97,
    "start_time": "2023-05-02T13:18:47.024Z"
   },
   {
    "duration": 2083,
    "start_time": "2023-05-02T13:18:47.123Z"
   },
   {
    "duration": 107,
    "start_time": "2023-05-02T13:21:01.649Z"
   },
   {
    "duration": 81,
    "start_time": "2023-05-02T13:23:19.906Z"
   },
   {
    "duration": 73,
    "start_time": "2023-05-02T13:24:26.262Z"
   },
   {
    "duration": 55,
    "start_time": "2023-05-02T13:30:42.029Z"
   },
   {
    "duration": 15,
    "start_time": "2023-05-02T13:30:49.541Z"
   },
   {
    "duration": 72,
    "start_time": "2023-05-02T13:30:57.476Z"
   },
   {
    "duration": 40,
    "start_time": "2023-05-02T13:31:22.479Z"
   },
   {
    "duration": 35,
    "start_time": "2023-05-02T13:31:46.659Z"
   },
   {
    "duration": 80,
    "start_time": "2023-05-02T13:38:31.048Z"
   },
   {
    "duration": 107,
    "start_time": "2023-05-02T13:39:33.578Z"
   },
   {
    "duration": 84,
    "start_time": "2023-05-02T13:39:49.418Z"
   },
   {
    "duration": 3423,
    "start_time": "2023-05-02T13:40:26.175Z"
   },
   {
    "duration": 2348,
    "start_time": "2023-05-02T13:40:31.076Z"
   },
   {
    "duration": 96,
    "start_time": "2023-05-02T13:40:51.416Z"
   },
   {
    "duration": 1818,
    "start_time": "2023-05-02T13:42:15.028Z"
   },
   {
    "duration": 80,
    "start_time": "2023-05-02T13:42:40.782Z"
   },
   {
    "duration": 1413,
    "start_time": "2023-05-02T13:42:51.057Z"
   },
   {
    "duration": 116,
    "start_time": "2023-05-02T13:43:26.816Z"
   },
   {
    "duration": 18,
    "start_time": "2023-05-02T13:45:39.677Z"
   },
   {
    "duration": 1737,
    "start_time": "2023-05-02T13:47:07.845Z"
   },
   {
    "duration": 1641,
    "start_time": "2023-05-02T13:47:32.245Z"
   },
   {
    "duration": 1508,
    "start_time": "2023-05-02T13:48:09.547Z"
   },
   {
    "duration": 2529,
    "start_time": "2023-05-02T13:49:49.586Z"
   },
   {
    "duration": 3363,
    "start_time": "2023-05-02T13:50:02.525Z"
   },
   {
    "duration": 37,
    "start_time": "2023-05-02T13:55:35.243Z"
   },
   {
    "duration": 22,
    "start_time": "2023-05-02T13:58:23.075Z"
   },
   {
    "duration": 319,
    "start_time": "2023-05-02T14:00:11.547Z"
   },
   {
    "duration": 193,
    "start_time": "2023-05-02T14:00:46.706Z"
   },
   {
    "duration": 91,
    "start_time": "2023-05-02T14:01:29.477Z"
   },
   {
    "duration": 240,
    "start_time": "2023-05-02T14:02:41.809Z"
   },
   {
    "duration": 203,
    "start_time": "2023-05-02T14:02:54.869Z"
   },
   {
    "duration": 225,
    "start_time": "2023-05-02T14:04:07.910Z"
   },
   {
    "duration": 218,
    "start_time": "2023-05-02T14:05:05.260Z"
   },
   {
    "duration": 245,
    "start_time": "2023-05-02T14:05:26.243Z"
   },
   {
    "duration": 281,
    "start_time": "2023-05-02T14:06:35.208Z"
   },
   {
    "duration": 55,
    "start_time": "2023-05-02T14:07:32.302Z"
   },
   {
    "duration": 239,
    "start_time": "2023-05-02T14:07:49.463Z"
   },
   {
    "duration": 238,
    "start_time": "2023-05-02T14:10:21.604Z"
   },
   {
    "duration": 563,
    "start_time": "2023-05-02T14:11:04.900Z"
   },
   {
    "duration": 324,
    "start_time": "2023-05-02T14:11:45.200Z"
   },
   {
    "duration": 1998,
    "start_time": "2023-05-02T14:12:36.847Z"
   },
   {
    "duration": 232,
    "start_time": "2023-05-02T14:12:50.832Z"
   },
   {
    "duration": 208,
    "start_time": "2023-05-02T14:13:22.161Z"
   },
   {
    "duration": 552,
    "start_time": "2023-05-02T14:13:40.264Z"
   },
   {
    "duration": 553,
    "start_time": "2023-05-02T14:13:48.619Z"
   },
   {
    "duration": 628,
    "start_time": "2023-05-02T14:14:42.554Z"
   },
   {
    "duration": 10,
    "start_time": "2023-05-03T12:19:07.921Z"
   },
   {
    "duration": 51,
    "start_time": "2023-05-03T12:21:13.715Z"
   },
   {
    "duration": 1200,
    "start_time": "2023-05-03T12:21:19.818Z"
   },
   {
    "duration": 1037,
    "start_time": "2023-05-03T12:21:21.020Z"
   },
   {
    "duration": 33,
    "start_time": "2023-05-03T12:21:22.058Z"
   },
   {
    "duration": 31,
    "start_time": "2023-05-03T12:21:22.093Z"
   },
   {
    "duration": 223,
    "start_time": "2023-05-03T12:21:22.127Z"
   },
   {
    "duration": 226,
    "start_time": "2023-05-03T12:21:22.351Z"
   },
   {
    "duration": 138,
    "start_time": "2023-05-03T12:21:22.579Z"
   },
   {
    "duration": 19,
    "start_time": "2023-05-03T12:21:22.719Z"
   },
   {
    "duration": 61,
    "start_time": "2023-05-03T12:21:22.739Z"
   },
   {
    "duration": 20,
    "start_time": "2023-05-03T12:21:22.801Z"
   },
   {
    "duration": 24,
    "start_time": "2023-05-03T12:21:22.823Z"
   },
   {
    "duration": 640,
    "start_time": "2023-05-03T12:21:22.848Z"
   },
   {
    "duration": 30,
    "start_time": "2023-05-03T12:21:23.489Z"
   },
   {
    "duration": 49,
    "start_time": "2023-05-03T12:21:23.522Z"
   },
   {
    "duration": 42,
    "start_time": "2023-05-03T12:21:23.573Z"
   },
   {
    "duration": 190,
    "start_time": "2023-05-03T12:21:23.617Z"
   },
   {
    "duration": 70,
    "start_time": "2023-05-03T12:21:23.809Z"
   },
   {
    "duration": 72,
    "start_time": "2023-05-03T12:21:23.880Z"
   },
   {
    "duration": 48,
    "start_time": "2023-05-03T12:21:23.953Z"
   },
   {
    "duration": 112,
    "start_time": "2023-05-03T12:21:24.002Z"
   },
   {
    "duration": 468,
    "start_time": "2023-05-03T12:21:24.116Z"
   },
   {
    "duration": 89,
    "start_time": "2023-05-03T12:21:24.586Z"
   },
   {
    "duration": 1275,
    "start_time": "2023-05-03T12:21:24.676Z"
   },
   {
    "duration": 1163,
    "start_time": "2023-05-03T13:05:57.146Z"
   },
   {
    "duration": 1638,
    "start_time": "2023-05-03T13:06:22.905Z"
   },
   {
    "duration": 1073,
    "start_time": "2023-05-03T13:06:59.201Z"
   },
   {
    "duration": 180,
    "start_time": "2023-05-03T13:07:00.276Z"
   },
   {
    "duration": 37,
    "start_time": "2023-05-03T13:07:00.458Z"
   },
   {
    "duration": 36,
    "start_time": "2023-05-03T13:07:00.497Z"
   },
   {
    "duration": 220,
    "start_time": "2023-05-03T13:07:00.535Z"
   },
   {
    "duration": 224,
    "start_time": "2023-05-03T13:07:00.757Z"
   },
   {
    "duration": 135,
    "start_time": "2023-05-03T13:07:00.983Z"
   },
   {
    "duration": 20,
    "start_time": "2023-05-03T13:07:01.120Z"
   },
   {
    "duration": 56,
    "start_time": "2023-05-03T13:07:01.142Z"
   },
   {
    "duration": 34,
    "start_time": "2023-05-03T13:07:01.200Z"
   },
   {
    "duration": 36,
    "start_time": "2023-05-03T13:07:01.236Z"
   },
   {
    "duration": 640,
    "start_time": "2023-05-03T13:07:01.274Z"
   },
   {
    "duration": 28,
    "start_time": "2023-05-03T13:07:01.915Z"
   },
   {
    "duration": 53,
    "start_time": "2023-05-03T13:07:01.945Z"
   },
   {
    "duration": 27,
    "start_time": "2023-05-03T13:07:02.000Z"
   },
   {
    "duration": 150,
    "start_time": "2023-05-03T13:07:02.029Z"
   },
   {
    "duration": 62,
    "start_time": "2023-05-03T13:07:02.181Z"
   },
   {
    "duration": 66,
    "start_time": "2023-05-03T13:07:02.245Z"
   },
   {
    "duration": 29,
    "start_time": "2023-05-03T13:07:02.313Z"
   },
   {
    "duration": 94,
    "start_time": "2023-05-03T13:07:02.344Z"
   },
   {
    "duration": 407,
    "start_time": "2023-05-03T13:07:02.440Z"
   },
   {
    "duration": 79,
    "start_time": "2023-05-03T13:07:02.848Z"
   },
   {
    "duration": 1312,
    "start_time": "2023-05-03T13:07:02.928Z"
   },
   {
    "duration": 6,
    "start_time": "2023-05-03T13:09:26.816Z"
   },
   {
    "duration": 106,
    "start_time": "2023-05-03T13:09:29.701Z"
   },
   {
    "duration": 6,
    "start_time": "2023-05-03T13:09:42.488Z"
   },
   {
    "duration": 133,
    "start_time": "2023-05-03T13:09:44.128Z"
   },
   {
    "duration": 108,
    "start_time": "2023-05-03T13:12:59.298Z"
   },
   {
    "duration": 13,
    "start_time": "2023-05-03T13:13:24.250Z"
   },
   {
    "duration": 107,
    "start_time": "2023-05-03T13:13:43.215Z"
   },
   {
    "duration": 139,
    "start_time": "2023-05-03T13:14:56.002Z"
   },
   {
    "duration": 1182,
    "start_time": "2023-05-04T10:56:46.312Z"
   },
   {
    "duration": 494,
    "start_time": "2023-05-04T10:56:47.496Z"
   },
   {
    "duration": 27,
    "start_time": "2023-05-04T10:56:47.991Z"
   },
   {
    "duration": 29,
    "start_time": "2023-05-04T10:56:48.019Z"
   },
   {
    "duration": 237,
    "start_time": "2023-05-04T10:56:48.050Z"
   },
   {
    "duration": 256,
    "start_time": "2023-05-04T10:56:48.288Z"
   },
   {
    "duration": 167,
    "start_time": "2023-05-04T10:56:48.547Z"
   },
   {
    "duration": 21,
    "start_time": "2023-05-04T10:56:48.716Z"
   },
   {
    "duration": 71,
    "start_time": "2023-05-04T10:56:48.739Z"
   },
   {
    "duration": 22,
    "start_time": "2023-05-04T10:56:48.811Z"
   },
   {
    "duration": 54,
    "start_time": "2023-05-04T10:56:48.835Z"
   },
   {
    "duration": 720,
    "start_time": "2023-05-04T10:56:48.890Z"
   },
   {
    "duration": 32,
    "start_time": "2023-05-04T10:56:49.612Z"
   },
   {
    "duration": 50,
    "start_time": "2023-05-04T10:56:49.657Z"
   },
   {
    "duration": 30,
    "start_time": "2023-05-04T10:56:49.709Z"
   },
   {
    "duration": 199,
    "start_time": "2023-05-04T10:56:49.741Z"
   },
   {
    "duration": 72,
    "start_time": "2023-05-04T10:56:49.942Z"
   },
   {
    "duration": 75,
    "start_time": "2023-05-04T10:56:50.016Z"
   },
   {
    "duration": 33,
    "start_time": "2023-05-04T10:56:50.093Z"
   },
   {
    "duration": 115,
    "start_time": "2023-05-04T10:56:50.128Z"
   },
   {
    "duration": 551,
    "start_time": "2023-05-04T10:56:50.244Z"
   },
   {
    "duration": 100,
    "start_time": "2023-05-04T10:56:50.797Z"
   },
   {
    "duration": 139,
    "start_time": "2023-05-04T10:56:50.899Z"
   },
   {
    "duration": 154,
    "start_time": "2023-05-04T10:56:51.039Z"
   },
   {
    "duration": 172,
    "start_time": "2023-05-04T10:56:51.195Z"
   },
   {
    "duration": 195,
    "start_time": "2023-05-04T10:56:51.372Z"
   },
   {
    "duration": 62,
    "start_time": "2023-05-04T11:40:29.311Z"
   },
   {
    "duration": 9,
    "start_time": "2023-05-04T11:40:46.619Z"
   },
   {
    "duration": 1492,
    "start_time": "2023-05-04T11:40:52.509Z"
   },
   {
    "duration": 992,
    "start_time": "2023-05-04T11:40:54.003Z"
   },
   {
    "duration": 48,
    "start_time": "2023-05-04T11:40:54.998Z"
   },
   {
    "duration": 71,
    "start_time": "2023-05-04T11:40:55.053Z"
   },
   {
    "duration": 413,
    "start_time": "2023-05-04T11:40:55.126Z"
   },
   {
    "duration": 324,
    "start_time": "2023-05-04T11:40:55.541Z"
   },
   {
    "duration": 179,
    "start_time": "2023-05-04T11:40:55.867Z"
   },
   {
    "duration": 49,
    "start_time": "2023-05-04T11:40:56.048Z"
   },
   {
    "duration": 110,
    "start_time": "2023-05-04T11:40:56.099Z"
   },
   {
    "duration": 59,
    "start_time": "2023-05-04T11:40:56.213Z"
   },
   {
    "duration": 41,
    "start_time": "2023-05-04T11:40:56.274Z"
   },
   {
    "duration": 858,
    "start_time": "2023-05-04T11:40:56.317Z"
   },
   {
    "duration": 44,
    "start_time": "2023-05-04T11:40:57.178Z"
   },
   {
    "duration": 65,
    "start_time": "2023-05-04T11:40:57.224Z"
   },
   {
    "duration": 44,
    "start_time": "2023-05-04T11:40:57.291Z"
   },
   {
    "duration": 282,
    "start_time": "2023-05-04T11:40:57.337Z"
   },
   {
    "duration": 76,
    "start_time": "2023-05-04T11:40:57.621Z"
   },
   {
    "duration": 107,
    "start_time": "2023-05-04T11:40:57.700Z"
   },
   {
    "duration": 68,
    "start_time": "2023-05-04T11:40:57.809Z"
   },
   {
    "duration": 131,
    "start_time": "2023-05-04T11:40:57.880Z"
   },
   {
    "duration": 637,
    "start_time": "2023-05-04T11:40:58.013Z"
   },
   {
    "duration": 119,
    "start_time": "2023-05-04T11:40:58.652Z"
   },
   {
    "duration": 190,
    "start_time": "2023-05-04T11:40:58.777Z"
   },
   {
    "duration": 183,
    "start_time": "2023-05-04T11:40:58.976Z"
   },
   {
    "duration": 194,
    "start_time": "2023-05-04T11:40:59.169Z"
   },
   {
    "duration": 232,
    "start_time": "2023-05-04T11:40:59.368Z"
   },
   {
    "duration": 77,
    "start_time": "2023-05-04T11:41:24.982Z"
   },
   {
    "duration": 246,
    "start_time": "2023-05-04T11:43:24.489Z"
   },
   {
    "duration": 87,
    "start_time": "2023-05-04T11:46:28.523Z"
   },
   {
    "duration": 86,
    "start_time": "2023-05-04T11:48:52.639Z"
   },
   {
    "duration": 94,
    "start_time": "2023-05-04T11:49:04.806Z"
   },
   {
    "duration": 101,
    "start_time": "2023-05-04T11:49:12.016Z"
   },
   {
    "duration": 72,
    "start_time": "2023-05-04T11:50:18.513Z"
   },
   {
    "duration": 73,
    "start_time": "2023-05-04T11:50:57.213Z"
   },
   {
    "duration": 109,
    "start_time": "2023-05-04T11:53:23.622Z"
   },
   {
    "duration": 119,
    "start_time": "2023-05-04T11:54:32.270Z"
   },
   {
    "duration": 105,
    "start_time": "2023-05-04T11:57:35.984Z"
   },
   {
    "duration": 98,
    "start_time": "2023-05-04T12:03:47.721Z"
   },
   {
    "duration": 103,
    "start_time": "2023-05-04T12:04:33.015Z"
   },
   {
    "duration": 92,
    "start_time": "2023-05-04T12:05:03.401Z"
   },
   {
    "duration": 115,
    "start_time": "2023-05-04T12:15:33.116Z"
   },
   {
    "duration": 140,
    "start_time": "2023-05-04T12:16:42.566Z"
   },
   {
    "duration": 116,
    "start_time": "2023-05-04T12:16:47.718Z"
   },
   {
    "duration": 119,
    "start_time": "2023-05-04T12:17:11.588Z"
   },
   {
    "duration": 115,
    "start_time": "2023-05-04T12:17:28.799Z"
   },
   {
    "duration": 141,
    "start_time": "2023-05-04T12:20:42.338Z"
   },
   {
    "duration": 129,
    "start_time": "2023-05-04T12:22:35.517Z"
   },
   {
    "duration": 119,
    "start_time": "2023-05-04T12:22:56.799Z"
   },
   {
    "duration": 131,
    "start_time": "2023-05-04T12:24:24.896Z"
   },
   {
    "duration": 114,
    "start_time": "2023-05-04T12:40:36.538Z"
   },
   {
    "duration": 98,
    "start_time": "2023-05-04T12:40:53.206Z"
   },
   {
    "duration": 99,
    "start_time": "2023-05-04T13:08:22.592Z"
   },
   {
    "duration": 96,
    "start_time": "2023-05-04T13:08:28.647Z"
   },
   {
    "duration": 94,
    "start_time": "2023-05-04T13:08:39.344Z"
   },
   {
    "duration": 94,
    "start_time": "2023-05-04T13:08:58.519Z"
   },
   {
    "duration": 110,
    "start_time": "2023-05-04T13:09:05.039Z"
   },
   {
    "duration": 98,
    "start_time": "2023-05-04T13:09:47.470Z"
   },
   {
    "duration": 96,
    "start_time": "2023-05-04T13:10:03.966Z"
   },
   {
    "duration": 95,
    "start_time": "2023-05-04T13:10:21.090Z"
   },
   {
    "duration": 77,
    "start_time": "2023-05-04T13:12:34.464Z"
   },
   {
    "duration": 105,
    "start_time": "2023-05-04T13:12:50.816Z"
   },
   {
    "duration": 111,
    "start_time": "2023-05-04T13:19:36.827Z"
   },
   {
    "duration": 73,
    "start_time": "2023-05-04T13:21:13.110Z"
   },
   {
    "duration": 105,
    "start_time": "2023-05-04T13:21:40.044Z"
   },
   {
    "duration": 113,
    "start_time": "2023-05-04T13:23:23.080Z"
   },
   {
    "duration": 112,
    "start_time": "2023-05-04T13:23:44.179Z"
   },
   {
    "duration": 87,
    "start_time": "2023-05-04T13:24:25.504Z"
   },
   {
    "duration": 124,
    "start_time": "2023-05-04T13:26:23.489Z"
   },
   {
    "duration": 155,
    "start_time": "2023-05-04T13:30:16.221Z"
   },
   {
    "duration": 139,
    "start_time": "2023-05-04T13:30:55.878Z"
   },
   {
    "duration": 188,
    "start_time": "2023-05-04T13:31:45.683Z"
   },
   {
    "duration": 142,
    "start_time": "2023-05-04T13:32:02.202Z"
   },
   {
    "duration": 138,
    "start_time": "2023-05-04T13:32:25.682Z"
   },
   {
    "duration": 59,
    "start_time": "2023-05-04T13:32:55.008Z"
   },
   {
    "duration": 73,
    "start_time": "2023-05-04T13:33:05.116Z"
   },
   {
    "duration": 200,
    "start_time": "2023-05-04T13:36:50.491Z"
   },
   {
    "duration": 182,
    "start_time": "2023-05-04T13:37:26.306Z"
   },
   {
    "duration": 189,
    "start_time": "2023-05-04T13:37:54.013Z"
   },
   {
    "duration": 73,
    "start_time": "2023-05-04T13:39:49.608Z"
   },
   {
    "duration": 109,
    "start_time": "2023-05-04T13:41:15.477Z"
   },
   {
    "duration": 132,
    "start_time": "2023-05-04T13:41:29.179Z"
   },
   {
    "duration": 13,
    "start_time": "2023-05-04T13:44:55.280Z"
   },
   {
    "duration": 93,
    "start_time": "2023-05-04T13:45:02.228Z"
   },
   {
    "duration": 105,
    "start_time": "2023-05-04T13:45:23.984Z"
   },
   {
    "duration": 94,
    "start_time": "2023-05-04T13:45:31.478Z"
   },
   {
    "duration": 2222,
    "start_time": "2023-05-04T13:45:48.469Z"
   },
   {
    "duration": 87,
    "start_time": "2023-05-04T13:45:58.058Z"
   },
   {
    "duration": 100,
    "start_time": "2023-05-04T13:46:27.617Z"
   },
   {
    "duration": 1595,
    "start_time": "2023-05-04T13:49:24.633Z"
   },
   {
    "duration": 99,
    "start_time": "2023-05-04T13:49:56.573Z"
   },
   {
    "duration": 115,
    "start_time": "2023-05-04T13:50:29.809Z"
   },
   {
    "duration": 109,
    "start_time": "2023-05-04T13:52:05.823Z"
   },
   {
    "duration": 111,
    "start_time": "2023-05-04T13:56:17.291Z"
   },
   {
    "duration": 126,
    "start_time": "2023-05-04T13:57:00.268Z"
   },
   {
    "duration": 100,
    "start_time": "2023-05-04T13:57:08.495Z"
   },
   {
    "duration": 124,
    "start_time": "2023-05-04T13:57:18.334Z"
   },
   {
    "duration": 101,
    "start_time": "2023-05-04T13:57:41.697Z"
   },
   {
    "duration": 116,
    "start_time": "2023-05-04T13:57:47.419Z"
   },
   {
    "duration": 109,
    "start_time": "2023-05-04T13:58:14.018Z"
   },
   {
    "duration": 136,
    "start_time": "2023-05-04T13:59:19.087Z"
   },
   {
    "duration": 106,
    "start_time": "2023-05-04T14:02:26.810Z"
   },
   {
    "duration": 130,
    "start_time": "2023-05-04T14:03:08.957Z"
   },
   {
    "duration": 119,
    "start_time": "2023-05-04T14:03:17.538Z"
   },
   {
    "duration": 141,
    "start_time": "2023-05-04T14:03:26.638Z"
   },
   {
    "duration": 114,
    "start_time": "2023-05-04T14:03:37.481Z"
   },
   {
    "duration": 119,
    "start_time": "2023-05-04T14:03:59.020Z"
   },
   {
    "duration": 113,
    "start_time": "2023-05-04T14:04:26.229Z"
   },
   {
    "duration": 112,
    "start_time": "2023-05-04T14:04:31.582Z"
   },
   {
    "duration": 136,
    "start_time": "2023-05-04T14:04:39.827Z"
   },
   {
    "duration": 139,
    "start_time": "2023-05-04T14:04:45.724Z"
   },
   {
    "duration": 22,
    "start_time": "2023-05-04T14:05:42.276Z"
   },
   {
    "duration": 123,
    "start_time": "2023-05-04T14:07:04.188Z"
   },
   {
    "duration": 22,
    "start_time": "2023-05-04T14:07:31.446Z"
   },
   {
    "duration": 105,
    "start_time": "2023-05-04T14:09:39.074Z"
   },
   {
    "duration": 35,
    "start_time": "2023-05-04T14:11:03.081Z"
   },
   {
    "duration": 21,
    "start_time": "2023-05-04T14:11:38.456Z"
   },
   {
    "duration": 7,
    "start_time": "2023-05-04T14:14:54.017Z"
   },
   {
    "duration": 12,
    "start_time": "2023-05-04T14:15:19.721Z"
   },
   {
    "duration": 19,
    "start_time": "2023-05-04T14:15:28.714Z"
   },
   {
    "duration": 15,
    "start_time": "2023-05-04T14:15:48.417Z"
   },
   {
    "duration": 18,
    "start_time": "2023-05-04T14:16:05.778Z"
   },
   {
    "duration": 418,
    "start_time": "2023-05-04T14:16:21.727Z"
   },
   {
    "duration": 386,
    "start_time": "2023-05-04T14:16:55.317Z"
   },
   {
    "duration": 117,
    "start_time": "2023-05-04T14:28:08.851Z"
   },
   {
    "duration": 3967,
    "start_time": "2023-05-04T14:45:02.289Z"
   },
   {
    "duration": 1761,
    "start_time": "2023-05-04T14:45:28.713Z"
   },
   {
    "duration": 1259,
    "start_time": "2023-05-04T14:45:49.704Z"
   },
   {
    "duration": 545,
    "start_time": "2023-05-04T14:45:50.964Z"
   },
   {
    "duration": 29,
    "start_time": "2023-05-04T14:45:51.511Z"
   },
   {
    "duration": 45,
    "start_time": "2023-05-04T14:45:51.543Z"
   },
   {
    "duration": 233,
    "start_time": "2023-05-04T14:45:51.590Z"
   },
   {
    "duration": 246,
    "start_time": "2023-05-04T14:45:51.825Z"
   },
   {
    "duration": 142,
    "start_time": "2023-05-04T14:45:52.073Z"
   },
   {
    "duration": 21,
    "start_time": "2023-05-04T14:45:52.216Z"
   },
   {
    "duration": 62,
    "start_time": "2023-05-04T14:45:52.238Z"
   },
   {
    "duration": 22,
    "start_time": "2023-05-04T14:45:52.303Z"
   },
   {
    "duration": 57,
    "start_time": "2023-05-04T14:45:52.327Z"
   },
   {
    "duration": 641,
    "start_time": "2023-05-04T14:45:52.386Z"
   },
   {
    "duration": 44,
    "start_time": "2023-05-04T14:45:53.029Z"
   },
   {
    "duration": 43,
    "start_time": "2023-05-04T14:45:53.074Z"
   },
   {
    "duration": 44,
    "start_time": "2023-05-04T14:45:53.118Z"
   },
   {
    "duration": 164,
    "start_time": "2023-05-04T14:45:53.164Z"
   },
   {
    "duration": 68,
    "start_time": "2023-05-04T14:45:53.329Z"
   },
   {
    "duration": 115,
    "start_time": "2023-05-04T14:45:53.399Z"
   },
   {
    "duration": 56,
    "start_time": "2023-05-04T14:45:53.516Z"
   },
   {
    "duration": 124,
    "start_time": "2023-05-04T14:45:53.573Z"
   },
   {
    "duration": 82,
    "start_time": "2023-05-04T14:45:53.698Z"
   },
   {
    "duration": 457,
    "start_time": "2023-05-04T14:45:53.782Z"
   },
   {
    "duration": 15,
    "start_time": "2023-05-04T14:45:54.241Z"
   },
   {
    "duration": 74,
    "start_time": "2023-05-04T14:45:54.258Z"
   },
   {
    "duration": 170,
    "start_time": "2023-05-04T14:45:54.334Z"
   },
   {
    "duration": 0,
    "start_time": "2023-05-04T14:45:54.506Z"
   },
   {
    "duration": 0,
    "start_time": "2023-05-04T14:45:54.507Z"
   },
   {
    "duration": 0,
    "start_time": "2023-05-04T14:45:54.507Z"
   },
   {
    "duration": 0,
    "start_time": "2023-05-04T14:45:54.508Z"
   },
   {
    "duration": 4,
    "start_time": "2023-05-04T14:46:56.666Z"
   },
   {
    "duration": 4,
    "start_time": "2023-05-04T14:47:12.716Z"
   },
   {
    "duration": 9,
    "start_time": "2023-05-04T14:47:20.274Z"
   },
   {
    "duration": 12,
    "start_time": "2023-05-04T14:47:28.465Z"
   },
   {
    "duration": 10,
    "start_time": "2023-05-04T14:48:38.108Z"
   },
   {
    "duration": 1324,
    "start_time": "2023-05-04T14:48:46.845Z"
   },
   {
    "duration": 1092,
    "start_time": "2023-05-04T14:51:46.310Z"
   },
   {
    "duration": 7,
    "start_time": "2023-05-04T14:53:01.317Z"
   },
   {
    "duration": 1410,
    "start_time": "2023-05-04T14:53:04.286Z"
   },
   {
    "duration": 1805,
    "start_time": "2023-05-04T15:00:17.395Z"
   },
   {
    "duration": 2196,
    "start_time": "2023-05-04T15:00:56.057Z"
   },
   {
    "duration": 106,
    "start_time": "2023-05-04T15:02:52.885Z"
   },
   {
    "duration": 116,
    "start_time": "2023-05-04T15:03:19.869Z"
   },
   {
    "duration": 108,
    "start_time": "2023-05-04T15:03:38.409Z"
   },
   {
    "duration": 126,
    "start_time": "2023-05-04T15:03:44.918Z"
   },
   {
    "duration": 107,
    "start_time": "2023-05-04T15:03:51.914Z"
   },
   {
    "duration": 106,
    "start_time": "2023-05-04T15:15:00.455Z"
   },
   {
    "duration": 115,
    "start_time": "2023-05-04T15:15:14.444Z"
   },
   {
    "duration": 125,
    "start_time": "2023-05-04T15:20:10.497Z"
   },
   {
    "duration": 114,
    "start_time": "2023-05-04T15:20:19.204Z"
   },
   {
    "duration": 129,
    "start_time": "2023-05-04T15:23:17.106Z"
   },
   {
    "duration": 121,
    "start_time": "2023-05-04T15:23:46.611Z"
   },
   {
    "duration": 125,
    "start_time": "2023-05-04T15:23:51.061Z"
   },
   {
    "duration": 116,
    "start_time": "2023-05-04T15:24:07.417Z"
   },
   {
    "duration": 118,
    "start_time": "2023-05-04T15:24:15.366Z"
   },
   {
    "duration": 111,
    "start_time": "2023-05-04T15:25:53.360Z"
   },
   {
    "duration": 36,
    "start_time": "2023-05-04T15:26:36.916Z"
   },
   {
    "duration": 30,
    "start_time": "2023-05-04T15:26:50.876Z"
   },
   {
    "duration": 1129,
    "start_time": "2023-05-04T15:27:22.161Z"
   },
   {
    "duration": 1245,
    "start_time": "2023-05-04T15:29:31.391Z"
   },
   {
    "duration": 1036,
    "start_time": "2023-05-04T15:29:45.743Z"
   },
   {
    "duration": 29,
    "start_time": "2023-05-04T15:29:53.113Z"
   },
   {
    "duration": 40,
    "start_time": "2023-05-04T15:30:20.666Z"
   },
   {
    "duration": 32,
    "start_time": "2023-05-04T15:30:39.046Z"
   },
   {
    "duration": 127,
    "start_time": "2023-05-04T15:30:41.745Z"
   },
   {
    "duration": 39,
    "start_time": "2023-05-04T15:44:47.091Z"
   },
   {
    "duration": 44,
    "start_time": "2023-05-04T15:44:53.146Z"
   },
   {
    "duration": 109,
    "start_time": "2023-05-04T15:45:00.462Z"
   },
   {
    "duration": 322,
    "start_time": "2023-05-04T15:46:59.283Z"
   },
   {
    "duration": 30,
    "start_time": "2023-05-04T15:47:03.379Z"
   },
   {
    "duration": 99,
    "start_time": "2023-05-04T15:47:06.358Z"
   },
   {
    "duration": 42,
    "start_time": "2023-05-04T15:47:17.315Z"
   },
   {
    "duration": 97,
    "start_time": "2023-05-04T15:47:19.443Z"
   },
   {
    "duration": 105,
    "start_time": "2023-05-04T15:47:56.771Z"
   },
   {
    "duration": 14,
    "start_time": "2023-05-04T15:48:14.245Z"
   },
   {
    "duration": 5,
    "start_time": "2023-05-04T15:48:43.247Z"
   },
   {
    "duration": 803,
    "start_time": "2023-05-04T15:48:47.793Z"
   },
   {
    "duration": 111,
    "start_time": "2023-05-04T15:49:01.745Z"
   },
   {
    "duration": 803,
    "start_time": "2023-05-04T15:50:12.291Z"
   },
   {
    "duration": 116,
    "start_time": "2023-05-04T15:50:24.658Z"
   },
   {
    "duration": 1464,
    "start_time": "2023-05-04T15:50:37.305Z"
   },
   {
    "duration": 111,
    "start_time": "2023-05-04T15:51:02.217Z"
   },
   {
    "duration": 1469,
    "start_time": "2023-05-04T15:51:14.557Z"
   },
   {
    "duration": 101,
    "start_time": "2023-05-04T15:51:27.944Z"
   },
   {
    "duration": 718,
    "start_time": "2023-05-04T15:52:09.870Z"
   },
   {
    "duration": 107,
    "start_time": "2023-05-04T15:53:53.246Z"
   },
   {
    "duration": 1292,
    "start_time": "2023-05-04T15:54:21.549Z"
   },
   {
    "duration": 128,
    "start_time": "2023-05-04T15:54:44.710Z"
   },
   {
    "duration": 138,
    "start_time": "2023-05-04T15:54:53.659Z"
   },
   {
    "duration": 110,
    "start_time": "2023-05-04T15:55:08.019Z"
   },
   {
    "duration": 1192,
    "start_time": "2023-05-04T15:56:14.800Z"
   },
   {
    "duration": 107,
    "start_time": "2023-05-04T15:56:27.484Z"
   },
   {
    "duration": 989,
    "start_time": "2023-05-04T15:56:29.408Z"
   },
   {
    "duration": 141,
    "start_time": "2023-05-04T15:59:14.371Z"
   },
   {
    "duration": 108,
    "start_time": "2023-05-04T15:59:27.765Z"
   },
   {
    "duration": 129,
    "start_time": "2023-05-04T16:02:59.822Z"
   },
   {
    "duration": 115,
    "start_time": "2023-05-04T16:03:09.507Z"
   },
   {
    "duration": 119,
    "start_time": "2023-05-04T16:03:19.373Z"
   },
   {
    "duration": 131,
    "start_time": "2023-05-04T16:04:38.865Z"
   },
   {
    "duration": 120,
    "start_time": "2023-05-04T16:05:01.585Z"
   },
   {
    "duration": 10,
    "start_time": "2023-05-04T16:24:19.172Z"
   },
   {
    "duration": 5,
    "start_time": "2023-05-04T16:24:26.989Z"
   },
   {
    "duration": 16,
    "start_time": "2023-05-04T16:24:34.500Z"
   },
   {
    "duration": 69,
    "start_time": "2023-05-05T07:47:39.757Z"
   },
   {
    "duration": 1472,
    "start_time": "2023-05-05T07:47:45.910Z"
   },
   {
    "duration": 929,
    "start_time": "2023-05-05T07:47:47.385Z"
   },
   {
    "duration": 30,
    "start_time": "2023-05-05T07:47:48.317Z"
   },
   {
    "duration": 31,
    "start_time": "2023-05-05T07:47:48.348Z"
   },
   {
    "duration": 303,
    "start_time": "2023-05-05T07:47:48.381Z"
   },
   {
    "duration": 282,
    "start_time": "2023-05-05T07:47:48.686Z"
   },
   {
    "duration": 175,
    "start_time": "2023-05-05T07:47:48.970Z"
   },
   {
    "duration": 22,
    "start_time": "2023-05-05T07:47:49.147Z"
   },
   {
    "duration": 70,
    "start_time": "2023-05-05T07:47:49.171Z"
   },
   {
    "duration": 20,
    "start_time": "2023-05-05T07:47:49.243Z"
   },
   {
    "duration": 64,
    "start_time": "2023-05-05T07:47:49.264Z"
   },
   {
    "duration": 738,
    "start_time": "2023-05-05T07:47:49.330Z"
   },
   {
    "duration": 56,
    "start_time": "2023-05-05T07:47:50.070Z"
   },
   {
    "duration": 50,
    "start_time": "2023-05-05T07:47:50.129Z"
   },
   {
    "duration": 32,
    "start_time": "2023-05-05T07:47:50.181Z"
   },
   {
    "duration": 182,
    "start_time": "2023-05-05T07:47:50.215Z"
   },
   {
    "duration": 72,
    "start_time": "2023-05-05T07:47:50.399Z"
   },
   {
    "duration": 120,
    "start_time": "2023-05-05T07:47:50.473Z"
   },
   {
    "duration": 40,
    "start_time": "2023-05-05T07:47:50.598Z"
   },
   {
    "duration": 116,
    "start_time": "2023-05-05T07:47:50.639Z"
   },
   {
    "duration": 4,
    "start_time": "2023-05-05T07:47:50.757Z"
   },
   {
    "duration": 34,
    "start_time": "2023-05-05T07:47:50.763Z"
   },
   {
    "duration": 118,
    "start_time": "2023-05-05T07:47:50.803Z"
   },
   {
    "duration": 0,
    "start_time": "2023-05-05T07:47:50.924Z"
   },
   {
    "duration": 0,
    "start_time": "2023-05-05T07:47:50.925Z"
   },
   {
    "duration": 0,
    "start_time": "2023-05-05T07:47:50.926Z"
   },
   {
    "duration": 20,
    "start_time": "2023-05-05T07:51:15.049Z"
   },
   {
    "duration": 20,
    "start_time": "2023-05-05T07:51:32.211Z"
   },
   {
    "duration": 99,
    "start_time": "2023-05-05T08:07:41.924Z"
   },
   {
    "duration": 102,
    "start_time": "2023-05-05T08:07:47.659Z"
   },
   {
    "duration": 32,
    "start_time": "2023-05-05T08:09:12.824Z"
   },
   {
    "duration": 43,
    "start_time": "2023-05-05T08:09:27.977Z"
   },
   {
    "duration": 22,
    "start_time": "2023-05-05T08:27:25.772Z"
   },
   {
    "duration": 120,
    "start_time": "2023-05-05T08:34:08.401Z"
   },
   {
    "duration": 36,
    "start_time": "2023-05-05T08:34:49.833Z"
   },
   {
    "duration": 43,
    "start_time": "2023-05-05T08:35:29.880Z"
   },
   {
    "duration": 35,
    "start_time": "2023-05-05T08:36:10.631Z"
   },
   {
    "duration": 172,
    "start_time": "2023-05-05T08:36:51.453Z"
   },
   {
    "duration": 23,
    "start_time": "2023-05-05T08:36:55.897Z"
   },
   {
    "duration": 79,
    "start_time": "2023-05-05T08:36:58.528Z"
   },
   {
    "duration": 23,
    "start_time": "2023-05-05T08:38:18.260Z"
   },
   {
    "duration": 12,
    "start_time": "2023-05-05T09:01:15.157Z"
   },
   {
    "duration": 24,
    "start_time": "2023-05-05T09:01:20.644Z"
   },
   {
    "duration": 1553,
    "start_time": "2023-05-05T21:35:58.522Z"
   },
   {
    "duration": 911,
    "start_time": "2023-05-05T21:36:00.077Z"
   },
   {
    "duration": 41,
    "start_time": "2023-05-05T21:36:00.990Z"
   },
   {
    "duration": 43,
    "start_time": "2023-05-05T21:36:01.033Z"
   },
   {
    "duration": 286,
    "start_time": "2023-05-05T21:36:01.078Z"
   },
   {
    "duration": 308,
    "start_time": "2023-05-05T21:36:01.366Z"
   },
   {
    "duration": 180,
    "start_time": "2023-05-05T21:36:01.676Z"
   },
   {
    "duration": 25,
    "start_time": "2023-05-05T21:36:01.858Z"
   },
   {
    "duration": 75,
    "start_time": "2023-05-05T21:36:01.885Z"
   },
   {
    "duration": 26,
    "start_time": "2023-05-05T21:36:01.963Z"
   },
   {
    "duration": 53,
    "start_time": "2023-05-05T21:36:01.991Z"
   },
   {
    "duration": 812,
    "start_time": "2023-05-05T21:36:02.046Z"
   },
   {
    "duration": 57,
    "start_time": "2023-05-05T21:36:02.861Z"
   },
   {
    "duration": 54,
    "start_time": "2023-05-05T21:36:02.921Z"
   },
   {
    "duration": 46,
    "start_time": "2023-05-05T21:36:02.977Z"
   },
   {
    "duration": 296,
    "start_time": "2023-05-05T21:36:03.028Z"
   },
   {
    "duration": 120,
    "start_time": "2023-05-05T21:36:03.332Z"
   },
   {
    "duration": 277,
    "start_time": "2023-05-05T21:36:03.454Z"
   },
   {
    "duration": 82,
    "start_time": "2023-05-05T21:36:03.736Z"
   },
   {
    "duration": 292,
    "start_time": "2023-05-05T21:36:03.819Z"
   },
   {
    "duration": 9,
    "start_time": "2023-05-05T21:36:04.112Z"
   },
   {
    "duration": 60,
    "start_time": "2023-05-05T21:36:04.123Z"
   },
   {
    "duration": 55,
    "start_time": "2023-05-05T21:36:04.213Z"
   },
   {
    "duration": 5,
    "start_time": "2023-05-05T21:38:47.780Z"
   },
   {
    "duration": 6,
    "start_time": "2023-05-05T21:40:06.250Z"
   },
   {
    "duration": 6,
    "start_time": "2023-05-05T21:41:38.480Z"
   }
  ],
  "kernelspec": {
   "display_name": "Python 3 (ipykernel)",
   "language": "python",
   "name": "python3"
  },
  "language_info": {
   "codemirror_mode": {
    "name": "ipython",
    "version": 3
   },
   "file_extension": ".py",
   "mimetype": "text/x-python",
   "name": "python",
   "nbconvert_exporter": "python",
   "pygments_lexer": "ipython3",
   "version": "3.9.13"
  },
  "toc": {
   "base_numbering": 1,
   "nav_menu": {},
   "number_sections": false,
   "sideBar": true,
   "skip_h1_title": false,
   "title_cell": "Table of Contents",
   "title_sidebar": "Contents",
   "toc_cell": false,
   "toc_position": {
    "height": "calc(100% - 180px)",
    "left": "10px",
    "top": "150px",
    "width": "165px"
   },
   "toc_section_display": true,
   "toc_window_display": true
  }
 },
 "nbformat": 4,
 "nbformat_minor": 2
}

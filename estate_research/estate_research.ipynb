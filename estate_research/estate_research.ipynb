{
 "cells": [
  {
   "cell_type": "markdown",
   "metadata": {},
   "source": [
    "# Исследование объявлений о продаже квартир\n",
    "\n",
    "В вашем распоряжении данные сервиса Яндекс.Недвижимость — архив объявлений о продаже квартир в Санкт-Петербурге и соседних населённых пунктов за несколько лет. Нужно научиться определять рыночную стоимость объектов недвижимости. Ваша задача — установить параметры. Это позволит построить автоматизированную систему: она отследит аномалии и мошенническую деятельность. \n",
    "\n",
    "По каждой квартире на продажу доступны два вида данных. Первые вписаны пользователем, вторые — получены автоматически на основе картографических данных. Например, расстояние до центра, аэропорта, ближайшего парка и водоёма. "
   ]
  },
  {
   "cell_type": "markdown",
   "metadata": {},
   "source": [
    "### Откройте файл с данными и изучите общую информацию. "
   ]
  },
  {
   "cell_type": "code",
   "execution_count": 1,
   "metadata": {
    "scrolled": true
   },
   "outputs": [
    {
     "data": {
      "text/html": [
       "<div>\n",
       "<style scoped>\n",
       "    .dataframe tbody tr th:only-of-type {\n",
       "        vertical-align: middle;\n",
       "    }\n",
       "\n",
       "    .dataframe tbody tr th {\n",
       "        vertical-align: top;\n",
       "    }\n",
       "\n",
       "    .dataframe thead th {\n",
       "        text-align: right;\n",
       "    }\n",
       "</style>\n",
       "<table border=\"1\" class=\"dataframe\">\n",
       "  <thead>\n",
       "    <tr style=\"text-align: right;\">\n",
       "      <th></th>\n",
       "      <th>total_images</th>\n",
       "      <th>last_price</th>\n",
       "      <th>total_area</th>\n",
       "      <th>first_day_exposition</th>\n",
       "      <th>rooms</th>\n",
       "      <th>ceiling_height</th>\n",
       "      <th>floors_total</th>\n",
       "      <th>living_area</th>\n",
       "      <th>floor</th>\n",
       "      <th>is_apartment</th>\n",
       "      <th>...</th>\n",
       "      <th>kitchen_area</th>\n",
       "      <th>balcony</th>\n",
       "      <th>locality_name</th>\n",
       "      <th>airports_nearest</th>\n",
       "      <th>cityCenters_nearest</th>\n",
       "      <th>parks_around3000</th>\n",
       "      <th>parks_nearest</th>\n",
       "      <th>ponds_around3000</th>\n",
       "      <th>ponds_nearest</th>\n",
       "      <th>days_exposition</th>\n",
       "    </tr>\n",
       "  </thead>\n",
       "  <tbody>\n",
       "    <tr>\n",
       "      <th>0</th>\n",
       "      <td>20</td>\n",
       "      <td>13000000.0</td>\n",
       "      <td>108.00</td>\n",
       "      <td>2019-03-07T00:00:00</td>\n",
       "      <td>3</td>\n",
       "      <td>2.70</td>\n",
       "      <td>16.0</td>\n",
       "      <td>51.00</td>\n",
       "      <td>8</td>\n",
       "      <td>NaN</td>\n",
       "      <td>...</td>\n",
       "      <td>25.00</td>\n",
       "      <td>NaN</td>\n",
       "      <td>Санкт-Петербург</td>\n",
       "      <td>18863.0</td>\n",
       "      <td>16028.0</td>\n",
       "      <td>1.0</td>\n",
       "      <td>482.0</td>\n",
       "      <td>2.0</td>\n",
       "      <td>755.0</td>\n",
       "      <td>NaN</td>\n",
       "    </tr>\n",
       "    <tr>\n",
       "      <th>1</th>\n",
       "      <td>7</td>\n",
       "      <td>3350000.0</td>\n",
       "      <td>40.40</td>\n",
       "      <td>2018-12-04T00:00:00</td>\n",
       "      <td>1</td>\n",
       "      <td>NaN</td>\n",
       "      <td>11.0</td>\n",
       "      <td>18.60</td>\n",
       "      <td>1</td>\n",
       "      <td>NaN</td>\n",
       "      <td>...</td>\n",
       "      <td>11.00</td>\n",
       "      <td>2.0</td>\n",
       "      <td>посёлок Шушары</td>\n",
       "      <td>12817.0</td>\n",
       "      <td>18603.0</td>\n",
       "      <td>0.0</td>\n",
       "      <td>NaN</td>\n",
       "      <td>0.0</td>\n",
       "      <td>NaN</td>\n",
       "      <td>81.0</td>\n",
       "    </tr>\n",
       "    <tr>\n",
       "      <th>2</th>\n",
       "      <td>10</td>\n",
       "      <td>5196000.0</td>\n",
       "      <td>56.00</td>\n",
       "      <td>2015-08-20T00:00:00</td>\n",
       "      <td>2</td>\n",
       "      <td>NaN</td>\n",
       "      <td>5.0</td>\n",
       "      <td>34.30</td>\n",
       "      <td>4</td>\n",
       "      <td>NaN</td>\n",
       "      <td>...</td>\n",
       "      <td>8.30</td>\n",
       "      <td>0.0</td>\n",
       "      <td>Санкт-Петербург</td>\n",
       "      <td>21741.0</td>\n",
       "      <td>13933.0</td>\n",
       "      <td>1.0</td>\n",
       "      <td>90.0</td>\n",
       "      <td>2.0</td>\n",
       "      <td>574.0</td>\n",
       "      <td>558.0</td>\n",
       "    </tr>\n",
       "    <tr>\n",
       "      <th>3</th>\n",
       "      <td>0</td>\n",
       "      <td>64900000.0</td>\n",
       "      <td>159.00</td>\n",
       "      <td>2015-07-24T00:00:00</td>\n",
       "      <td>3</td>\n",
       "      <td>NaN</td>\n",
       "      <td>14.0</td>\n",
       "      <td>NaN</td>\n",
       "      <td>9</td>\n",
       "      <td>NaN</td>\n",
       "      <td>...</td>\n",
       "      <td>NaN</td>\n",
       "      <td>0.0</td>\n",
       "      <td>Санкт-Петербург</td>\n",
       "      <td>28098.0</td>\n",
       "      <td>6800.0</td>\n",
       "      <td>2.0</td>\n",
       "      <td>84.0</td>\n",
       "      <td>3.0</td>\n",
       "      <td>234.0</td>\n",
       "      <td>424.0</td>\n",
       "    </tr>\n",
       "    <tr>\n",
       "      <th>4</th>\n",
       "      <td>2</td>\n",
       "      <td>10000000.0</td>\n",
       "      <td>100.00</td>\n",
       "      <td>2018-06-19T00:00:00</td>\n",
       "      <td>2</td>\n",
       "      <td>3.03</td>\n",
       "      <td>14.0</td>\n",
       "      <td>32.00</td>\n",
       "      <td>13</td>\n",
       "      <td>NaN</td>\n",
       "      <td>...</td>\n",
       "      <td>41.00</td>\n",
       "      <td>NaN</td>\n",
       "      <td>Санкт-Петербург</td>\n",
       "      <td>31856.0</td>\n",
       "      <td>8098.0</td>\n",
       "      <td>2.0</td>\n",
       "      <td>112.0</td>\n",
       "      <td>1.0</td>\n",
       "      <td>48.0</td>\n",
       "      <td>121.0</td>\n",
       "    </tr>\n",
       "    <tr>\n",
       "      <th>5</th>\n",
       "      <td>10</td>\n",
       "      <td>2890000.0</td>\n",
       "      <td>30.40</td>\n",
       "      <td>2018-09-10T00:00:00</td>\n",
       "      <td>1</td>\n",
       "      <td>NaN</td>\n",
       "      <td>12.0</td>\n",
       "      <td>14.40</td>\n",
       "      <td>5</td>\n",
       "      <td>NaN</td>\n",
       "      <td>...</td>\n",
       "      <td>9.10</td>\n",
       "      <td>NaN</td>\n",
       "      <td>городской посёлок Янино-1</td>\n",
       "      <td>NaN</td>\n",
       "      <td>NaN</td>\n",
       "      <td>NaN</td>\n",
       "      <td>NaN</td>\n",
       "      <td>NaN</td>\n",
       "      <td>NaN</td>\n",
       "      <td>55.0</td>\n",
       "    </tr>\n",
       "    <tr>\n",
       "      <th>6</th>\n",
       "      <td>6</td>\n",
       "      <td>3700000.0</td>\n",
       "      <td>37.30</td>\n",
       "      <td>2017-11-02T00:00:00</td>\n",
       "      <td>1</td>\n",
       "      <td>NaN</td>\n",
       "      <td>26.0</td>\n",
       "      <td>10.60</td>\n",
       "      <td>6</td>\n",
       "      <td>NaN</td>\n",
       "      <td>...</td>\n",
       "      <td>14.40</td>\n",
       "      <td>1.0</td>\n",
       "      <td>посёлок Парголово</td>\n",
       "      <td>52996.0</td>\n",
       "      <td>19143.0</td>\n",
       "      <td>0.0</td>\n",
       "      <td>NaN</td>\n",
       "      <td>0.0</td>\n",
       "      <td>NaN</td>\n",
       "      <td>155.0</td>\n",
       "    </tr>\n",
       "    <tr>\n",
       "      <th>7</th>\n",
       "      <td>5</td>\n",
       "      <td>7915000.0</td>\n",
       "      <td>71.60</td>\n",
       "      <td>2019-04-18T00:00:00</td>\n",
       "      <td>2</td>\n",
       "      <td>NaN</td>\n",
       "      <td>24.0</td>\n",
       "      <td>NaN</td>\n",
       "      <td>22</td>\n",
       "      <td>NaN</td>\n",
       "      <td>...</td>\n",
       "      <td>18.90</td>\n",
       "      <td>2.0</td>\n",
       "      <td>Санкт-Петербург</td>\n",
       "      <td>23982.0</td>\n",
       "      <td>11634.0</td>\n",
       "      <td>0.0</td>\n",
       "      <td>NaN</td>\n",
       "      <td>0.0</td>\n",
       "      <td>NaN</td>\n",
       "      <td>NaN</td>\n",
       "    </tr>\n",
       "    <tr>\n",
       "      <th>8</th>\n",
       "      <td>20</td>\n",
       "      <td>2900000.0</td>\n",
       "      <td>33.16</td>\n",
       "      <td>2018-05-23T00:00:00</td>\n",
       "      <td>1</td>\n",
       "      <td>NaN</td>\n",
       "      <td>27.0</td>\n",
       "      <td>15.43</td>\n",
       "      <td>26</td>\n",
       "      <td>NaN</td>\n",
       "      <td>...</td>\n",
       "      <td>8.81</td>\n",
       "      <td>NaN</td>\n",
       "      <td>посёлок Мурино</td>\n",
       "      <td>NaN</td>\n",
       "      <td>NaN</td>\n",
       "      <td>NaN</td>\n",
       "      <td>NaN</td>\n",
       "      <td>NaN</td>\n",
       "      <td>NaN</td>\n",
       "      <td>189.0</td>\n",
       "    </tr>\n",
       "    <tr>\n",
       "      <th>9</th>\n",
       "      <td>18</td>\n",
       "      <td>5400000.0</td>\n",
       "      <td>61.00</td>\n",
       "      <td>2017-02-26T00:00:00</td>\n",
       "      <td>3</td>\n",
       "      <td>2.50</td>\n",
       "      <td>9.0</td>\n",
       "      <td>43.60</td>\n",
       "      <td>7</td>\n",
       "      <td>NaN</td>\n",
       "      <td>...</td>\n",
       "      <td>6.50</td>\n",
       "      <td>2.0</td>\n",
       "      <td>Санкт-Петербург</td>\n",
       "      <td>50898.0</td>\n",
       "      <td>15008.0</td>\n",
       "      <td>0.0</td>\n",
       "      <td>NaN</td>\n",
       "      <td>0.0</td>\n",
       "      <td>NaN</td>\n",
       "      <td>289.0</td>\n",
       "    </tr>\n",
       "    <tr>\n",
       "      <th>10</th>\n",
       "      <td>5</td>\n",
       "      <td>5050000.0</td>\n",
       "      <td>39.60</td>\n",
       "      <td>2017-11-16T00:00:00</td>\n",
       "      <td>1</td>\n",
       "      <td>2.67</td>\n",
       "      <td>12.0</td>\n",
       "      <td>20.30</td>\n",
       "      <td>3</td>\n",
       "      <td>NaN</td>\n",
       "      <td>...</td>\n",
       "      <td>8.50</td>\n",
       "      <td>NaN</td>\n",
       "      <td>Санкт-Петербург</td>\n",
       "      <td>38357.0</td>\n",
       "      <td>13878.0</td>\n",
       "      <td>1.0</td>\n",
       "      <td>310.0</td>\n",
       "      <td>2.0</td>\n",
       "      <td>553.0</td>\n",
       "      <td>137.0</td>\n",
       "    </tr>\n",
       "    <tr>\n",
       "      <th>11</th>\n",
       "      <td>9</td>\n",
       "      <td>3300000.0</td>\n",
       "      <td>44.00</td>\n",
       "      <td>2018-08-27T00:00:00</td>\n",
       "      <td>2</td>\n",
       "      <td>NaN</td>\n",
       "      <td>5.0</td>\n",
       "      <td>31.00</td>\n",
       "      <td>4</td>\n",
       "      <td>False</td>\n",
       "      <td>...</td>\n",
       "      <td>6.00</td>\n",
       "      <td>1.0</td>\n",
       "      <td>Ломоносов</td>\n",
       "      <td>48252.0</td>\n",
       "      <td>51677.0</td>\n",
       "      <td>0.0</td>\n",
       "      <td>NaN</td>\n",
       "      <td>0.0</td>\n",
       "      <td>NaN</td>\n",
       "      <td>7.0</td>\n",
       "    </tr>\n",
       "    <tr>\n",
       "      <th>12</th>\n",
       "      <td>10</td>\n",
       "      <td>3890000.0</td>\n",
       "      <td>54.00</td>\n",
       "      <td>2016-06-30T00:00:00</td>\n",
       "      <td>2</td>\n",
       "      <td>NaN</td>\n",
       "      <td>5.0</td>\n",
       "      <td>30.00</td>\n",
       "      <td>5</td>\n",
       "      <td>NaN</td>\n",
       "      <td>...</td>\n",
       "      <td>9.00</td>\n",
       "      <td>0.0</td>\n",
       "      <td>Сертолово</td>\n",
       "      <td>NaN</td>\n",
       "      <td>NaN</td>\n",
       "      <td>NaN</td>\n",
       "      <td>NaN</td>\n",
       "      <td>NaN</td>\n",
       "      <td>NaN</td>\n",
       "      <td>90.0</td>\n",
       "    </tr>\n",
       "    <tr>\n",
       "      <th>13</th>\n",
       "      <td>20</td>\n",
       "      <td>3550000.0</td>\n",
       "      <td>42.80</td>\n",
       "      <td>2017-07-01T00:00:00</td>\n",
       "      <td>2</td>\n",
       "      <td>2.56</td>\n",
       "      <td>5.0</td>\n",
       "      <td>27.00</td>\n",
       "      <td>5</td>\n",
       "      <td>NaN</td>\n",
       "      <td>...</td>\n",
       "      <td>5.20</td>\n",
       "      <td>1.0</td>\n",
       "      <td>Петергоф</td>\n",
       "      <td>37868.0</td>\n",
       "      <td>33058.0</td>\n",
       "      <td>1.0</td>\n",
       "      <td>294.0</td>\n",
       "      <td>3.0</td>\n",
       "      <td>298.0</td>\n",
       "      <td>366.0</td>\n",
       "    </tr>\n",
       "    <tr>\n",
       "      <th>14</th>\n",
       "      <td>1</td>\n",
       "      <td>4400000.0</td>\n",
       "      <td>36.00</td>\n",
       "      <td>2016-06-23T00:00:00</td>\n",
       "      <td>1</td>\n",
       "      <td>NaN</td>\n",
       "      <td>6.0</td>\n",
       "      <td>17.00</td>\n",
       "      <td>1</td>\n",
       "      <td>NaN</td>\n",
       "      <td>...</td>\n",
       "      <td>8.00</td>\n",
       "      <td>0.0</td>\n",
       "      <td>Пушкин</td>\n",
       "      <td>20782.0</td>\n",
       "      <td>30759.0</td>\n",
       "      <td>0.0</td>\n",
       "      <td>NaN</td>\n",
       "      <td>1.0</td>\n",
       "      <td>96.0</td>\n",
       "      <td>203.0</td>\n",
       "    </tr>\n",
       "    <tr>\n",
       "      <th>15</th>\n",
       "      <td>16</td>\n",
       "      <td>4650000.0</td>\n",
       "      <td>39.00</td>\n",
       "      <td>2017-11-18T00:00:00</td>\n",
       "      <td>1</td>\n",
       "      <td>NaN</td>\n",
       "      <td>14.0</td>\n",
       "      <td>20.50</td>\n",
       "      <td>5</td>\n",
       "      <td>NaN</td>\n",
       "      <td>...</td>\n",
       "      <td>7.60</td>\n",
       "      <td>1.0</td>\n",
       "      <td>Санкт-Петербург</td>\n",
       "      <td>12900.0</td>\n",
       "      <td>14259.0</td>\n",
       "      <td>1.0</td>\n",
       "      <td>590.0</td>\n",
       "      <td>1.0</td>\n",
       "      <td>296.0</td>\n",
       "      <td>19.0</td>\n",
       "    </tr>\n",
       "    <tr>\n",
       "      <th>16</th>\n",
       "      <td>11</td>\n",
       "      <td>6700000.0</td>\n",
       "      <td>82.00</td>\n",
       "      <td>2017-11-23T00:00:00</td>\n",
       "      <td>3</td>\n",
       "      <td>3.05</td>\n",
       "      <td>5.0</td>\n",
       "      <td>55.60</td>\n",
       "      <td>1</td>\n",
       "      <td>NaN</td>\n",
       "      <td>...</td>\n",
       "      <td>9.00</td>\n",
       "      <td>NaN</td>\n",
       "      <td>Санкт-Петербург</td>\n",
       "      <td>22108.0</td>\n",
       "      <td>10698.0</td>\n",
       "      <td>3.0</td>\n",
       "      <td>420.0</td>\n",
       "      <td>0.0</td>\n",
       "      <td>NaN</td>\n",
       "      <td>397.0</td>\n",
       "    </tr>\n",
       "    <tr>\n",
       "      <th>17</th>\n",
       "      <td>6</td>\n",
       "      <td>4180000.0</td>\n",
       "      <td>36.00</td>\n",
       "      <td>2016-09-09T00:00:00</td>\n",
       "      <td>1</td>\n",
       "      <td>NaN</td>\n",
       "      <td>17.0</td>\n",
       "      <td>16.50</td>\n",
       "      <td>7</td>\n",
       "      <td>NaN</td>\n",
       "      <td>...</td>\n",
       "      <td>11.00</td>\n",
       "      <td>1.0</td>\n",
       "      <td>Санкт-Петербург</td>\n",
       "      <td>33564.0</td>\n",
       "      <td>14616.0</td>\n",
       "      <td>0.0</td>\n",
       "      <td>NaN</td>\n",
       "      <td>1.0</td>\n",
       "      <td>859.0</td>\n",
       "      <td>571.0</td>\n",
       "    </tr>\n",
       "    <tr>\n",
       "      <th>18</th>\n",
       "      <td>8</td>\n",
       "      <td>3250000.0</td>\n",
       "      <td>31.00</td>\n",
       "      <td>2017-01-27T00:00:00</td>\n",
       "      <td>1</td>\n",
       "      <td>2.50</td>\n",
       "      <td>5.0</td>\n",
       "      <td>19.40</td>\n",
       "      <td>2</td>\n",
       "      <td>NaN</td>\n",
       "      <td>...</td>\n",
       "      <td>5.60</td>\n",
       "      <td>1.0</td>\n",
       "      <td>Санкт-Петербург</td>\n",
       "      <td>44060.0</td>\n",
       "      <td>10842.0</td>\n",
       "      <td>1.0</td>\n",
       "      <td>759.0</td>\n",
       "      <td>0.0</td>\n",
       "      <td>NaN</td>\n",
       "      <td>168.0</td>\n",
       "    </tr>\n",
       "    <tr>\n",
       "      <th>19</th>\n",
       "      <td>16</td>\n",
       "      <td>14200000.0</td>\n",
       "      <td>121.00</td>\n",
       "      <td>2019-01-09T00:00:00</td>\n",
       "      <td>3</td>\n",
       "      <td>2.75</td>\n",
       "      <td>16.0</td>\n",
       "      <td>76.00</td>\n",
       "      <td>8</td>\n",
       "      <td>NaN</td>\n",
       "      <td>...</td>\n",
       "      <td>12.00</td>\n",
       "      <td>NaN</td>\n",
       "      <td>Санкт-Петербург</td>\n",
       "      <td>38900.0</td>\n",
       "      <td>12843.0</td>\n",
       "      <td>0.0</td>\n",
       "      <td>NaN</td>\n",
       "      <td>0.0</td>\n",
       "      <td>NaN</td>\n",
       "      <td>97.0</td>\n",
       "    </tr>\n",
       "  </tbody>\n",
       "</table>\n",
       "<p>20 rows × 22 columns</p>\n",
       "</div>"
      ],
      "text/plain": [
       "    total_images  last_price  total_area first_day_exposition  rooms  \\\n",
       "0             20  13000000.0      108.00  2019-03-07T00:00:00      3   \n",
       "1              7   3350000.0       40.40  2018-12-04T00:00:00      1   \n",
       "2             10   5196000.0       56.00  2015-08-20T00:00:00      2   \n",
       "3              0  64900000.0      159.00  2015-07-24T00:00:00      3   \n",
       "4              2  10000000.0      100.00  2018-06-19T00:00:00      2   \n",
       "5             10   2890000.0       30.40  2018-09-10T00:00:00      1   \n",
       "6              6   3700000.0       37.30  2017-11-02T00:00:00      1   \n",
       "7              5   7915000.0       71.60  2019-04-18T00:00:00      2   \n",
       "8             20   2900000.0       33.16  2018-05-23T00:00:00      1   \n",
       "9             18   5400000.0       61.00  2017-02-26T00:00:00      3   \n",
       "10             5   5050000.0       39.60  2017-11-16T00:00:00      1   \n",
       "11             9   3300000.0       44.00  2018-08-27T00:00:00      2   \n",
       "12            10   3890000.0       54.00  2016-06-30T00:00:00      2   \n",
       "13            20   3550000.0       42.80  2017-07-01T00:00:00      2   \n",
       "14             1   4400000.0       36.00  2016-06-23T00:00:00      1   \n",
       "15            16   4650000.0       39.00  2017-11-18T00:00:00      1   \n",
       "16            11   6700000.0       82.00  2017-11-23T00:00:00      3   \n",
       "17             6   4180000.0       36.00  2016-09-09T00:00:00      1   \n",
       "18             8   3250000.0       31.00  2017-01-27T00:00:00      1   \n",
       "19            16  14200000.0      121.00  2019-01-09T00:00:00      3   \n",
       "\n",
       "    ceiling_height  floors_total  living_area  floor is_apartment  ...  \\\n",
       "0             2.70          16.0        51.00      8          NaN  ...   \n",
       "1              NaN          11.0        18.60      1          NaN  ...   \n",
       "2              NaN           5.0        34.30      4          NaN  ...   \n",
       "3              NaN          14.0          NaN      9          NaN  ...   \n",
       "4             3.03          14.0        32.00     13          NaN  ...   \n",
       "5              NaN          12.0        14.40      5          NaN  ...   \n",
       "6              NaN          26.0        10.60      6          NaN  ...   \n",
       "7              NaN          24.0          NaN     22          NaN  ...   \n",
       "8              NaN          27.0        15.43     26          NaN  ...   \n",
       "9             2.50           9.0        43.60      7          NaN  ...   \n",
       "10            2.67          12.0        20.30      3          NaN  ...   \n",
       "11             NaN           5.0        31.00      4        False  ...   \n",
       "12             NaN           5.0        30.00      5          NaN  ...   \n",
       "13            2.56           5.0        27.00      5          NaN  ...   \n",
       "14             NaN           6.0        17.00      1          NaN  ...   \n",
       "15             NaN          14.0        20.50      5          NaN  ...   \n",
       "16            3.05           5.0        55.60      1          NaN  ...   \n",
       "17             NaN          17.0        16.50      7          NaN  ...   \n",
       "18            2.50           5.0        19.40      2          NaN  ...   \n",
       "19            2.75          16.0        76.00      8          NaN  ...   \n",
       "\n",
       "    kitchen_area  balcony              locality_name  airports_nearest  \\\n",
       "0          25.00      NaN            Санкт-Петербург           18863.0   \n",
       "1          11.00      2.0             посёлок Шушары           12817.0   \n",
       "2           8.30      0.0            Санкт-Петербург           21741.0   \n",
       "3            NaN      0.0            Санкт-Петербург           28098.0   \n",
       "4          41.00      NaN            Санкт-Петербург           31856.0   \n",
       "5           9.10      NaN  городской посёлок Янино-1               NaN   \n",
       "6          14.40      1.0          посёлок Парголово           52996.0   \n",
       "7          18.90      2.0            Санкт-Петербург           23982.0   \n",
       "8           8.81      NaN             посёлок Мурино               NaN   \n",
       "9           6.50      2.0            Санкт-Петербург           50898.0   \n",
       "10          8.50      NaN            Санкт-Петербург           38357.0   \n",
       "11          6.00      1.0                  Ломоносов           48252.0   \n",
       "12          9.00      0.0                  Сертолово               NaN   \n",
       "13          5.20      1.0                   Петергоф           37868.0   \n",
       "14          8.00      0.0                     Пушкин           20782.0   \n",
       "15          7.60      1.0            Санкт-Петербург           12900.0   \n",
       "16          9.00      NaN            Санкт-Петербург           22108.0   \n",
       "17         11.00      1.0            Санкт-Петербург           33564.0   \n",
       "18          5.60      1.0            Санкт-Петербург           44060.0   \n",
       "19         12.00      NaN            Санкт-Петербург           38900.0   \n",
       "\n",
       "   cityCenters_nearest  parks_around3000  parks_nearest  ponds_around3000  \\\n",
       "0              16028.0               1.0          482.0               2.0   \n",
       "1              18603.0               0.0            NaN               0.0   \n",
       "2              13933.0               1.0           90.0               2.0   \n",
       "3               6800.0               2.0           84.0               3.0   \n",
       "4               8098.0               2.0          112.0               1.0   \n",
       "5                  NaN               NaN            NaN               NaN   \n",
       "6              19143.0               0.0            NaN               0.0   \n",
       "7              11634.0               0.0            NaN               0.0   \n",
       "8                  NaN               NaN            NaN               NaN   \n",
       "9              15008.0               0.0            NaN               0.0   \n",
       "10             13878.0               1.0          310.0               2.0   \n",
       "11             51677.0               0.0            NaN               0.0   \n",
       "12                 NaN               NaN            NaN               NaN   \n",
       "13             33058.0               1.0          294.0               3.0   \n",
       "14             30759.0               0.0            NaN               1.0   \n",
       "15             14259.0               1.0          590.0               1.0   \n",
       "16             10698.0               3.0          420.0               0.0   \n",
       "17             14616.0               0.0            NaN               1.0   \n",
       "18             10842.0               1.0          759.0               0.0   \n",
       "19             12843.0               0.0            NaN               0.0   \n",
       "\n",
       "    ponds_nearest  days_exposition  \n",
       "0           755.0              NaN  \n",
       "1             NaN             81.0  \n",
       "2           574.0            558.0  \n",
       "3           234.0            424.0  \n",
       "4            48.0            121.0  \n",
       "5             NaN             55.0  \n",
       "6             NaN            155.0  \n",
       "7             NaN              NaN  \n",
       "8             NaN            189.0  \n",
       "9             NaN            289.0  \n",
       "10          553.0            137.0  \n",
       "11            NaN              7.0  \n",
       "12            NaN             90.0  \n",
       "13          298.0            366.0  \n",
       "14           96.0            203.0  \n",
       "15          296.0             19.0  \n",
       "16            NaN            397.0  \n",
       "17          859.0            571.0  \n",
       "18            NaN            168.0  \n",
       "19            NaN             97.0  \n",
       "\n",
       "[20 rows x 22 columns]"
      ]
     },
     "metadata": {},
     "output_type": "display_data"
    },
    {
     "name": "stdout",
     "output_type": "stream",
     "text": [
      "<class 'pandas.core.frame.DataFrame'>\n",
      "RangeIndex: 23699 entries, 0 to 23698\n",
      "Data columns (total 22 columns):\n",
      " #   Column                Non-Null Count  Dtype  \n",
      "---  ------                --------------  -----  \n",
      " 0   total_images          23699 non-null  int64  \n",
      " 1   last_price            23699 non-null  float64\n",
      " 2   total_area            23699 non-null  float64\n",
      " 3   first_day_exposition  23699 non-null  object \n",
      " 4   rooms                 23699 non-null  int64  \n",
      " 5   ceiling_height        14504 non-null  float64\n",
      " 6   floors_total          23613 non-null  float64\n",
      " 7   living_area           21796 non-null  float64\n",
      " 8   floor                 23699 non-null  int64  \n",
      " 9   is_apartment          2775 non-null   object \n",
      " 10  studio                23699 non-null  bool   \n",
      " 11  open_plan             23699 non-null  bool   \n",
      " 12  kitchen_area          21421 non-null  float64\n",
      " 13  balcony               12180 non-null  float64\n",
      " 14  locality_name         23650 non-null  object \n",
      " 15  airports_nearest      18157 non-null  float64\n",
      " 16  cityCenters_nearest   18180 non-null  float64\n",
      " 17  parks_around3000      18181 non-null  float64\n",
      " 18  parks_nearest         8079 non-null   float64\n",
      " 19  ponds_around3000      18181 non-null  float64\n",
      " 20  ponds_nearest         9110 non-null   float64\n",
      " 21  days_exposition       20518 non-null  float64\n",
      "dtypes: bool(2), float64(14), int64(3), object(3)\n",
      "memory usage: 3.7+ MB\n"
     ]
    },
    {
     "data": {
      "text/plain": [
       "total_images                0\n",
       "last_price                  0\n",
       "total_area                  0\n",
       "first_day_exposition        0\n",
       "rooms                       0\n",
       "ceiling_height           9195\n",
       "floors_total               86\n",
       "living_area              1903\n",
       "floor                       0\n",
       "is_apartment            20924\n",
       "studio                      0\n",
       "open_plan                   0\n",
       "kitchen_area             2278\n",
       "balcony                 11519\n",
       "locality_name              49\n",
       "airports_nearest         5542\n",
       "cityCenters_nearest      5519\n",
       "parks_around3000         5518\n",
       "parks_nearest           15620\n",
       "ponds_around3000         5518\n",
       "ponds_nearest           14589\n",
       "days_exposition          3181\n",
       "dtype: int64"
      ]
     },
     "execution_count": 1,
     "metadata": {},
     "output_type": "execute_result"
    }
   ],
   "source": [
    "import pandas as pd\n",
    "import matplotlib.pyplot as plt\n",
    "\n",
    "data= pd.read_csv('/datasets/real_estate_data.csv', sep='\\t')\n",
    "#data.hist(figsize=(15.20))\n",
    "display(data.head(20))\n",
    "data.info()\n",
    "data.isna().sum()"
   ]
  },
  {
   "cell_type": "markdown",
   "metadata": {},
   "source": [
    "1. last_price - должен быть тип int \n",
    "2. first_day_exposition - object - должен быть тип datetime\n",
    "3. ceiling_height - нулевые значения\n",
    "4. floors_total - должен быть тип int, т.к. количество этажей - целое значение\n",
    "5. is_apartment - должен быть тип bool\n",
    "6. living_area - нулевые значения\n",
    "7. kitchen_area - нулевые значения\n",
    "8. balcony - нулевые значения\n",
    "9. locality_name - нулевые значения\n",
    "10. airports_nearest - нулевые значения\n",
    "11. cityCenters_nearest - нулевые значения\n",
    "12. parks_around3000 - тип должен быть int \n",
    "13. parks_nearest - нулевые значения\n",
    "14. ponds_around3000 - тип должен быть int \n",
    "15. ponds_nearest - нулевые значения\n",
    "16. days_exposition - тип должен быть int"
   ]
  },
  {
   "cell_type": "markdown",
   "metadata": {},
   "source": [
    "### Предобработка данных"
   ]
  },
  {
   "cell_type": "code",
   "execution_count": 2,
   "metadata": {
    "scrolled": false
   },
   "outputs": [
    {
     "data": {
      "text/plain": [
       "total_images                0\n",
       "last_price                  0\n",
       "total_area                  0\n",
       "first_day_exposition        0\n",
       "rooms                       0\n",
       "ceiling_height              0\n",
       "floors_total                0\n",
       "living_area                 0\n",
       "floor                       0\n",
       "is_apartment                0\n",
       "studio                      0\n",
       "open_plan                   0\n",
       "kitchen_area                0\n",
       "balcony                     0\n",
       "locality_name               0\n",
       "airports_nearest         5524\n",
       "cityCenters_nearest      5501\n",
       "parks_around3000            0\n",
       "parks_nearest           15535\n",
       "ponds_around3000            0\n",
       "ponds_nearest           14529\n",
       "days_exposition             0\n",
       "dtype: int64"
      ]
     },
     "metadata": {},
     "output_type": "display_data"
    }
   ],
   "source": [
    "#Приводим к целым числам стоимость продажи квартир\n",
    "data['last_price'] = data['last_price'].astype('int')\n",
    "#Переводим дату публикации к типу даты\n",
    "data['first_day_exposition'] = pd.to_datetime(data['first_day_exposition'], format = '%Y-%m-%d')\n",
    "#Заполняем пропуски в высоте потолков мдеианой, чтобы выборка не ушла\n",
    "data['ceiling_height'].fillna(data['ceiling_height'].median(), inplace=True)\n",
    "#Исключаем записи, где отсутствует локация и этажность\n",
    "data.dropna(subset=['locality_name'], inplace=True)\n",
    "data.dropna(subset=['floors_total'], inplace=True)\n",
    "#Приводим этажность к целым числам\n",
    "data['floors_total'] = data['floors_total'].astype('int')\n",
    "#Заменяем пропушенные значения на нет\n",
    "data['is_apartment'] = data['is_apartment'].fillna(False)\n",
    "#Заполняем пропуски с втолбцах на 0, приводим к целочисленному типу\n",
    "data['balcony'] = data['balcony'].fillna(value=0).astype('int')\n",
    "data['parks_around3000'] = data['parks_around3000'].fillna(value=0).astype('int')\n",
    "data['ponds_around3000'] = data['ponds_around3000'].fillna(value=0).astype('int')\n",
    "data['days_exposition'] = data['days_exposition'].fillna(9999).astype('int')\n",
    "#Заполняем пропуски в жилой площади и площади кухни\n",
    "living_ratio = data['living_area'].mean() / data['total_area'].mean()\n",
    "kitchen_ratio = data['kitchen_area'].mean() / data['total_area'].mean()\n",
    "data['living_area'].fillna(living_ratio * data['total_area'], inplace=True)\n",
    "data['kitchen_area'].fillna(kitchen_ratio * data['total_area'], inplace=True)\n",
    "\n",
    "\n",
    "#Удаляем неявные дубликаты в географических названиях\n",
    "data['locality_name'] =  data['locality_name'].str.lower()\n",
    "data['locality_name'] = data['locality_name'].str.replace('ё', 'е')\n",
    "data['locality_name'] = data['locality_name'].str.replace('городского типа','')\n",
    "data['locality_name'].value_counts()\n",
    "\n",
    "#Смотрим количество пропусков\n",
    "display(data.isnull().sum())"
   ]
  },
  {
   "cell_type": "markdown",
   "metadata": {},
   "source": [
    "### Посчитайте и добавьте в таблицу новые столбцы"
   ]
  },
  {
   "cell_type": "code",
   "execution_count": 3,
   "metadata": {},
   "outputs": [
    {
     "data": {
      "text/html": [
       "<div>\n",
       "<style scoped>\n",
       "    .dataframe tbody tr th:only-of-type {\n",
       "        vertical-align: middle;\n",
       "    }\n",
       "\n",
       "    .dataframe tbody tr th {\n",
       "        vertical-align: top;\n",
       "    }\n",
       "\n",
       "    .dataframe thead th {\n",
       "        text-align: right;\n",
       "    }\n",
       "</style>\n",
       "<table border=\"1\" class=\"dataframe\">\n",
       "  <thead>\n",
       "    <tr style=\"text-align: right;\">\n",
       "      <th></th>\n",
       "      <th>total_images</th>\n",
       "      <th>last_price</th>\n",
       "      <th>total_area</th>\n",
       "      <th>first_day_exposition</th>\n",
       "      <th>rooms</th>\n",
       "      <th>ceiling_height</th>\n",
       "      <th>floors_total</th>\n",
       "      <th>living_area</th>\n",
       "      <th>floor</th>\n",
       "      <th>is_apartment</th>\n",
       "      <th>...</th>\n",
       "      <th>parks_nearest</th>\n",
       "      <th>ponds_around3000</th>\n",
       "      <th>ponds_nearest</th>\n",
       "      <th>days_exposition</th>\n",
       "      <th>sm_price</th>\n",
       "      <th>weekday</th>\n",
       "      <th>month</th>\n",
       "      <th>year</th>\n",
       "      <th>floor_type</th>\n",
       "      <th>city_centre</th>\n",
       "    </tr>\n",
       "  </thead>\n",
       "  <tbody>\n",
       "    <tr>\n",
       "      <th>0</th>\n",
       "      <td>20</td>\n",
       "      <td>13000000</td>\n",
       "      <td>108.0</td>\n",
       "      <td>2019-03-07</td>\n",
       "      <td>3</td>\n",
       "      <td>2.70</td>\n",
       "      <td>16</td>\n",
       "      <td>51.000000</td>\n",
       "      <td>8</td>\n",
       "      <td>False</td>\n",
       "      <td>...</td>\n",
       "      <td>482.0</td>\n",
       "      <td>2</td>\n",
       "      <td>755.0</td>\n",
       "      <td>9999</td>\n",
       "      <td>120370</td>\n",
       "      <td>3</td>\n",
       "      <td>3</td>\n",
       "      <td>2019</td>\n",
       "      <td>другой</td>\n",
       "      <td>16.0</td>\n",
       "    </tr>\n",
       "    <tr>\n",
       "      <th>1</th>\n",
       "      <td>7</td>\n",
       "      <td>3350000</td>\n",
       "      <td>40.4</td>\n",
       "      <td>2018-12-04</td>\n",
       "      <td>1</td>\n",
       "      <td>2.65</td>\n",
       "      <td>11</td>\n",
       "      <td>18.600000</td>\n",
       "      <td>1</td>\n",
       "      <td>False</td>\n",
       "      <td>...</td>\n",
       "      <td>NaN</td>\n",
       "      <td>0</td>\n",
       "      <td>NaN</td>\n",
       "      <td>81</td>\n",
       "      <td>82920</td>\n",
       "      <td>1</td>\n",
       "      <td>12</td>\n",
       "      <td>2018</td>\n",
       "      <td>первый</td>\n",
       "      <td>19.0</td>\n",
       "    </tr>\n",
       "    <tr>\n",
       "      <th>2</th>\n",
       "      <td>10</td>\n",
       "      <td>5196000</td>\n",
       "      <td>56.0</td>\n",
       "      <td>2015-08-20</td>\n",
       "      <td>2</td>\n",
       "      <td>2.65</td>\n",
       "      <td>5</td>\n",
       "      <td>34.300000</td>\n",
       "      <td>4</td>\n",
       "      <td>False</td>\n",
       "      <td>...</td>\n",
       "      <td>90.0</td>\n",
       "      <td>2</td>\n",
       "      <td>574.0</td>\n",
       "      <td>558</td>\n",
       "      <td>92785</td>\n",
       "      <td>3</td>\n",
       "      <td>8</td>\n",
       "      <td>2015</td>\n",
       "      <td>другой</td>\n",
       "      <td>14.0</td>\n",
       "    </tr>\n",
       "    <tr>\n",
       "      <th>3</th>\n",
       "      <td>0</td>\n",
       "      <td>64900000</td>\n",
       "      <td>159.0</td>\n",
       "      <td>2015-07-24</td>\n",
       "      <td>3</td>\n",
       "      <td>2.65</td>\n",
       "      <td>14</td>\n",
       "      <td>90.816648</td>\n",
       "      <td>9</td>\n",
       "      <td>False</td>\n",
       "      <td>...</td>\n",
       "      <td>84.0</td>\n",
       "      <td>3</td>\n",
       "      <td>234.0</td>\n",
       "      <td>424</td>\n",
       "      <td>408176</td>\n",
       "      <td>4</td>\n",
       "      <td>7</td>\n",
       "      <td>2015</td>\n",
       "      <td>другой</td>\n",
       "      <td>7.0</td>\n",
       "    </tr>\n",
       "    <tr>\n",
       "      <th>4</th>\n",
       "      <td>2</td>\n",
       "      <td>10000000</td>\n",
       "      <td>100.0</td>\n",
       "      <td>2018-06-19</td>\n",
       "      <td>2</td>\n",
       "      <td>3.03</td>\n",
       "      <td>14</td>\n",
       "      <td>32.000000</td>\n",
       "      <td>13</td>\n",
       "      <td>False</td>\n",
       "      <td>...</td>\n",
       "      <td>112.0</td>\n",
       "      <td>1</td>\n",
       "      <td>48.0</td>\n",
       "      <td>121</td>\n",
       "      <td>100000</td>\n",
       "      <td>1</td>\n",
       "      <td>6</td>\n",
       "      <td>2018</td>\n",
       "      <td>другой</td>\n",
       "      <td>8.0</td>\n",
       "    </tr>\n",
       "  </tbody>\n",
       "</table>\n",
       "<p>5 rows × 28 columns</p>\n",
       "</div>"
      ],
      "text/plain": [
       "   total_images  last_price  total_area first_day_exposition  rooms  \\\n",
       "0            20    13000000       108.0           2019-03-07      3   \n",
       "1             7     3350000        40.4           2018-12-04      1   \n",
       "2            10     5196000        56.0           2015-08-20      2   \n",
       "3             0    64900000       159.0           2015-07-24      3   \n",
       "4             2    10000000       100.0           2018-06-19      2   \n",
       "\n",
       "   ceiling_height  floors_total  living_area  floor  is_apartment  ...  \\\n",
       "0            2.70            16    51.000000      8         False  ...   \n",
       "1            2.65            11    18.600000      1         False  ...   \n",
       "2            2.65             5    34.300000      4         False  ...   \n",
       "3            2.65            14    90.816648      9         False  ...   \n",
       "4            3.03            14    32.000000     13         False  ...   \n",
       "\n",
       "   parks_nearest  ponds_around3000  ponds_nearest  days_exposition sm_price  \\\n",
       "0          482.0                 2          755.0             9999   120370   \n",
       "1            NaN                 0            NaN               81    82920   \n",
       "2           90.0                 2          574.0              558    92785   \n",
       "3           84.0                 3          234.0              424   408176   \n",
       "4          112.0                 1           48.0              121   100000   \n",
       "\n",
       "   weekday  month  year  floor_type  city_centre  \n",
       "0        3      3  2019      другой         16.0  \n",
       "1        1     12  2018      первый         19.0  \n",
       "2        3      8  2015      другой         14.0  \n",
       "3        4      7  2015      другой          7.0  \n",
       "4        1      6  2018      другой          8.0  \n",
       "\n",
       "[5 rows x 28 columns]"
      ]
     },
     "metadata": {},
     "output_type": "display_data"
    }
   ],
   "source": [
    "# Добавляем столбец со стоимостью квадратного метра (sm_price) и приводим его в целочисленный тип\n",
    "data['sm_price'] = data['last_price'] / data['total_area']\n",
    "data['sm_price'] = data['sm_price'].astype(int)\n",
    "\n",
    "# Добавляем столбцы дня недели, месяца и года\n",
    "data['weekday'] = data['first_day_exposition'].dt.weekday\n",
    "data['month'] = data['first_day_exposition'].dt.month\n",
    "data['year'] = data['first_day_exposition'].dt.year\n",
    "\n",
    "#Устанавливаем тип этажа\n",
    "def floor_group(row):\n",
    "    if row['floor'] == 1:\n",
    "        return 'первый'\n",
    "    elif row['floor'] == row['floors_total']:\n",
    "        return 'последний'\n",
    "    else:\n",
    "        return 'другой'\n",
    "data['floor_type'] = data.apply(floor_group, axis=1)\n",
    "\n",
    "#Переводим расстояние до центра города в км\n",
    "data['city_centre'] = data['cityCenters_nearest']/1000\n",
    "data['city_centre'] = data['city_centre'].round(0)\n",
    "\n",
    "display(data.head())\n",
    "\n"
   ]
  },
  {
   "cell_type": "markdown",
   "metadata": {},
   "source": [
    "### Проведите исследовательский анализ данных"
   ]
  },
  {
   "cell_type": "code",
   "execution_count": 4,
   "metadata": {
    "scrolled": true
   },
   "outputs": [
    {
     "data": {
      "image/png": "[encoded data removed]",
      "text/plain": [
       "<Figure size 432x288 with 1 Axes>"
      ]
     },
     "metadata": {
      "needs_background": "light"
     },
     "output_type": "display_data"
    },
    {
     "data": {
      "image/png": "[encoded data removed]",
      "text/plain": [
       "<Figure size 432x288 with 1 Axes>"
      ]
     },
     "metadata": {
      "needs_background": "light"
     },
     "output_type": "display_data"
    },
    {
     "data": {
      "image/png": "[encoded data removed]",
      "text/plain": [
       "<Figure size 432x288 with 1 Axes>"
      ]
     },
     "metadata": {
      "needs_background": "light"
     },
     "output_type": "display_data"
    },
    {
     "data": {
      "image/png": "[encoded data removed]",
      "text/plain": [
       "<Figure size 432x288 with 1 Axes>"
      ]
     },
     "metadata": {
      "needs_background": "light"
     },
     "output_type": "display_data"
    },
    {
     "data": {
      "image/png": "[encoded data removed]",
      "text/plain": [
       "<Figure size 432x288 with 1 Axes>"
      ]
     },
     "metadata": {
      "needs_background": "light"
     },
     "output_type": "display_data"
    },
    {
     "data": {
      "image/png": "[encoded data removed]",
      "text/plain": [
       "<Figure size 432x288 with 1 Axes>"
      ]
     },
     "metadata": {
      "needs_background": "light"
     },
     "output_type": "display_data"
    },
    {
     "data": {
      "image/png": "[encoded data removed]",
      "text/plain": [
       "<Figure size 432x288 with 1 Axes>"
      ]
     },
     "metadata": {
      "needs_background": "light"
     },
     "output_type": "display_data"
    },
    {
     "data": {
      "image/png": "[encoded data removed]",
      "text/plain": [
       "<Figure size 432x288 with 1 Axes>"
      ]
     },
     "metadata": {
      "needs_background": "light"
     },
     "output_type": "display_data"
    },
    {
     "data": {
      "image/png": "[encoded data removed]",
      "text/plain": [
       "<Figure size 432x288 with 1 Axes>"
      ]
     },
     "metadata": {
      "needs_background": "light"
     },
     "output_type": "display_data"
    },
    {
     "data": {
      "image/png": "[encoded data removed]",
      "text/plain": [
       "<Figure size 432x288 with 1 Axes>"
      ]
     },
     "metadata": {
      "needs_background": "light"
     },
     "output_type": "display_data"
    },
    {
     "data": {
      "image/png": "[encoded data removed]",
      "text/plain": [
       "<Figure size 432x288 with 1 Axes>"
      ]
     },
     "metadata": {
      "needs_background": "light"
     },
     "output_type": "display_data"
    },
    {
     "data": {
      "image/png": "[encoded data removed]",
      "text/plain": [
       "<Figure size 432x288 with 1 Axes>"
      ]
     },
     "metadata": {
      "needs_background": "light"
     },
     "output_type": "display_data"
    },
    {
     "data": {
      "image/png": "[encoded data removed]",
      "text/plain": [
       "<Figure size 432x288 with 1 Axes>"
      ]
     },
     "metadata": {
      "needs_background": "light"
     },
     "output_type": "display_data"
    },
    {
     "data": {
      "image/png": "[encoded data removed]",
      "text/plain": [
       "<Figure size 432x288 with 1 Axes>"
      ]
     },
     "metadata": {
      "needs_background": "light"
     },
     "output_type": "display_data"
    }
   ],
   "source": [
    "# Работаем с площадью\n",
    "plt.hist(data['total_area'], bins=30, range=(10,200))\n",
    "plt.title('Площадь квартир')\n",
    "plt.xlabel('Квадратные метры')\n",
    "plt.ylabel('Количество квартир')\n",
    "plt.show()\n",
    "# Работаем с жилой площадью\n",
    "plt.hist(data['living_area'], bins=70, range=(10,80))\n",
    "plt.title('Жилая площадь')\n",
    "plt.xlabel('Квадратные метры')\n",
    "plt.ylabel('Количество квартир')\n",
    "plt.show()\n",
    "# Работаем с площадью кухни\n",
    "plt.hist(data['kitchen_area'], bins=30, range=(0,30))\n",
    "plt.title('Площадь кухни')\n",
    "plt.xlabel('Квадратные метры')\n",
    "plt.ylabel('Количество квартир')\n",
    "plt.show()\n",
    "# Работаем со стоимостью\n",
    "plt.hist(data['last_price'], bins=30, range=(0,20000000))\n",
    "plt.title('Стоимость квартир')\n",
    "plt.xlabel('Стоимость')\n",
    "plt.ylabel('Количество квартир')\n",
    "plt.show()\n",
    "# Работаем с комнатами\n",
    "plt.hist(data['rooms'], bins=7, range=(1,7))\n",
    "plt.title('Комнаты')\n",
    "plt.xlabel('Количество комнат')\n",
    "plt.ylabel('Количество квартир')\n",
    "plt.show()\n",
    "# Работаем с потолками\n",
    "plt.hist(data['ceiling_height'], bins=15, range =(1,6))\n",
    "plt.title('Высота потолков')\n",
    "plt.xlabel('Метры')\n",
    "plt.ylabel('Количество квартир')\n",
    "plt.show()\n",
    "# Работаем с этажом квартиры\n",
    "plt.hist(data['floor'], bins=60)\n",
    "plt.title('Этажнось квартиры')\n",
    "plt.xlabel('Этажность')\n",
    "plt.ylabel('Количество квартир')\n",
    "plt.show()\n",
    "# Работаем с типом этажа квартиры\n",
    "plt.hist(data['floor_type'], bins=5)\n",
    "plt.title('Тип этажа квартиры')\n",
    "plt.xlabel('Тип')\n",
    "plt.ylabel('Количество квартир')\n",
    "plt.show()\n",
    "# Работаем с общим количеством этажей\n",
    "plt.hist(data['floors_total'], bins=50, range=(0,40))\n",
    "plt.title('Общее количество этажей')\n",
    "plt.xlabel('Всего этажей')\n",
    "plt.ylabel('Количество квартир')\n",
    "plt.show()\n",
    "# Работаем с расстоянием до центра города\n",
    "plt.hist(data['cityCenters_nearest'], bins=100)\n",
    "plt.title('Расстояние до центра города')\n",
    "plt.xlabel('Метры')\n",
    "plt.ylabel('Количество квартир')\n",
    "plt.show()\n",
    "# Работаем с расстоянием до аэропорта\n",
    "plt.hist(data['airports_nearest'], bins=80)\n",
    "plt.title('Расстояние до ближайшего аэропорта')\n",
    "plt.xlabel('Метры')\n",
    "plt.ylabel('Количество квартир')\n",
    "plt.show()\n",
    "# Работаем с расстоянием до парка\n",
    "plt.hist(data['parks_nearest'], bins=80)\n",
    "plt.title('Расстояние до ближайшего парка')\n",
    "plt.xlabel('Метры')\n",
    "plt.ylabel('Количество квартир')\n",
    "plt.show()\n",
    "# Работаем с днём публикации объявления\n",
    "plt.hist(data['weekday'], bins=7,range=(0,7))\n",
    "plt.title('День публикации объявления')\n",
    "plt.xlabel('День недели')\n",
    "plt.ylabel('Количество квартир')\n",
    "plt.show()\n",
    "# Работаем с месяцем публикации объявления\n",
    "plt.hist(data['month'], range=(1,12))\n",
    "plt.title('Месяц публикации объявления')\n",
    "plt.xlabel('Месяц')\n",
    "plt.ylabel('Количество квартир')\n",
    "plt.show()"
   ]
  },
  {
   "cell_type": "markdown",
   "metadata": {},
   "source": [
    "Выводы.\n",
    "Площадь: Большинство квартир - от 25 до 100 квадратных метров, больше площадь практически не встречается. В подборке есть выбросы с площадью более 200 квадратных метров.\n",
    "Жилая площадь: Большая часть выборки располагается от 15 до 45 кв.м. \n",
    "Площадь кухни: Большая часть выборки находится от 5 до 15 кв.м.\n",
    "Стоимость: В основном стоимость квартир - порядка 5 миллионов. Больше 20 миллионов вариантов мало.\n",
    "Комнаты: В основном квартиры состоят из 1, 2 и 3 комнат. Есть небольшая доля 4-комнатных квартир. Варианты, где больше 7 комнат выглядят странно. Возможно, это отдельный дом или совмещённые квартиры.\n",
    "Высота потолков: Большинство вариантов имеют высоту потолков от 2,5 до 3 метров. Больше 4 метров высота потолков выглядит подозрительно.\n",
    "Этажность квартиры: Большая часть квартир продатёся с по 9 этажи. \n",
    "Тип этажа: На первом и последнем этажах квартир значительно меньше, чем на других.\n",
    "Общее количество этажей: Много 5-ти и 9-ти этажных зданий.Реже встречаются 16 этажные здания.  \n",
    "Расстояние до центра: есть квартиры около 5км, большинство находится в диапазоне от 10 до 20км.\n",
    "Расстояние до аэропорта: Большинство квартир находится от 20 до 40 км от ближайшего аэропорта.\n",
    "Расстояние до парка: Пик находится на отметке 500м. Почти вся выборка находится в диапазоне до 1км.\n",
    "День публикации: в выходные объявлений публикуют значительно меньше.\n",
    "Месяц публикации: Зимние месяци самые популярные для продажи квартир, летом у риэлторов не сезон."
   ]
  },
  {
   "cell_type": "code",
   "execution_count": 5,
   "metadata": {
    "scrolled": false
   },
   "outputs": [
    {
     "name": "stdout",
     "output_type": "stream",
     "text": [
      "Время продажи (медиана): 95\n",
      "Время продажи (среднее): 181\n"
     ]
    },
    {
     "data": {
      "image/png": "[encoded data removed]",
      "text/plain": [
       "<Figure size 432x288 with 1 Axes>"
      ]
     },
     "metadata": {
      "needs_background": "light"
     },
     "output_type": "display_data"
    },
    {
     "data": {
      "text/plain": [
       "<Figure size 720x504 with 0 Axes>"
      ]
     },
     "metadata": {},
     "output_type": "display_data"
    },
    {
     "data": {
      "text/plain": [
       "count    20394.000000\n",
       "mean       180.741395\n",
       "std        219.732782\n",
       "min          1.000000\n",
       "25%         45.000000\n",
       "50%         95.000000\n",
       "75%        231.000000\n",
       "max       1580.000000\n",
       "Name: days_exposition, dtype: float64"
      ]
     },
     "execution_count": 5,
     "metadata": {},
     "output_type": "execute_result"
    }
   ],
   "source": [
    "# Работаем с днями продаж квартиры\n",
    "print('Время продажи (медиана):', round(data.query('days_exposition != 9999')['days_exposition'].median()))\n",
    "print('Время продажи (среднее):', round(data.query('days_exposition != 9999')['days_exposition'].mean()))\n",
    "plt.hist(data['days_exposition'], bins=100, range=(1,1000))\n",
    "plt.title('Время продажи')\n",
    "plt.xlabel('Дни')\n",
    "plt.ylabel('Количество квартир')\n",
    "plt.figure(figsize=(10,7))\n",
    "plt.show()\n",
    "data.query('days_exposition != 9999')['days_exposition'].describe()"
   ]
  },
  {
   "cell_type": "markdown",
   "metadata": {},
   "source": [
    "Вывод.\n",
    "Медианное время продажи - 95 дней. Среднее время продажи - 181 день.\n",
    "В основном квартиры продаются за срок 90-100 дней. Огромное число квартир, проданных всего за несколько дней после публикации. А также есть варианты, которые продавались несколько десятков месяцев.\n",
    "\n",
    "Быстрой продажей можно назвать срок в 45 дней и меньше. Долгой продажей - 230 дней (7,5 месяцев) и дольше."
   ]
  },
  {
   "cell_type": "code",
   "execution_count": 6,
   "metadata": {},
   "outputs": [
    {
     "data": {
      "image/png": "[encoded data removed]",
      "text/plain": [
       "<Figure size 360x360 with 1 Axes>"
      ]
     },
     "metadata": {
      "needs_background": "light"
     },
     "output_type": "display_data"
    },
    {
     "data": {
      "text/html": [
       "<div>\n",
       "<style scoped>\n",
       "    .dataframe tbody tr th:only-of-type {\n",
       "        vertical-align: middle;\n",
       "    }\n",
       "\n",
       "    .dataframe tbody tr th {\n",
       "        vertical-align: top;\n",
       "    }\n",
       "\n",
       "    .dataframe thead th {\n",
       "        text-align: right;\n",
       "    }\n",
       "</style>\n",
       "<table border=\"1\" class=\"dataframe\">\n",
       "  <thead>\n",
       "    <tr style=\"text-align: right;\">\n",
       "      <th></th>\n",
       "      <th>last_price</th>\n",
       "      <th>total_area</th>\n",
       "    </tr>\n",
       "  </thead>\n",
       "  <tbody>\n",
       "    <tr>\n",
       "      <th>last_price</th>\n",
       "      <td>1.000000</td>\n",
       "      <td>0.739123</td>\n",
       "    </tr>\n",
       "    <tr>\n",
       "      <th>total_area</th>\n",
       "      <td>0.739123</td>\n",
       "      <td>1.000000</td>\n",
       "    </tr>\n",
       "  </tbody>\n",
       "</table>\n",
       "</div>"
      ],
      "text/plain": [
       "            last_price  total_area\n",
       "last_price    1.000000    0.739123\n",
       "total_area    0.739123    1.000000"
      ]
     },
     "metadata": {},
     "output_type": "display_data"
    },
    {
     "data": {
      "image/png": "[encoded data removed]",
      "text/plain": [
       "<Figure size 360x360 with 1 Axes>"
      ]
     },
     "metadata": {
      "needs_background": "light"
     },
     "output_type": "display_data"
    },
    {
     "data": {
      "text/html": [
       "<div>\n",
       "<style scoped>\n",
       "    .dataframe tbody tr th:only-of-type {\n",
       "        vertical-align: middle;\n",
       "    }\n",
       "\n",
       "    .dataframe tbody tr th {\n",
       "        vertical-align: top;\n",
       "    }\n",
       "\n",
       "    .dataframe thead th {\n",
       "        text-align: right;\n",
       "    }\n",
       "</style>\n",
       "<table border=\"1\" class=\"dataframe\">\n",
       "  <thead>\n",
       "    <tr style=\"text-align: right;\">\n",
       "      <th></th>\n",
       "      <th>last_price</th>\n",
       "      <th>living_area</th>\n",
       "    </tr>\n",
       "  </thead>\n",
       "  <tbody>\n",
       "    <tr>\n",
       "      <th>last_price</th>\n",
       "      <td>1.000000</td>\n",
       "      <td>0.626853</td>\n",
       "    </tr>\n",
       "    <tr>\n",
       "      <th>living_area</th>\n",
       "      <td>0.626853</td>\n",
       "      <td>1.000000</td>\n",
       "    </tr>\n",
       "  </tbody>\n",
       "</table>\n",
       "</div>"
      ],
      "text/plain": [
       "             last_price  living_area\n",
       "last_price     1.000000     0.626853\n",
       "living_area    0.626853     1.000000"
      ]
     },
     "metadata": {},
     "output_type": "display_data"
    },
    {
     "data": {
      "image/png": "[encoded data removed]",
      "text/plain": [
       "<Figure size 360x360 with 1 Axes>"
      ]
     },
     "metadata": {
      "needs_background": "light"
     },
     "output_type": "display_data"
    },
    {
     "data": {
      "text/html": [
       "<div>\n",
       "<style scoped>\n",
       "    .dataframe tbody tr th:only-of-type {\n",
       "        vertical-align: middle;\n",
       "    }\n",
       "\n",
       "    .dataframe tbody tr th {\n",
       "        vertical-align: top;\n",
       "    }\n",
       "\n",
       "    .dataframe thead th {\n",
       "        text-align: right;\n",
       "    }\n",
       "</style>\n",
       "<table border=\"1\" class=\"dataframe\">\n",
       "  <thead>\n",
       "    <tr style=\"text-align: right;\">\n",
       "      <th></th>\n",
       "      <th>kitchen_area</th>\n",
       "      <th>last_price</th>\n",
       "    </tr>\n",
       "  </thead>\n",
       "  <tbody>\n",
       "    <tr>\n",
       "      <th>kitchen_area</th>\n",
       "      <td>1.000000</td>\n",
       "      <td>0.308049</td>\n",
       "    </tr>\n",
       "    <tr>\n",
       "      <th>last_price</th>\n",
       "      <td>0.308049</td>\n",
       "      <td>1.000000</td>\n",
       "    </tr>\n",
       "  </tbody>\n",
       "</table>\n",
       "</div>"
      ],
      "text/plain": [
       "              kitchen_area  last_price\n",
       "kitchen_area      1.000000    0.308049\n",
       "last_price        0.308049    1.000000"
      ]
     },
     "metadata": {},
     "output_type": "display_data"
    },
    {
     "data": {
      "image/png": "[encoded data removed]",
      "text/plain": [
       "<Figure size 360x360 with 1 Axes>"
      ]
     },
     "metadata": {
      "needs_background": "light"
     },
     "output_type": "display_data"
    },
    {
     "data": {
      "text/html": [
       "<div>\n",
       "<style scoped>\n",
       "    .dataframe tbody tr th:only-of-type {\n",
       "        vertical-align: middle;\n",
       "    }\n",
       "\n",
       "    .dataframe tbody tr th {\n",
       "        vertical-align: top;\n",
       "    }\n",
       "\n",
       "    .dataframe thead th {\n",
       "        text-align: right;\n",
       "    }\n",
       "</style>\n",
       "<table border=\"1\" class=\"dataframe\">\n",
       "  <thead>\n",
       "    <tr style=\"text-align: right;\">\n",
       "      <th></th>\n",
       "      <th>last_price</th>\n",
       "      <th>rooms</th>\n",
       "    </tr>\n",
       "  </thead>\n",
       "  <tbody>\n",
       "    <tr>\n",
       "      <th>last_price</th>\n",
       "      <td>1.000000</td>\n",
       "      <td>0.442934</td>\n",
       "    </tr>\n",
       "    <tr>\n",
       "      <th>rooms</th>\n",
       "      <td>0.442934</td>\n",
       "      <td>1.000000</td>\n",
       "    </tr>\n",
       "  </tbody>\n",
       "</table>\n",
       "</div>"
      ],
      "text/plain": [
       "            last_price     rooms\n",
       "last_price    1.000000  0.442934\n",
       "rooms         0.442934  1.000000"
      ]
     },
     "metadata": {},
     "output_type": "display_data"
    },
    {
     "data": {
      "image/png": "[encoded data removed]",
      "text/plain": [
       "<Figure size 720x360 with 1 Axes>"
      ]
     },
     "metadata": {
      "needs_background": "light"
     },
     "output_type": "display_data"
    },
    {
     "data": {
      "text/html": [
       "<div>\n",
       "<style scoped>\n",
       "    .dataframe tbody tr th:only-of-type {\n",
       "        vertical-align: middle;\n",
       "    }\n",
       "\n",
       "    .dataframe tbody tr th {\n",
       "        vertical-align: top;\n",
       "    }\n",
       "\n",
       "    .dataframe thead th {\n",
       "        text-align: right;\n",
       "    }\n",
       "</style>\n",
       "<table border=\"1\" class=\"dataframe\">\n",
       "  <thead>\n",
       "    <tr style=\"text-align: right;\">\n",
       "      <th></th>\n",
       "      <th>last_price</th>\n",
       "    </tr>\n",
       "  </thead>\n",
       "  <tbody>\n",
       "    <tr>\n",
       "      <th>last_price</th>\n",
       "      <td>1.0</td>\n",
       "    </tr>\n",
       "  </tbody>\n",
       "</table>\n",
       "</div>"
      ],
      "text/plain": [
       "            last_price\n",
       "last_price         1.0"
      ]
     },
     "metadata": {},
     "output_type": "display_data"
    },
    {
     "data": {
      "image/png": "[encoded data removed]",
      "text/plain": [
       "<Figure size 360x360 with 1 Axes>"
      ]
     },
     "metadata": {
      "needs_background": "light"
     },
     "output_type": "display_data"
    },
    {
     "data": {
      "image/png": "[encoded data removed]",
      "text/plain": [
       "<Figure size 720x360 with 1 Axes>"
      ]
     },
     "metadata": {
      "needs_background": "light"
     },
     "output_type": "display_data"
    },
    {
     "data": {
      "image/png": "[encoded data removed]",
      "text/plain": [
       "<Figure size 360x360 with 1 Axes>"
      ]
     },
     "metadata": {
      "needs_background": "light"
     },
     "output_type": "display_data"
    }
   ],
   "source": [
    "# Зависимость цены от площади\n",
    "(\n",
    "    data.plot(x='total_area', y='last_price',title ='Зависимость цены от площади', xlabel = 'Общая площадь',\n",
    "          ylabel = 'Стоимость',grid=True, style='o',figsize=(5,5))\n",
    ")\n",
    "plt.show()\n",
    "display(data.pivot_table(index='floor', values=['total_area', 'last_price']).corr())\n",
    "# Зависимость цены от жилой площади \n",
    "(\n",
    "    data.plot(x='living_area', y='last_price',title ='Зависимость цены от жилой площади', xlabel = 'Жилая площадь',\n",
    "          ylabel = 'Стоимость',grid=True, style='o',figsize=(5,5))\n",
    ")\n",
    "plt.show()\n",
    "display(data.pivot_table(index='floor', values=['living_area', 'last_price']).corr())\n",
    "# Зависимость цены от площади кухни\n",
    "(\n",
    "    data.plot(x='kitchen_area', y='last_price',title ='Зависимость цены от площади кухни', xlabel = 'Площадь кухни',\n",
    "          ylabel = 'Стоимость',grid=True, style='o',figsize=(5,5))\n",
    ")\n",
    "plt.show()\n",
    "display(data.pivot_table(index='floor', values=['kitchen_area', 'last_price']).corr())\n",
    "# Зависимость цены от количества комнат\n",
    "(\n",
    "    data.plot(x='rooms', y='last_price',title ='Зависимость цены от количества комнат', xlabel = 'Комнаты',\n",
    "          ylabel = 'Стоимость',grid=True, style='o', figsize=(5, 5))\n",
    ")\n",
    "plt.show()\n",
    "display(data.pivot_table(index='floor', values=['rooms', 'last_price']).corr())\n",
    "# Зависимость цены от этажа\n",
    "(\n",
    "    data.plot(x='floor_type', y='last_price',title ='Зависимость цены от типа этажа', xlabel = 'Тип этажа',\n",
    "          ylabel = 'Стоимость',grid=True, style='o-', figsize=(10, 5))\n",
    ")\n",
    "plt.show()\n",
    "display(data.pivot_table(index='floor', values=['floor_type', 'last_price']).corr())\n",
    "# Зависимость от дня размещения\n",
    "(\n",
    "    data.plot(x='weekday', y='last_price',title ='Зависимость цены от дня размещения', xlabel = 'День размещения',\n",
    "          ylabel = 'Стоимость', grid=True, style='o-', figsize=(5, 5))\n",
    ")\n",
    "plt.show()\n",
    "# Зависимость от месяца размещения\n",
    "(\n",
    "    data.plot(x='month', y='last_price',title ='Зависимость цены от месяца размещения', xlabel = 'Месяц размещения',\n",
    "          ylabel = 'Стоимость',grid=True, style='o-', xlim=(1,12), figsize=(10, 5))\n",
    ")\n",
    "plt.show()\n",
    "# Зависимость от года размещения\n",
    "(\n",
    "    data.plot(x='year', y='last_price',title ='Зависимость цены от года размещения', xlabel = 'Год размещения',\n",
    "          ylabel = 'Стоимость',grid=True, style='o-', figsize=(5, 5))\n",
    ")\n",
    "plt.show()\n"
   ]
  },
  {
   "cell_type": "markdown",
   "metadata": {},
   "source": [
    "Вывод.\n",
    "Чем больше площадь, тем выше стоимость, причём с довольно сильной зависимостью. Жилая площадь также влияет на стоимость, но не с такой сильной зависимостью, как общая площадь. Площадь кухни также влияет на стоимость квартиры, но зависимость очень несильная.\n",
    "Число комнат влияет на цену (больше комнат - больше цена), однако зависимость ниже, чем у площади. \n",
    "\n",
    "Первый этаж непосредственно влияет на стоимость квартиры - в среднем квартиры на 1-м этаже значительно дешевле. Квартиры со средних этажей дороже, но самые дорогие квартиры с последнего этажа.\n",
    "\n",
    "День недели: дороже всего квартиры, опубликованные в пятницу и среду, дешевле всего - в субботу и понедельник.\n",
    "Месяц: сентбярь, нобярь декабрь  и январь самые дорогие месяцы для продажи, самые дешевые - март, июнь, август.\n",
    "Год: квартиры очень сильно с 15 по 18. В 2019 году цены снова стали повышаться."
   ]
  },
  {
   "cell_type": "code",
   "execution_count": 7,
   "metadata": {},
   "outputs": [
    {
     "data": {
      "text/html": [
       "<div>\n",
       "<style scoped>\n",
       "    .dataframe tbody tr th:only-of-type {\n",
       "        vertical-align: middle;\n",
       "    }\n",
       "\n",
       "    .dataframe tbody tr th {\n",
       "        vertical-align: top;\n",
       "    }\n",
       "\n",
       "    .dataframe thead th {\n",
       "        text-align: right;\n",
       "    }\n",
       "</style>\n",
       "<table border=\"1\" class=\"dataframe\">\n",
       "  <thead>\n",
       "    <tr style=\"text-align: right;\">\n",
       "      <th></th>\n",
       "      <th>sm_price</th>\n",
       "    </tr>\n",
       "    <tr>\n",
       "      <th>locality_name</th>\n",
       "      <th></th>\n",
       "    </tr>\n",
       "  </thead>\n",
       "  <tbody>\n",
       "    <tr>\n",
       "      <th>санкт-петербург</th>\n",
       "      <td>114868.433902</td>\n",
       "    </tr>\n",
       "    <tr>\n",
       "      <th>пушкин</th>\n",
       "      <td>103125.373984</td>\n",
       "    </tr>\n",
       "    <tr>\n",
       "      <th>деревня кудрово</th>\n",
       "      <td>92473.086957</td>\n",
       "    </tr>\n",
       "    <tr>\n",
       "      <th>поселок парголово</th>\n",
       "      <td>90175.489297</td>\n",
       "    </tr>\n",
       "    <tr>\n",
       "      <th>поселок мурино</th>\n",
       "      <td>85629.110507</td>\n",
       "    </tr>\n",
       "    <tr>\n",
       "      <th>поселок шушары</th>\n",
       "      <td>78550.883827</td>\n",
       "    </tr>\n",
       "    <tr>\n",
       "      <th>колпино</th>\n",
       "      <td>75424.150888</td>\n",
       "    </tr>\n",
       "    <tr>\n",
       "      <th>гатчина</th>\n",
       "      <td>68745.693811</td>\n",
       "    </tr>\n",
       "    <tr>\n",
       "      <th>всеволожск</th>\n",
       "      <td>68654.007538</td>\n",
       "    </tr>\n",
       "    <tr>\n",
       "      <th>выборг</th>\n",
       "      <td>58141.489451</td>\n",
       "    </tr>\n",
       "  </tbody>\n",
       "</table>\n",
       "</div>"
      ],
      "text/plain": [
       "                        sm_price\n",
       "locality_name                   \n",
       "санкт-петербург    114868.433902\n",
       "пушкин             103125.373984\n",
       "деревня кудрово     92473.086957\n",
       "поселок парголово   90175.489297\n",
       "поселок мурино      85629.110507\n",
       "поселок шушары      78550.883827\n",
       "колпино             75424.150888\n",
       "гатчина             68745.693811\n",
       "всеволожск          68654.007538\n",
       "выборг              58141.489451"
      ]
     },
     "metadata": {},
     "output_type": "display_data"
    },
    {
     "data": {
      "text/plain": [
       "<AxesSubplot:title={'center':'Стоимость квадратного метра'}, xlabel='Населённый пункт', ylabel='Стоимость'>"
      ]
     },
     "execution_count": 7,
     "metadata": {},
     "output_type": "execute_result"
    },
    {
     "data": {
      "image/png": "[encoded data removed]",
      "text/plain": [
       "<Figure size 1080x720 with 1 Axes>"
      ]
     },
     "metadata": {
      "needs_background": "light"
     },
     "output_type": "display_data"
    }
   ],
   "source": [
    "list1 = data['locality_name'].value_counts().head(10)\n",
    "local_sm_price = data.query('locality_name in @list1.index').pivot_table(values='sm_price', index ='locality_name', aggfunc='mean')\n",
    "display(local_sm_price.sort_values('sm_price', ascending=False))\n",
    "local_sm_price.plot(title ='Стоимость квадратного метра', xlabel = 'Населённый пункт',\n",
    "          ylabel = 'Стоимость',grid=True, style='o-', figsize=(15, 10))"
   ]
  },
  {
   "cell_type": "markdown",
   "metadata": {},
   "source": [
    "Вывод. \n",
    "Наибольшая средняя стоимость кв.м.в Санкт-Петербурге. Затем идут все районы, примыкающие к этому городу. Наименьшая стоимость в городах, удалённых от Санкт-Петербурга."
   ]
  },
  {
   "cell_type": "code",
   "execution_count": 8,
   "metadata": {
    "scrolled": true
   },
   "outputs": [
    {
     "data": {
      "text/plain": [
       "<AxesSubplot:xlabel='city_centre'>"
      ]
     },
     "execution_count": 8,
     "metadata": {},
     "output_type": "execute_result"
    },
    {
     "data": {
      "image/png": "[encoded data removed]",
      "text/plain": [
       "<Figure size 720x720 with 1 Axes>"
      ]
     },
     "metadata": {
      "needs_background": "light"
     },
     "output_type": "display_data"
    }
   ],
   "source": [
    "(\n",
    "    data.query('locality_name == \"санкт-петербург\"')\n",
    "    .pivot_table(index='city_centre', values='last_price',aggfunc='mean')\n",
    "    .plot(grid=True, figsize=(10,10),xlim=(0,25))\n",
    ")"
   ]
  },
  {
   "cell_type": "markdown",
   "metadata": {},
   "source": [
    "Вывод. \n",
    "Центральная зона это до 8 км, здесь цена максимальная, далее цена резко  снижается."
   ]
  },
  {
   "cell_type": "markdown",
   "metadata": {},
   "source": [
    "### Общий вывод"
   ]
  },
  {
   "cell_type": "markdown",
   "metadata": {},
   "source": [
    "Срок продажи квартиры\n",
    "Чаще всего квартиру продают за 95 дней. Если меньше 45 дней, то это быстро, если дольше 230 дней - это долго.\n",
    "Есть большое число квартир, проданных всего за несколько дней после публикации.\n",
    "Также есть варианты, которые продавались несколько десятков месяцев.\n",
    "\n",
    "Факторы, влияющие на стоимость\n",
    "\n",
    "На стоимость больше влияет площадь квартиры, нежели число комнат. Полагаю,встречаются дорогие квартиры с малым числом комнат, видимо комнаты больше.\n",
    "Первый этаж значительно дешевле остальных вариантов. Стоимость квартиры на последенм этаже самая высокая.\n",
    "\n",
    "Стоимость квадратного метра в топ-10 населённых пунктов\n",
    "\n",
    "Дороже всего квадратный метр в Санкт-Петербурге - 114848\n",
    "Дешевле всего квадратный метр в Выборге - 58141\n",
    "\n"
   ]
  }
 ],
 "metadata": {
  "ExecuteTimeLog": [
   {
    "duration": 1031,
    "start_time": "2023-01-31T08:01:45.148Z"
   },
   {
    "duration": 765,
    "start_time": "2023-01-31T08:03:12.393Z"
   },
   {
    "duration": 89,
    "start_time": "2023-01-31T08:03:37.051Z"
   },
   {
    "duration": 101,
    "start_time": "2023-01-31T08:03:51.208Z"
   },
   {
    "duration": 114,
    "start_time": "2023-01-31T08:04:09.749Z"
   },
   {
    "duration": 112,
    "start_time": "2023-01-31T08:06:09.000Z"
   },
   {
    "duration": 189,
    "start_time": "2023-01-31T08:06:34.491Z"
   },
   {
    "duration": 114,
    "start_time": "2023-01-31T08:08:42.809Z"
   },
   {
    "duration": 128,
    "start_time": "2023-01-31T08:14:07.824Z"
   },
   {
    "duration": 113,
    "start_time": "2023-01-31T08:14:58.335Z"
   },
   {
    "duration": 76,
    "start_time": "2023-01-31T08:19:22.139Z"
   },
   {
    "duration": 219,
    "start_time": "2023-01-31T08:45:17.197Z"
   },
   {
    "duration": 26,
    "start_time": "2023-01-31T08:52:16.196Z"
   },
   {
    "duration": 137,
    "start_time": "2023-01-31T09:06:12.716Z"
   },
   {
    "duration": 10,
    "start_time": "2023-01-31T09:07:54.398Z"
   },
   {
    "duration": 138,
    "start_time": "2023-01-31T09:27:28.601Z"
   },
   {
    "duration": 135,
    "start_time": "2023-01-31T09:27:37.063Z"
   },
   {
    "duration": 36,
    "start_time": "2023-01-31T09:50:15.242Z"
   },
   {
    "duration": 31,
    "start_time": "2023-01-31T09:50:27.546Z"
   },
   {
    "duration": 30,
    "start_time": "2023-01-31T09:50:46.082Z"
   },
   {
    "duration": 26,
    "start_time": "2023-01-31T09:50:53.908Z"
   },
   {
    "duration": 77,
    "start_time": "2023-01-31T09:51:34.176Z"
   },
   {
    "duration": 23,
    "start_time": "2023-01-31T09:54:26.792Z"
   },
   {
    "duration": 535,
    "start_time": "2023-01-31T10:01:19.927Z"
   },
   {
    "duration": 92,
    "start_time": "2023-01-31T10:01:20.464Z"
   },
   {
    "duration": 0,
    "start_time": "2023-01-31T10:01:20.557Z"
   },
   {
    "duration": 594,
    "start_time": "2023-01-31T10:02:52.656Z"
   },
   {
    "duration": 3,
    "start_time": "2023-01-31T10:02:53.252Z"
   },
   {
    "duration": 102,
    "start_time": "2023-01-31T10:02:53.256Z"
   },
   {
    "duration": 63,
    "start_time": "2023-01-31T10:43:14.924Z"
   },
   {
    "duration": 531,
    "start_time": "2023-01-31T10:43:21.735Z"
   },
   {
    "duration": 85,
    "start_time": "2023-01-31T10:43:22.268Z"
   },
   {
    "duration": 97,
    "start_time": "2023-01-31T11:52:34.078Z"
   },
   {
    "duration": 34,
    "start_time": "2023-01-31T11:59:17.946Z"
   },
   {
    "duration": 46,
    "start_time": "2023-01-31T12:13:04.618Z"
   },
   {
    "duration": 45,
    "start_time": "2023-01-31T12:13:45.662Z"
   },
   {
    "duration": 41,
    "start_time": "2023-01-31T12:13:59.088Z"
   },
   {
    "duration": 47,
    "start_time": "2023-01-31T12:14:03.149Z"
   },
   {
    "duration": 42,
    "start_time": "2023-01-31T12:14:10.234Z"
   },
   {
    "duration": 44,
    "start_time": "2023-01-31T12:14:20.474Z"
   },
   {
    "duration": 6,
    "start_time": "2023-01-31T12:22:47.521Z"
   },
   {
    "duration": 44,
    "start_time": "2023-01-31T12:23:07.804Z"
   },
   {
    "duration": 50,
    "start_time": "2023-01-31T12:23:18.346Z"
   },
   {
    "duration": 94,
    "start_time": "2023-01-31T12:26:20.899Z"
   },
   {
    "duration": 47,
    "start_time": "2023-01-31T12:27:11.695Z"
   },
   {
    "duration": 57,
    "start_time": "2023-01-31T12:27:15.922Z"
   },
   {
    "duration": 58,
    "start_time": "2023-01-31T12:28:58.388Z"
   },
   {
    "duration": 69,
    "start_time": "2023-01-31T12:29:11.004Z"
   },
   {
    "duration": 59,
    "start_time": "2023-01-31T12:29:20.173Z"
   },
   {
    "duration": 69,
    "start_time": "2023-01-31T12:29:26.201Z"
   },
   {
    "duration": 68,
    "start_time": "2023-01-31T12:34:14.410Z"
   },
   {
    "duration": 51,
    "start_time": "2023-02-01T09:40:20.140Z"
   },
   {
    "duration": 769,
    "start_time": "2023-02-01T09:40:36.993Z"
   },
   {
    "duration": 69,
    "start_time": "2023-02-01T09:40:37.764Z"
   },
   {
    "duration": 46,
    "start_time": "2023-02-02T07:46:00.366Z"
   },
   {
    "duration": 561,
    "start_time": "2023-02-02T07:46:09.084Z"
   },
   {
    "duration": 73,
    "start_time": "2023-02-02T07:46:09.647Z"
   },
   {
    "duration": 389,
    "start_time": "2023-02-02T07:46:09.722Z"
   },
   {
    "duration": 333,
    "start_time": "2023-02-02T07:46:51.713Z"
   },
   {
    "duration": 910,
    "start_time": "2023-02-02T08:48:11.249Z"
   },
   {
    "duration": 73,
    "start_time": "2023-02-02T08:48:12.162Z"
   },
   {
    "duration": 352,
    "start_time": "2023-02-02T08:48:12.236Z"
   },
   {
    "duration": 2491,
    "start_time": "2023-02-02T08:48:12.590Z"
   },
   {
    "duration": 407,
    "start_time": "2023-02-02T08:49:53.525Z"
   },
   {
    "duration": 2492,
    "start_time": "2023-02-02T08:53:38.731Z"
   },
   {
    "duration": 323,
    "start_time": "2023-02-02T08:57:15.250Z"
   },
   {
    "duration": 2664,
    "start_time": "2023-02-02T08:58:05.824Z"
   },
   {
    "duration": 2605,
    "start_time": "2023-02-02T08:58:25.858Z"
   },
   {
    "duration": 2540,
    "start_time": "2023-02-02T08:58:57.173Z"
   },
   {
    "duration": 2567,
    "start_time": "2023-02-02T08:59:46.486Z"
   },
   {
    "duration": 2589,
    "start_time": "2023-02-02T09:00:06.684Z"
   },
   {
    "duration": 2485,
    "start_time": "2023-02-02T09:02:15.498Z"
   },
   {
    "duration": 2752,
    "start_time": "2023-02-02T09:03:08.330Z"
   },
   {
    "duration": 2728,
    "start_time": "2023-02-02T09:04:33.375Z"
   },
   {
    "duration": 2643,
    "start_time": "2023-02-02T09:04:50.180Z"
   },
   {
    "duration": 2651,
    "start_time": "2023-02-02T09:05:11.496Z"
   },
   {
    "duration": 2545,
    "start_time": "2023-02-02T09:05:31.366Z"
   },
   {
    "duration": 2710,
    "start_time": "2023-02-02T09:05:55.107Z"
   },
   {
    "duration": 2637,
    "start_time": "2023-02-02T09:06:21.629Z"
   },
   {
    "duration": 2617,
    "start_time": "2023-02-02T09:06:53.445Z"
   },
   {
    "duration": 189,
    "start_time": "2023-02-02T10:04:23.210Z"
   },
   {
    "duration": 317,
    "start_time": "2023-02-02T10:04:37.130Z"
   },
   {
    "duration": 208,
    "start_time": "2023-02-02T10:04:44.140Z"
   },
   {
    "duration": 807,
    "start_time": "2023-02-02T10:05:15.855Z"
   },
   {
    "duration": 77,
    "start_time": "2023-02-02T10:05:16.664Z"
   },
   {
    "duration": 354,
    "start_time": "2023-02-02T10:05:16.753Z"
   },
   {
    "duration": 2757,
    "start_time": "2023-02-02T10:05:17.109Z"
   },
   {
    "duration": 205,
    "start_time": "2023-02-02T10:05:19.867Z"
   },
   {
    "duration": 167,
    "start_time": "2023-02-02T10:05:35.551Z"
   },
   {
    "duration": 169,
    "start_time": "2023-02-02T10:05:50.209Z"
   },
   {
    "duration": 185,
    "start_time": "2023-02-02T10:06:53.694Z"
   },
   {
    "duration": 284,
    "start_time": "2023-02-02T10:07:13.477Z"
   },
   {
    "duration": 249,
    "start_time": "2023-02-02T10:07:28.447Z"
   },
   {
    "duration": 250,
    "start_time": "2023-02-02T10:09:39.889Z"
   },
   {
    "duration": 283,
    "start_time": "2023-02-02T10:10:01.002Z"
   },
   {
    "duration": 145,
    "start_time": "2023-02-02T10:13:24.846Z"
   },
   {
    "duration": 150,
    "start_time": "2023-02-02T10:13:46.868Z"
   },
   {
    "duration": 142,
    "start_time": "2023-02-02T10:13:54.053Z"
   },
   {
    "duration": 129,
    "start_time": "2023-02-02T10:13:59.769Z"
   },
   {
    "duration": 235,
    "start_time": "2023-02-02T10:19:15.568Z"
   },
   {
    "duration": 151,
    "start_time": "2023-02-02T10:19:35.372Z"
   },
   {
    "duration": 150,
    "start_time": "2023-02-02T10:19:49.169Z"
   },
   {
    "duration": 157,
    "start_time": "2023-02-02T10:22:11.216Z"
   },
   {
    "duration": 164,
    "start_time": "2023-02-02T10:22:35.855Z"
   },
   {
    "duration": 323,
    "start_time": "2023-02-02T10:24:28.767Z"
   },
   {
    "duration": 451,
    "start_time": "2023-02-02T10:26:33.063Z"
   },
   {
    "duration": 656,
    "start_time": "2023-02-02T10:28:50.876Z"
   },
   {
    "duration": 604,
    "start_time": "2023-02-02T10:29:34.274Z"
   },
   {
    "duration": 1360,
    "start_time": "2023-02-02T10:33:30.644Z"
   },
   {
    "duration": 818,
    "start_time": "2023-02-02T10:34:04.204Z"
   },
   {
    "duration": 1337,
    "start_time": "2023-02-02T10:34:26.177Z"
   },
   {
    "duration": 1438,
    "start_time": "2023-02-02T10:35:27.326Z"
   },
   {
    "duration": 1310,
    "start_time": "2023-02-02T10:35:45.512Z"
   },
   {
    "duration": 11,
    "start_time": "2023-02-02T11:03:37.756Z"
   },
   {
    "duration": 8,
    "start_time": "2023-02-02T11:04:00.975Z"
   },
   {
    "duration": 76,
    "start_time": "2023-02-02T11:11:33.720Z"
   },
   {
    "duration": 14,
    "start_time": "2023-02-02T11:11:39.724Z"
   },
   {
    "duration": 27,
    "start_time": "2023-02-02T11:11:47.472Z"
   },
   {
    "duration": 763,
    "start_time": "2023-02-02T11:12:30.415Z"
   },
   {
    "duration": 81,
    "start_time": "2023-02-02T11:12:31.181Z"
   },
   {
    "duration": 358,
    "start_time": "2023-02-02T11:12:31.264Z"
   },
   {
    "duration": 2459,
    "start_time": "2023-02-02T11:12:31.624Z"
   },
   {
    "duration": 286,
    "start_time": "2023-02-02T11:12:34.086Z"
   },
   {
    "duration": 1269,
    "start_time": "2023-02-02T11:12:34.374Z"
   },
   {
    "duration": 89,
    "start_time": "2023-02-02T11:12:35.644Z"
   },
   {
    "duration": 20,
    "start_time": "2023-02-02T11:12:53.138Z"
   },
   {
    "duration": 735,
    "start_time": "2023-02-02T11:32:31.298Z"
   },
   {
    "duration": 81,
    "start_time": "2023-02-02T11:32:32.035Z"
   },
   {
    "duration": 345,
    "start_time": "2023-02-02T11:32:32.117Z"
   },
   {
    "duration": 2507,
    "start_time": "2023-02-02T11:32:32.464Z"
   },
   {
    "duration": 266,
    "start_time": "2023-02-02T11:32:34.973Z"
   },
   {
    "duration": 1298,
    "start_time": "2023-02-02T11:32:35.241Z"
   },
   {
    "duration": 93,
    "start_time": "2023-02-02T11:32:36.541Z"
   },
   {
    "duration": 22,
    "start_time": "2023-02-02T11:40:06.974Z"
   },
   {
    "duration": 18,
    "start_time": "2023-02-02T11:40:21.118Z"
   },
   {
    "duration": 21,
    "start_time": "2023-02-02T11:40:38.874Z"
   },
   {
    "duration": 30,
    "start_time": "2023-02-02T11:40:57.370Z"
   },
   {
    "duration": 30,
    "start_time": "2023-02-02T11:41:09.950Z"
   },
   {
    "duration": 25,
    "start_time": "2023-02-02T11:41:21.373Z"
   },
   {
    "duration": 24,
    "start_time": "2023-02-02T11:41:26.919Z"
   },
   {
    "duration": 28,
    "start_time": "2023-02-02T12:02:11.123Z"
   },
   {
    "duration": 0,
    "start_time": "2023-02-02T12:02:38.839Z"
   },
   {
    "duration": 30,
    "start_time": "2023-02-02T12:02:50.423Z"
   },
   {
    "duration": 78,
    "start_time": "2023-02-02T12:03:03.346Z"
   },
   {
    "duration": 154,
    "start_time": "2023-02-02T12:03:16.402Z"
   },
   {
    "duration": 192,
    "start_time": "2023-02-02T12:03:47.209Z"
   },
   {
    "duration": 180,
    "start_time": "2023-02-02T12:04:50.699Z"
   },
   {
    "duration": 79,
    "start_time": "2023-02-02T12:08:17.617Z"
   },
   {
    "duration": 778,
    "start_time": "2023-02-03T05:08:43.958Z"
   },
   {
    "duration": 76,
    "start_time": "2023-02-03T05:08:44.737Z"
   },
   {
    "duration": 330,
    "start_time": "2023-02-03T05:08:44.814Z"
   },
   {
    "duration": 2414,
    "start_time": "2023-02-03T05:08:45.146Z"
   },
   {
    "duration": 269,
    "start_time": "2023-02-03T05:08:47.562Z"
   },
   {
    "duration": 2060,
    "start_time": "2023-02-03T05:08:47.833Z"
   },
   {
    "duration": 28,
    "start_time": "2023-02-03T05:08:49.894Z"
   },
   {
    "duration": 174,
    "start_time": "2023-02-03T05:08:49.924Z"
   },
   {
    "duration": 50,
    "start_time": "2023-02-03T09:02:19.759Z"
   },
   {
    "duration": 1028,
    "start_time": "2023-02-03T09:02:30.105Z"
   },
   {
    "duration": 91,
    "start_time": "2023-02-03T09:02:31.135Z"
   },
   {
    "duration": 380,
    "start_time": "2023-02-03T09:02:31.228Z"
   },
   {
    "duration": 2673,
    "start_time": "2023-02-03T09:02:31.610Z"
   },
   {
    "duration": 321,
    "start_time": "2023-02-03T09:02:34.285Z"
   },
   {
    "duration": 1361,
    "start_time": "2023-02-03T09:02:34.608Z"
   },
   {
    "duration": 34,
    "start_time": "2023-02-03T09:02:35.971Z"
   },
   {
    "duration": 189,
    "start_time": "2023-02-03T09:02:36.007Z"
   },
   {
    "duration": 1349,
    "start_time": "2023-02-03T09:13:09.737Z"
   },
   {
    "duration": 1439,
    "start_time": "2023-02-03T09:19:57.068Z"
   },
   {
    "duration": 171,
    "start_time": "2023-02-03T09:26:00.313Z"
   },
   {
    "duration": 193,
    "start_time": "2023-02-03T09:26:23.312Z"
   },
   {
    "duration": 215,
    "start_time": "2023-02-03T09:26:40.489Z"
   },
   {
    "duration": 60,
    "start_time": "2023-02-04T10:57:57.481Z"
   },
   {
    "duration": 1193,
    "start_time": "2023-02-04T10:58:04.938Z"
   },
   {
    "duration": 95,
    "start_time": "2023-02-04T10:58:06.134Z"
   },
   {
    "duration": 362,
    "start_time": "2023-02-04T10:58:06.230Z"
   },
   {
    "duration": 2631,
    "start_time": "2023-02-04T10:58:06.594Z"
   },
   {
    "duration": 297,
    "start_time": "2023-02-04T10:58:09.228Z"
   },
   {
    "duration": 1516,
    "start_time": "2023-02-04T10:58:09.527Z"
   },
   {
    "duration": 247,
    "start_time": "2023-02-04T10:58:11.045Z"
   },
   {
    "duration": 187,
    "start_time": "2023-02-04T10:58:11.293Z"
   },
   {
    "duration": 1184,
    "start_time": "2023-02-23T07:22:35.358Z"
   },
   {
    "duration": 139,
    "start_time": "2023-02-23T07:22:51.102Z"
   },
   {
    "duration": 1342,
    "start_time": "2023-05-10T15:33:04.127Z"
   },
   {
    "duration": 116,
    "start_time": "2023-05-10T15:33:05.472Z"
   },
   {
    "duration": 402,
    "start_time": "2023-05-10T15:33:05.590Z"
   },
   {
    "duration": 3102,
    "start_time": "2023-05-10T15:33:05.994Z"
   },
   {
    "duration": 327,
    "start_time": "2023-05-10T15:33:09.099Z"
   },
   {
    "duration": 3575,
    "start_time": "2023-05-10T15:33:09.434Z"
   },
   {
    "duration": 292,
    "start_time": "2023-05-10T15:33:13.011Z"
   },
   {
    "duration": 206,
    "start_time": "2023-05-10T15:33:13.305Z"
   },
   {
    "duration": 810,
    "start_time": "2023-05-10T15:53:50.185Z"
   },
   {
    "duration": 104,
    "start_time": "2023-05-10T15:53:50.998Z"
   },
   {
    "duration": 414,
    "start_time": "2023-05-10T15:53:51.104Z"
   },
   {
    "duration": 2925,
    "start_time": "2023-05-10T15:53:51.520Z"
   },
   {
    "duration": 311,
    "start_time": "2023-05-10T15:53:54.447Z"
   },
   {
    "duration": 3674,
    "start_time": "2023-05-10T15:53:54.760Z"
   },
   {
    "duration": 296,
    "start_time": "2023-05-10T15:53:58.436Z"
   },
   {
    "duration": 194,
    "start_time": "2023-05-10T15:53:58.733Z"
   }
  ],
  "kernelspec": {
   "display_name": "Python 3 (ipykernel)",
   "language": "python",
   "name": "python3"
  },
  "language_info": {
   "codemirror_mode": {
    "name": "ipython",
    "version": 3
   },
   "file_extension": ".py",
   "mimetype": "text/x-python",
   "name": "python",
   "nbconvert_exporter": "python",
   "pygments_lexer": "ipython3",
   "version": "3.9.13"
  },
  "toc": {
   "base_numbering": 1,
   "nav_menu": {},
   "number_sections": true,
   "sideBar": true,
   "skip_h1_title": true,
   "title_cell": "Table of Contents",
   "title_sidebar": "Contents",
   "toc_cell": false,
   "toc_position": {},
   "toc_section_display": true,
   "toc_window_display": false
  }
 },
 "nbformat": 4,
 "nbformat_minor": 2
}

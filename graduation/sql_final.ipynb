{
 "cells": [
  {
   "cell_type": "markdown",
   "metadata": {},
   "source": [
    "## Анализ базы данных сервиса для чтения книг по подписке\n",
    "\n",
    "\n",
    "**Входные данные**\n",
    "\n",
    "База данных содержит информацию о книгах, издательствах, авторах, пользовательских оценках и обзорах.\n",
    "\n",
    "1) таблица books cодержит данные о книгах:\n",
    "     - book_id — идентификатор книги;\n",
    "     - author_id — идентификатор автора;\n",
    "     - title — название книги;\n",
    "     - num_pages — количество страниц;\n",
    "     - publication_date — дата публикации книги;\n",
    "     - publisher_id — идентификатор издателя.\n",
    "\n",
    "2) таблица authors cодержит данные об авторах:\n",
    "     - author_id — идентификатор автора;\n",
    "     - author — имя автора\n",
    "\n",
    "3) таблица publishers cодержит данные об издательствах:\n",
    "     - publisher_id — идентификатор издательства;\n",
    "     - publisher — название издательства;\n",
    "\n",
    "4) таблица ratings cодержит данные о пользовательских оценках книг:\n",
    "     - rating_id — идентификатор оценки;\n",
    "     - book_id — идентификатор книги;\n",
    "     - username — имя пользователя, оставившего оценку;\n",
    "     - rating — оценка книги.\n",
    "\n",
    "5) таблица reviews cодержит данные о пользовательских обзорах на книги:\n",
    "     - review_id — идентификатор обзора;\n",
    "     - book_id — идентификатор книги;\n",
    "     - username — имя пользователя, написавшего обзор;\n",
    "     - text— текст обзора."
   ]
  },
  {
   "cell_type": "markdown",
   "metadata": {},
   "source": [
    "## Подключение к БД"
   ]
  },
  {
   "cell_type": "code",
   "execution_count": 1,
   "metadata": {},
   "outputs": [],
   "source": [
    "# импортируем библиотеки\n",
    "import pandas as pd\n",
    "from sqlalchemy import text, create_engine\n",
    "# устанавливаем параметры\n",
    "db_config = {'user': 'praktikum_student', # имя пользователя\n",
    "'pwd': 'Sdf4$2;d-d30pp', # пароль\n",
    "'host': 'rc1b-wcoijxj3yxfsf3fs.mdb.yandexcloud.net',\n",
    "'port': 6432, # порт подключения\n",
    "'db': 'data-analyst-final-project-db'} # название базы данных\n",
    "connection_string = 'postgresql://{user}:{pwd}@{host}:{port}/{db}'.format(**db_config)\n",
    "# сохраняем коннектор\n",
    "engine = create_engine(connection_string, connect_args={'sslmode':'require'})\n"
   ]
  },
  {
   "cell_type": "markdown",
   "metadata": {},
   "source": [
    "## Исследование таблиц"
   ]
  },
  {
   "cell_type": "code",
   "execution_count": 8,
   "metadata": {},
   "outputs": [
    {
     "data": {
      "text/plain": [
       "'books'"
      ]
     },
     "metadata": {},
     "output_type": "display_data"
    },
    {
     "data": {
      "text/html": [
       "<div>\n",
       "<style scoped>\n",
       "    .dataframe tbody tr th:only-of-type {\n",
       "        vertical-align: middle;\n",
       "    }\n",
       "\n",
       "    .dataframe tbody tr th {\n",
       "        vertical-align: top;\n",
       "    }\n",
       "\n",
       "    .dataframe thead th {\n",
       "        text-align: right;\n",
       "    }\n",
       "</style>\n",
       "<table border=\"1\" class=\"dataframe\">\n",
       "  <thead>\n",
       "    <tr style=\"text-align: right;\">\n",
       "      <th></th>\n",
       "      <th>book_id</th>\n",
       "      <th>author_id</th>\n",
       "      <th>title</th>\n",
       "      <th>num_pages</th>\n",
       "      <th>publication_date</th>\n",
       "      <th>publisher_id</th>\n",
       "    </tr>\n",
       "  </thead>\n",
       "  <tbody>\n",
       "    <tr>\n",
       "      <th>0</th>\n",
       "      <td>1</td>\n",
       "      <td>546</td>\n",
       "      <td>'Salem's Lot</td>\n",
       "      <td>594</td>\n",
       "      <td>2005-11-01</td>\n",
       "      <td>93</td>\n",
       "    </tr>\n",
       "    <tr>\n",
       "      <th>1</th>\n",
       "      <td>2</td>\n",
       "      <td>465</td>\n",
       "      <td>1 000 Places to See Before You Die</td>\n",
       "      <td>992</td>\n",
       "      <td>2003-05-22</td>\n",
       "      <td>336</td>\n",
       "    </tr>\n",
       "    <tr>\n",
       "      <th>2</th>\n",
       "      <td>3</td>\n",
       "      <td>407</td>\n",
       "      <td>13 Little Blue Envelopes (Little Blue Envelope...</td>\n",
       "      <td>322</td>\n",
       "      <td>2010-12-21</td>\n",
       "      <td>135</td>\n",
       "    </tr>\n",
       "    <tr>\n",
       "      <th>3</th>\n",
       "      <td>4</td>\n",
       "      <td>82</td>\n",
       "      <td>1491: New Revelations of the Americas Before C...</td>\n",
       "      <td>541</td>\n",
       "      <td>2006-10-10</td>\n",
       "      <td>309</td>\n",
       "    </tr>\n",
       "    <tr>\n",
       "      <th>4</th>\n",
       "      <td>5</td>\n",
       "      <td>125</td>\n",
       "      <td>1776</td>\n",
       "      <td>386</td>\n",
       "      <td>2006-07-04</td>\n",
       "      <td>268</td>\n",
       "    </tr>\n",
       "  </tbody>\n",
       "</table>\n",
       "</div>"
      ],
      "text/plain": [
       "   book_id  author_id                                              title  \\\n",
       "0        1        546                                       'Salem's Lot   \n",
       "1        2        465                 1 000 Places to See Before You Die   \n",
       "2        3        407  13 Little Blue Envelopes (Little Blue Envelope...   \n",
       "3        4         82  1491: New Revelations of the Americas Before C...   \n",
       "4        5        125                                               1776   \n",
       "\n",
       "   num_pages publication_date  publisher_id  \n",
       "0        594       2005-11-01            93  \n",
       "1        992       2003-05-22           336  \n",
       "2        322       2010-12-21           135  \n",
       "3        541       2006-10-10           309  \n",
       "4        386       2006-07-04           268  "
      ]
     },
     "metadata": {},
     "output_type": "display_data"
    },
    {
     "data": {
      "text/plain": [
       "'authors'"
      ]
     },
     "metadata": {},
     "output_type": "display_data"
    },
    {
     "data": {
      "text/html": [
       "<div>\n",
       "<style scoped>\n",
       "    .dataframe tbody tr th:only-of-type {\n",
       "        vertical-align: middle;\n",
       "    }\n",
       "\n",
       "    .dataframe tbody tr th {\n",
       "        vertical-align: top;\n",
       "    }\n",
       "\n",
       "    .dataframe thead th {\n",
       "        text-align: right;\n",
       "    }\n",
       "</style>\n",
       "<table border=\"1\" class=\"dataframe\">\n",
       "  <thead>\n",
       "    <tr style=\"text-align: right;\">\n",
       "      <th></th>\n",
       "      <th>author_id</th>\n",
       "      <th>author</th>\n",
       "    </tr>\n",
       "  </thead>\n",
       "  <tbody>\n",
       "    <tr>\n",
       "      <th>0</th>\n",
       "      <td>1</td>\n",
       "      <td>A.S. Byatt</td>\n",
       "    </tr>\n",
       "    <tr>\n",
       "      <th>1</th>\n",
       "      <td>2</td>\n",
       "      <td>Aesop/Laura Harris/Laura Gibbs</td>\n",
       "    </tr>\n",
       "    <tr>\n",
       "      <th>2</th>\n",
       "      <td>3</td>\n",
       "      <td>Agatha Christie</td>\n",
       "    </tr>\n",
       "    <tr>\n",
       "      <th>3</th>\n",
       "      <td>4</td>\n",
       "      <td>Alan Brennert</td>\n",
       "    </tr>\n",
       "    <tr>\n",
       "      <th>4</th>\n",
       "      <td>5</td>\n",
       "      <td>Alan Moore/David   Lloyd</td>\n",
       "    </tr>\n",
       "  </tbody>\n",
       "</table>\n",
       "</div>"
      ],
      "text/plain": [
       "   author_id                          author\n",
       "0          1                      A.S. Byatt\n",
       "1          2  Aesop/Laura Harris/Laura Gibbs\n",
       "2          3                 Agatha Christie\n",
       "3          4                   Alan Brennert\n",
       "4          5        Alan Moore/David   Lloyd"
      ]
     },
     "metadata": {},
     "output_type": "display_data"
    },
    {
     "data": {
      "text/plain": [
       "'publishers'"
      ]
     },
     "metadata": {},
     "output_type": "display_data"
    },
    {
     "data": {
      "text/html": [
       "<div>\n",
       "<style scoped>\n",
       "    .dataframe tbody tr th:only-of-type {\n",
       "        vertical-align: middle;\n",
       "    }\n",
       "\n",
       "    .dataframe tbody tr th {\n",
       "        vertical-align: top;\n",
       "    }\n",
       "\n",
       "    .dataframe thead th {\n",
       "        text-align: right;\n",
       "    }\n",
       "</style>\n",
       "<table border=\"1\" class=\"dataframe\">\n",
       "  <thead>\n",
       "    <tr style=\"text-align: right;\">\n",
       "      <th></th>\n",
       "      <th>publisher_id</th>\n",
       "      <th>publisher</th>\n",
       "    </tr>\n",
       "  </thead>\n",
       "  <tbody>\n",
       "    <tr>\n",
       "      <th>0</th>\n",
       "      <td>1</td>\n",
       "      <td>Ace</td>\n",
       "    </tr>\n",
       "    <tr>\n",
       "      <th>1</th>\n",
       "      <td>2</td>\n",
       "      <td>Ace Book</td>\n",
       "    </tr>\n",
       "    <tr>\n",
       "      <th>2</th>\n",
       "      <td>3</td>\n",
       "      <td>Ace Books</td>\n",
       "    </tr>\n",
       "    <tr>\n",
       "      <th>3</th>\n",
       "      <td>4</td>\n",
       "      <td>Ace Hardcover</td>\n",
       "    </tr>\n",
       "    <tr>\n",
       "      <th>4</th>\n",
       "      <td>5</td>\n",
       "      <td>Addison Wesley Publishing Company</td>\n",
       "    </tr>\n",
       "  </tbody>\n",
       "</table>\n",
       "</div>"
      ],
      "text/plain": [
       "   publisher_id                          publisher\n",
       "0             1                                Ace\n",
       "1             2                           Ace Book\n",
       "2             3                          Ace Books\n",
       "3             4                      Ace Hardcover\n",
       "4             5  Addison Wesley Publishing Company"
      ]
     },
     "metadata": {},
     "output_type": "display_data"
    },
    {
     "data": {
      "text/plain": [
       "'ratings'"
      ]
     },
     "metadata": {},
     "output_type": "display_data"
    },
    {
     "data": {
      "text/html": [
       "<div>\n",
       "<style scoped>\n",
       "    .dataframe tbody tr th:only-of-type {\n",
       "        vertical-align: middle;\n",
       "    }\n",
       "\n",
       "    .dataframe tbody tr th {\n",
       "        vertical-align: top;\n",
       "    }\n",
       "\n",
       "    .dataframe thead th {\n",
       "        text-align: right;\n",
       "    }\n",
       "</style>\n",
       "<table border=\"1\" class=\"dataframe\">\n",
       "  <thead>\n",
       "    <tr style=\"text-align: right;\">\n",
       "      <th></th>\n",
       "      <th>rating_id</th>\n",
       "      <th>book_id</th>\n",
       "      <th>username</th>\n",
       "      <th>rating</th>\n",
       "    </tr>\n",
       "  </thead>\n",
       "  <tbody>\n",
       "    <tr>\n",
       "      <th>0</th>\n",
       "      <td>1</td>\n",
       "      <td>1</td>\n",
       "      <td>ryanfranco</td>\n",
       "      <td>4</td>\n",
       "    </tr>\n",
       "    <tr>\n",
       "      <th>1</th>\n",
       "      <td>2</td>\n",
       "      <td>1</td>\n",
       "      <td>grantpatricia</td>\n",
       "      <td>2</td>\n",
       "    </tr>\n",
       "    <tr>\n",
       "      <th>2</th>\n",
       "      <td>3</td>\n",
       "      <td>1</td>\n",
       "      <td>brandtandrea</td>\n",
       "      <td>5</td>\n",
       "    </tr>\n",
       "    <tr>\n",
       "      <th>3</th>\n",
       "      <td>4</td>\n",
       "      <td>2</td>\n",
       "      <td>lorichen</td>\n",
       "      <td>3</td>\n",
       "    </tr>\n",
       "    <tr>\n",
       "      <th>4</th>\n",
       "      <td>5</td>\n",
       "      <td>2</td>\n",
       "      <td>mariokeller</td>\n",
       "      <td>2</td>\n",
       "    </tr>\n",
       "  </tbody>\n",
       "</table>\n",
       "</div>"
      ],
      "text/plain": [
       "   rating_id  book_id       username  rating\n",
       "0          1        1     ryanfranco       4\n",
       "1          2        1  grantpatricia       2\n",
       "2          3        1   brandtandrea       5\n",
       "3          4        2       lorichen       3\n",
       "4          5        2    mariokeller       2"
      ]
     },
     "metadata": {},
     "output_type": "display_data"
    },
    {
     "data": {
      "text/plain": [
       "'reviews'"
      ]
     },
     "metadata": {},
     "output_type": "display_data"
    },
    {
     "data": {
      "text/html": [
       "<div>\n",
       "<style scoped>\n",
       "    .dataframe tbody tr th:only-of-type {\n",
       "        vertical-align: middle;\n",
       "    }\n",
       "\n",
       "    .dataframe tbody tr th {\n",
       "        vertical-align: top;\n",
       "    }\n",
       "\n",
       "    .dataframe thead th {\n",
       "        text-align: right;\n",
       "    }\n",
       "</style>\n",
       "<table border=\"1\" class=\"dataframe\">\n",
       "  <thead>\n",
       "    <tr style=\"text-align: right;\">\n",
       "      <th></th>\n",
       "      <th>review_id</th>\n",
       "      <th>book_id</th>\n",
       "      <th>username</th>\n",
       "      <th>text</th>\n",
       "    </tr>\n",
       "  </thead>\n",
       "  <tbody>\n",
       "    <tr>\n",
       "      <th>0</th>\n",
       "      <td>1</td>\n",
       "      <td>1</td>\n",
       "      <td>brandtandrea</td>\n",
       "      <td>Mention society tell send professor analysis. ...</td>\n",
       "    </tr>\n",
       "    <tr>\n",
       "      <th>1</th>\n",
       "      <td>2</td>\n",
       "      <td>1</td>\n",
       "      <td>ryanfranco</td>\n",
       "      <td>Foot glass pretty audience hit themselves. Amo...</td>\n",
       "    </tr>\n",
       "    <tr>\n",
       "      <th>2</th>\n",
       "      <td>3</td>\n",
       "      <td>2</td>\n",
       "      <td>lorichen</td>\n",
       "      <td>Listen treat keep worry. Miss husband tax but ...</td>\n",
       "    </tr>\n",
       "    <tr>\n",
       "      <th>3</th>\n",
       "      <td>4</td>\n",
       "      <td>3</td>\n",
       "      <td>johnsonamanda</td>\n",
       "      <td>Finally month interesting blue could nature cu...</td>\n",
       "    </tr>\n",
       "    <tr>\n",
       "      <th>4</th>\n",
       "      <td>5</td>\n",
       "      <td>3</td>\n",
       "      <td>scotttamara</td>\n",
       "      <td>Nation purpose heavy give wait song will. List...</td>\n",
       "    </tr>\n",
       "  </tbody>\n",
       "</table>\n",
       "</div>"
      ],
      "text/plain": [
       "   review_id  book_id       username  \\\n",
       "0          1        1   brandtandrea   \n",
       "1          2        1     ryanfranco   \n",
       "2          3        2       lorichen   \n",
       "3          4        3  johnsonamanda   \n",
       "4          5        3    scotttamara   \n",
       "\n",
       "                                                text  \n",
       "0  Mention society tell send professor analysis. ...  \n",
       "1  Foot glass pretty audience hit themselves. Amo...  \n",
       "2  Listen treat keep worry. Miss husband tax but ...  \n",
       "3  Finally month interesting blue could nature cu...  \n",
       "4  Nation purpose heavy give wait song will. List...  "
      ]
     },
     "metadata": {},
     "output_type": "display_data"
    }
   ],
   "source": [
    "tables = ['books','authors','publishers','ratings','reviews']\n",
    "\n",
    "for i in range(5):\n",
    "    query = '''\n",
    "        SELECT *\n",
    "        FROM {}\n",
    "        LIMIT 5\n",
    "        '''.format(tables[i])\n",
    "    display(tables[i])\n",
    "    display(pd.io.sql.read_sql(query, con = engine))"
   ]
  },
  {
   "cell_type": "markdown",
   "metadata": {},
   "source": [
    "## Задания"
   ]
  },
  {
   "cell_type": "code",
   "execution_count": 9,
   "metadata": {},
   "outputs": [
    {
     "data": {
      "text/html": [
       "<div>\n",
       "<style scoped>\n",
       "    .dataframe tbody tr th:only-of-type {\n",
       "        vertical-align: middle;\n",
       "    }\n",
       "\n",
       "    .dataframe tbody tr th {\n",
       "        vertical-align: top;\n",
       "    }\n",
       "\n",
       "    .dataframe thead th {\n",
       "        text-align: right;\n",
       "    }\n",
       "</style>\n",
       "<table border=\"1\" class=\"dataframe\">\n",
       "  <thead>\n",
       "    <tr style=\"text-align: right;\">\n",
       "      <th></th>\n",
       "      <th>count</th>\n",
       "    </tr>\n",
       "  </thead>\n",
       "  <tbody>\n",
       "    <tr>\n",
       "      <th>0</th>\n",
       "      <td>819</td>\n",
       "    </tr>\n",
       "  </tbody>\n",
       "</table>\n",
       "</div>"
      ],
      "text/plain": [
       "   count\n",
       "0    819"
      ]
     },
     "execution_count": 9,
     "metadata": {},
     "output_type": "execute_result"
    }
   ],
   "source": [
    "# Посчитайте, сколько книг вышло после 1 января 2000 года\n",
    "query = '''\n",
    "\n",
    "SELECT \n",
    "    COUNT(book_id)\n",
    "FROM books\n",
    "WHERE publication_date > '2000-01-01'\n",
    "\n",
    "'''\n",
    "con=engine.connect()\n",
    "pd.io.sql.read_sql(sql=text(query), con = con)"
   ]
  },
  {
   "cell_type": "markdown",
   "metadata": {},
   "source": [
    "После 2000 года было издано 819 книг."
   ]
  },
  {
   "cell_type": "code",
   "execution_count": 11,
   "metadata": {},
   "outputs": [
    {
     "data": {
      "text/html": [
       "<div>\n",
       "<style scoped>\n",
       "    .dataframe tbody tr th:only-of-type {\n",
       "        vertical-align: middle;\n",
       "    }\n",
       "\n",
       "    .dataframe tbody tr th {\n",
       "        vertical-align: top;\n",
       "    }\n",
       "\n",
       "    .dataframe thead th {\n",
       "        text-align: right;\n",
       "    }\n",
       "</style>\n",
       "<table border=\"1\" class=\"dataframe\">\n",
       "  <thead>\n",
       "    <tr style=\"text-align: right;\">\n",
       "      <th></th>\n",
       "      <th>title</th>\n",
       "      <th>total_review</th>\n",
       "      <th>avg_rating</th>\n",
       "    </tr>\n",
       "  </thead>\n",
       "  <tbody>\n",
       "    <tr>\n",
       "      <th>0</th>\n",
       "      <td>Memoirs of a Geisha</td>\n",
       "      <td>8</td>\n",
       "      <td>4.138462</td>\n",
       "    </tr>\n",
       "    <tr>\n",
       "      <th>1</th>\n",
       "      <td>Twilight (Twilight  #1)</td>\n",
       "      <td>7</td>\n",
       "      <td>3.662500</td>\n",
       "    </tr>\n",
       "    <tr>\n",
       "      <th>2</th>\n",
       "      <td>Harry Potter and the Chamber of Secrets (Harry...</td>\n",
       "      <td>6</td>\n",
       "      <td>4.287500</td>\n",
       "    </tr>\n",
       "    <tr>\n",
       "      <th>3</th>\n",
       "      <td>The Glass Castle</td>\n",
       "      <td>6</td>\n",
       "      <td>4.206897</td>\n",
       "    </tr>\n",
       "    <tr>\n",
       "      <th>4</th>\n",
       "      <td>Eat  Pray  Love</td>\n",
       "      <td>6</td>\n",
       "      <td>3.395833</td>\n",
       "    </tr>\n",
       "    <tr>\n",
       "      <th>...</th>\n",
       "      <td>...</td>\n",
       "      <td>...</td>\n",
       "      <td>...</td>\n",
       "    </tr>\n",
       "    <tr>\n",
       "      <th>994</th>\n",
       "      <td>Anne Rice's The Vampire Lestat: A Graphic Novel</td>\n",
       "      <td>0</td>\n",
       "      <td>3.666667</td>\n",
       "    </tr>\n",
       "    <tr>\n",
       "      <th>995</th>\n",
       "      <td>The Natural Way to Draw</td>\n",
       "      <td>0</td>\n",
       "      <td>3.000000</td>\n",
       "    </tr>\n",
       "    <tr>\n",
       "      <th>996</th>\n",
       "      <td>The Cat in the Hat and Other Dr. Seuss Favorites</td>\n",
       "      <td>0</td>\n",
       "      <td>5.000000</td>\n",
       "    </tr>\n",
       "    <tr>\n",
       "      <th>997</th>\n",
       "      <td>Essential Tales and Poems</td>\n",
       "      <td>0</td>\n",
       "      <td>4.000000</td>\n",
       "    </tr>\n",
       "    <tr>\n",
       "      <th>998</th>\n",
       "      <td>Disney's Beauty and the Beast (A Little Golden...</td>\n",
       "      <td>0</td>\n",
       "      <td>4.000000</td>\n",
       "    </tr>\n",
       "  </tbody>\n",
       "</table>\n",
       "<p>999 rows × 3 columns</p>\n",
       "</div>"
      ],
      "text/plain": [
       "                                                 title  total_review  \\\n",
       "0                                  Memoirs of a Geisha             8   \n",
       "1                              Twilight (Twilight  #1)             7   \n",
       "2    Harry Potter and the Chamber of Secrets (Harry...             6   \n",
       "3                                     The Glass Castle             6   \n",
       "4                                      Eat  Pray  Love             6   \n",
       "..                                                 ...           ...   \n",
       "994    Anne Rice's The Vampire Lestat: A Graphic Novel             0   \n",
       "995                            The Natural Way to Draw             0   \n",
       "996   The Cat in the Hat and Other Dr. Seuss Favorites             0   \n",
       "997                          Essential Tales and Poems             0   \n",
       "998  Disney's Beauty and the Beast (A Little Golden...             0   \n",
       "\n",
       "     avg_rating  \n",
       "0      4.138462  \n",
       "1      3.662500  \n",
       "2      4.287500  \n",
       "3      4.206897  \n",
       "4      3.395833  \n",
       "..          ...  \n",
       "994    3.666667  \n",
       "995    3.000000  \n",
       "996    5.000000  \n",
       "997    4.000000  \n",
       "998    4.000000  \n",
       "\n",
       "[999 rows x 3 columns]"
      ]
     },
     "execution_count": 11,
     "metadata": {},
     "output_type": "execute_result"
    }
   ],
   "source": [
    "#Для каждой книги посчитайте количество обзоров и среднюю оценку\n",
    "query = '''\n",
    "\n",
    "SELECT \n",
    "    b.title,\n",
    "    COUNT(DISTINCT rev.review_id) AS total_review,\n",
    "    AVG(rat.rating) AS avg_rating\n",
    "FROM books AS b\n",
    "LEFT JOIN ratings AS rat on b.book_id = rat.book_id\n",
    "LEFT JOIN reviews AS rev on b.book_id = rev.book_id\n",
    "GROUP BY b.title\n",
    "ORDER BY total_review DESC\n",
    "'''\n",
    "con=engine.connect()\n",
    "pd.io.sql.read_sql(sql=text(query), con = con)"
   ]
  },
  {
   "cell_type": "markdown",
   "metadata": {},
   "source": [
    "Вывели информацию для 999 книг. Количетсво обзоров от 1120 до 0, при этом заметим, что средняя оценка не коррелирует с количеством отзывов. "
   ]
  },
  {
   "cell_type": "code",
   "execution_count": 12,
   "metadata": {},
   "outputs": [
    {
     "data": {
      "text/html": [
       "<div>\n",
       "<style scoped>\n",
       "    .dataframe tbody tr th:only-of-type {\n",
       "        vertical-align: middle;\n",
       "    }\n",
       "\n",
       "    .dataframe tbody tr th {\n",
       "        vertical-align: top;\n",
       "    }\n",
       "\n",
       "    .dataframe thead th {\n",
       "        text-align: right;\n",
       "    }\n",
       "</style>\n",
       "<table border=\"1\" class=\"dataframe\">\n",
       "  <thead>\n",
       "    <tr style=\"text-align: right;\">\n",
       "      <th></th>\n",
       "      <th>publisher_id</th>\n",
       "      <th>publisher</th>\n",
       "    </tr>\n",
       "  </thead>\n",
       "  <tbody>\n",
       "    <tr>\n",
       "      <th>0</th>\n",
       "      <td>212</td>\n",
       "      <td>Penguin Books</td>\n",
       "    </tr>\n",
       "  </tbody>\n",
       "</table>\n",
       "</div>"
      ],
      "text/plain": [
       "   publisher_id      publisher\n",
       "0           212  Penguin Books"
      ]
     },
     "execution_count": 12,
     "metadata": {},
     "output_type": "execute_result"
    }
   ],
   "source": [
    "#Определите издательство, которое выпустило наибольшее число книг толще 50 страниц — так вы исключите из анализа брошюры\n",
    "query = '''\n",
    "WITH\n",
    "bigbook AS (\n",
    "SELECT\n",
    "    publisher_id,\n",
    "    book_id\n",
    "FROM books\n",
    "WHERE num_pages > 50\n",
    ")\n",
    "\n",
    "SELECT \n",
    "    p.publisher_id,\n",
    "    p.publisher\n",
    "FROM bigbook AS b\n",
    "JOIN publishers AS p ON b.publisher_id = p.publisher_id\n",
    "GROUP BY p.publisher_id\n",
    "ORDER BY COUNT (b.book_id) DESC\n",
    "LIMIT 1\n",
    "\n",
    "'''\n",
    "con=engine.connect()\n",
    "pd.io.sql.read_sql(sql=text(query), con = con)"
   ]
  },
  {
   "cell_type": "markdown",
   "metadata": {},
   "source": [
    "Наиболее широко представлены книги издательства Penguin Books"
   ]
  },
  {
   "cell_type": "code",
   "execution_count": 13,
   "metadata": {},
   "outputs": [
    {
     "data": {
      "text/html": [
       "<div>\n",
       "<style scoped>\n",
       "    .dataframe tbody tr th:only-of-type {\n",
       "        vertical-align: middle;\n",
       "    }\n",
       "\n",
       "    .dataframe tbody tr th {\n",
       "        vertical-align: top;\n",
       "    }\n",
       "\n",
       "    .dataframe thead th {\n",
       "        text-align: right;\n",
       "    }\n",
       "</style>\n",
       "<table border=\"1\" class=\"dataframe\">\n",
       "  <thead>\n",
       "    <tr style=\"text-align: right;\">\n",
       "      <th></th>\n",
       "      <th>author</th>\n",
       "      <th>avg</th>\n",
       "    </tr>\n",
       "  </thead>\n",
       "  <tbody>\n",
       "    <tr>\n",
       "      <th>0</th>\n",
       "      <td>J.K. Rowling/Mary GrandPré</td>\n",
       "      <td>4.287097</td>\n",
       "    </tr>\n",
       "  </tbody>\n",
       "</table>\n",
       "</div>"
      ],
      "text/plain": [
       "                       author       avg\n",
       "0  J.K. Rowling/Mary GrandPré  4.287097"
      ]
     },
     "execution_count": 13,
     "metadata": {},
     "output_type": "execute_result"
    }
   ],
   "source": [
    "#Определите автора с самой высокой средней оценкой книг — учитывайте только книги с 50 и более оценками\n",
    "query = '''\n",
    "\n",
    "WITH \n",
    "\n",
    "highrat AS (\n",
    "SELECT book_id\n",
    "FROM ratings\n",
    "GROUP BY book_id\n",
    "HAVING COUNT(rating_id) >= 50\n",
    ")\n",
    "\n",
    "\n",
    "SELECT  \n",
    "       a.author, \n",
    "       AVG(r.rating)\n",
    "FROM books AS b\n",
    "JOIN highrat ON b.book_id = highrat.book_id\n",
    "JOIN authors AS a ON b.author_id = a.author_id\n",
    "JOIN ratings AS r ON highrat.book_id = r.book_id\n",
    "\n",
    "GROUP BY a.author\n",
    "ORDER BY AVG(r.rating) DESC\n",
    "LIMIT 1\n",
    "'''\n",
    "\n",
    "pd.io.sql.read_sql(query, con = engine)"
   ]
  },
  {
   "cell_type": "markdown",
   "metadata": {},
   "source": [
    "Самые популярный автор это Джоан Роулинг. Ожидаемо, узник азкабана. Ср. балл 4.41"
   ]
  },
  {
   "cell_type": "code",
   "execution_count": 14,
   "metadata": {},
   "outputs": [
    {
     "data": {
      "text/html": [
       "<div>\n",
       "<style scoped>\n",
       "    .dataframe tbody tr th:only-of-type {\n",
       "        vertical-align: middle;\n",
       "    }\n",
       "\n",
       "    .dataframe tbody tr th {\n",
       "        vertical-align: top;\n",
       "    }\n",
       "\n",
       "    .dataframe thead th {\n",
       "        text-align: right;\n",
       "    }\n",
       "</style>\n",
       "<table border=\"1\" class=\"dataframe\">\n",
       "  <thead>\n",
       "    <tr style=\"text-align: right;\">\n",
       "      <th></th>\n",
       "      <th>?column?</th>\n",
       "    </tr>\n",
       "  </thead>\n",
       "  <tbody>\n",
       "    <tr>\n",
       "      <th>0</th>\n",
       "      <td>24</td>\n",
       "    </tr>\n",
       "  </tbody>\n",
       "</table>\n",
       "</div>"
      ],
      "text/plain": [
       "   ?column?\n",
       "0        24"
      ]
     },
     "execution_count": 14,
     "metadata": {},
     "output_type": "execute_result"
    }
   ],
   "source": [
    "#Посчитайте среднее количество обзоров от пользователей, которые поставили больше 48 оценок\n",
    "query = '''\n",
    "WITH\n",
    "big_rat AS (\n",
    "SELECT \n",
    "    username\n",
    "FROM ratings\n",
    "GROUP BY username\n",
    "HAVING COUNT(rating_id) > 48\n",
    ")\n",
    "\n",
    "SELECT \n",
    "    COUNT(DISTINCT rev.text) / COUNT(DISTINCT rev.username)\n",
    "FROM ratings AS r\n",
    "JOIN reviews AS rev ON r.username = rev.username\n",
    "JOIN big_rat ON r.username = big_rat.username\n",
    "\n",
    "'''\n",
    "con=engine.connect()\n",
    "pd.io.sql.read_sql(sql=text(query), con = con)"
   ]
  },
  {
   "cell_type": "markdown",
   "metadata": {},
   "source": [
    "Пользователи, поставившее больше 48 оценок, в  среднем оставляли 24 отзыва."
   ]
  }
 ],
 "metadata": {
  "ExecuteTimeLog": [
   {
    "duration": 13608,
    "start_time": "2023-06-30T07:04:54.963Z"
   },
   {
    "duration": 231,
    "start_time": "2023-06-30T07:17:52.702Z"
   },
   {
    "duration": 5,
    "start_time": "2023-06-30T07:21:32.543Z"
   },
   {
    "duration": 7,
    "start_time": "2023-06-30T07:21:38.255Z"
   },
   {
    "duration": 101,
    "start_time": "2023-06-30T07:21:47.452Z"
   },
   {
    "duration": 87,
    "start_time": "2023-06-30T07:21:59.789Z"
   },
   {
    "duration": 348,
    "start_time": "2023-06-30T07:22:07.375Z"
   },
   {
    "duration": 158,
    "start_time": "2023-06-30T07:22:15.503Z"
   },
   {
    "duration": 119,
    "start_time": "2023-06-30T07:22:31.671Z"
   },
   {
    "duration": 130,
    "start_time": "2023-06-30T07:22:42.735Z"
   },
   {
    "duration": 76,
    "start_time": "2023-06-30T07:25:01.650Z"
   },
   {
    "duration": 73,
    "start_time": "2023-06-30T07:25:30.573Z"
   },
   {
    "duration": 71,
    "start_time": "2023-06-30T07:27:46.198Z"
   },
   {
    "duration": 75,
    "start_time": "2023-06-30T07:28:04.257Z"
   },
   {
    "duration": 77,
    "start_time": "2023-06-30T07:28:29.251Z"
   },
   {
    "duration": 72,
    "start_time": "2023-06-30T07:54:42.181Z"
   },
   {
    "duration": 62,
    "start_time": "2023-06-30T07:55:04.898Z"
   },
   {
    "duration": 173,
    "start_time": "2023-06-30T07:55:15.603Z"
   },
   {
    "duration": 176,
    "start_time": "2023-06-30T07:56:11.306Z"
   },
   {
    "duration": 107,
    "start_time": "2023-06-30T07:56:58.235Z"
   },
   {
    "duration": 95,
    "start_time": "2023-06-30T08:07:51.965Z"
   },
   {
    "duration": 77,
    "start_time": "2023-06-30T09:10:03.258Z"
   },
   {
    "duration": 77,
    "start_time": "2023-06-30T09:15:55.543Z"
   },
   {
    "duration": 63,
    "start_time": "2023-06-30T09:16:24.890Z"
   },
   {
    "duration": 64,
    "start_time": "2023-06-30T09:16:31.546Z"
   },
   {
    "duration": 75,
    "start_time": "2023-06-30T09:18:09.896Z"
   },
   {
    "duration": 46,
    "start_time": "2023-06-30T09:18:29.158Z"
   },
   {
    "duration": 59,
    "start_time": "2023-06-30T09:18:43.782Z"
   },
   {
    "duration": 81,
    "start_time": "2023-06-30T10:35:00.330Z"
   },
   {
    "duration": 70,
    "start_time": "2023-06-30T10:35:24.122Z"
   },
   {
    "duration": 73,
    "start_time": "2023-06-30T10:35:40.316Z"
   },
   {
    "duration": 140,
    "start_time": "2023-06-30T10:35:49.426Z"
   },
   {
    "duration": 65,
    "start_time": "2023-06-30T10:36:25.659Z"
   },
   {
    "duration": 69,
    "start_time": "2023-06-30T10:36:45.950Z"
   },
   {
    "duration": 79,
    "start_time": "2023-06-30T10:39:23.180Z"
   },
   {
    "duration": 102,
    "start_time": "2023-06-30T10:39:39.042Z"
   },
   {
    "duration": 370,
    "start_time": "2023-06-30T10:40:02.014Z"
   },
   {
    "duration": 65,
    "start_time": "2023-06-30T10:40:07.925Z"
   },
   {
    "duration": 113,
    "start_time": "2023-06-30T11:08:22.405Z"
   },
   {
    "duration": 64,
    "start_time": "2023-06-30T11:08:34.803Z"
   },
   {
    "duration": 89,
    "start_time": "2023-06-30T11:09:21.124Z"
   },
   {
    "duration": 21096,
    "start_time": "2023-06-30T11:16:06.851Z"
   },
   {
    "duration": 504,
    "start_time": "2023-06-30T11:16:27.950Z"
   },
   {
    "duration": 144,
    "start_time": "2023-06-30T11:16:28.456Z"
   },
   {
    "duration": 131,
    "start_time": "2023-06-30T11:16:28.603Z"
   },
   {
    "duration": 182,
    "start_time": "2023-06-30T11:16:28.737Z"
   },
   {
    "duration": 158,
    "start_time": "2023-06-30T11:16:28.923Z"
   },
   {
    "duration": 54,
    "start_time": "2023-06-30T11:16:29.083Z"
   },
   {
    "duration": 299,
    "start_time": "2023-06-30T11:16:29.140Z"
   },
   {
    "duration": 102,
    "start_time": "2023-06-30T11:16:29.441Z"
   },
   {
    "duration": 96,
    "start_time": "2023-06-30T11:16:29.547Z"
   },
   {
    "duration": 142,
    "start_time": "2023-06-30T11:16:29.646Z"
   },
   {
    "duration": 49,
    "start_time": "2023-06-30T21:38:43.742Z"
   },
   {
    "duration": 7,
    "start_time": "2023-06-30T21:41:22.833Z"
   },
   {
    "duration": 7,
    "start_time": "2023-06-30T21:42:18.952Z"
   },
   {
    "duration": 9444,
    "start_time": "2023-06-30T21:42:26.308Z"
   },
   {
    "duration": 316,
    "start_time": "2023-06-30T21:42:35.754Z"
   },
   {
    "duration": 75,
    "start_time": "2023-06-30T21:42:36.072Z"
   },
   {
    "duration": 75,
    "start_time": "2023-06-30T21:42:36.149Z"
   },
   {
    "duration": 76,
    "start_time": "2023-06-30T21:42:36.227Z"
   },
   {
    "duration": 76,
    "start_time": "2023-06-30T21:42:36.305Z"
   },
   {
    "duration": 68,
    "start_time": "2023-06-30T21:42:36.383Z"
   },
   {
    "duration": 0,
    "start_time": "2023-06-30T21:42:36.453Z"
   },
   {
    "duration": 0,
    "start_time": "2023-06-30T21:42:36.454Z"
   },
   {
    "duration": 0,
    "start_time": "2023-06-30T21:42:36.455Z"
   },
   {
    "duration": 0,
    "start_time": "2023-06-30T21:42:36.457Z"
   },
   {
    "duration": 0,
    "start_time": "2023-06-30T21:42:36.458Z"
   },
   {
    "duration": 0,
    "start_time": "2023-06-30T21:42:36.459Z"
   },
   {
    "duration": 114,
    "start_time": "2023-06-30T21:42:52.876Z"
   },
   {
    "duration": 83,
    "start_time": "2023-06-30T21:42:58.442Z"
   },
   {
    "duration": 190,
    "start_time": "2023-06-30T21:43:12.157Z"
   },
   {
    "duration": 91,
    "start_time": "2023-06-30T21:43:57.483Z"
   },
   {
    "duration": 87,
    "start_time": "2023-06-30T21:44:03.067Z"
   },
   {
    "duration": 16,
    "start_time": "2023-06-30T21:48:25.300Z"
   },
   {
    "duration": 9,
    "start_time": "2023-06-30T21:48:30.014Z"
   },
   {
    "duration": 9,
    "start_time": "2023-06-30T21:48:37.755Z"
   },
   {
    "duration": 8,
    "start_time": "2023-06-30T21:48:50.762Z"
   },
   {
    "duration": 9,
    "start_time": "2023-06-30T21:49:00.566Z"
   },
   {
    "duration": 601,
    "start_time": "2023-06-30T21:50:02.531Z"
   },
   {
    "duration": 181,
    "start_time": "2023-06-30T21:50:13.841Z"
   },
   {
    "duration": 82,
    "start_time": "2023-06-30T21:50:42.795Z"
   },
   {
    "duration": 85,
    "start_time": "2023-06-30T21:50:55.973Z"
   },
   {
    "duration": 62,
    "start_time": "2023-06-30T21:52:29.621Z"
   },
   {
    "duration": 61,
    "start_time": "2023-06-30T21:54:22.273Z"
   },
   {
    "duration": 79,
    "start_time": "2023-06-30T21:54:33.768Z"
   },
   {
    "duration": 62,
    "start_time": "2023-06-30T21:56:39.471Z"
   },
   {
    "duration": 74,
    "start_time": "2023-06-30T21:56:59.386Z"
   },
   {
    "duration": 49,
    "start_time": "2023-06-30T21:57:06.403Z"
   },
   {
    "duration": 136,
    "start_time": "2023-06-30T21:57:24.814Z"
   },
   {
    "duration": 79,
    "start_time": "2023-06-30T22:02:21.274Z"
   },
   {
    "duration": 80,
    "start_time": "2023-06-30T22:06:12.687Z"
   },
   {
    "duration": 79,
    "start_time": "2023-06-30T22:06:19.291Z"
   },
   {
    "duration": 80,
    "start_time": "2023-06-30T22:06:57.614Z"
   },
   {
    "duration": 181,
    "start_time": "2023-06-30T22:08:53.809Z"
   },
   {
    "duration": 168,
    "start_time": "2023-06-30T22:09:08.709Z"
   },
   {
    "duration": 80,
    "start_time": "2023-06-30T22:09:20.883Z"
   },
   {
    "duration": 78,
    "start_time": "2023-06-30T22:10:00.062Z"
   },
   {
    "duration": 113,
    "start_time": "2023-06-30T22:14:47.423Z"
   },
   {
    "duration": 3,
    "start_time": "2023-06-30T22:15:04.217Z"
   },
   {
    "duration": 452,
    "start_time": "2023-06-30T22:16:01.307Z"
   },
   {
    "duration": 78,
    "start_time": "2023-06-30T22:16:27.336Z"
   },
   {
    "duration": 359,
    "start_time": "2023-06-30T22:16:40.144Z"
   },
   {
    "duration": 352,
    "start_time": "2023-06-30T22:16:50.434Z"
   },
   {
    "duration": 356,
    "start_time": "2023-06-30T22:17:13.662Z"
   },
   {
    "duration": 88,
    "start_time": "2023-06-30T22:17:24.678Z"
   },
   {
    "duration": 76,
    "start_time": "2023-06-30T22:17:29.267Z"
   },
   {
    "duration": 84,
    "start_time": "2023-06-30T22:17:41.461Z"
   },
   {
    "duration": 117,
    "start_time": "2023-06-30T22:18:04.903Z"
   },
   {
    "duration": 350,
    "start_time": "2023-06-30T22:18:13.175Z"
   },
   {
    "duration": 76,
    "start_time": "2023-06-30T22:18:19.033Z"
   },
   {
    "duration": 118,
    "start_time": "2023-06-30T22:19:29.755Z"
   },
   {
    "duration": 101,
    "start_time": "2023-06-30T22:19:35.971Z"
   },
   {
    "duration": 3,
    "start_time": "2023-06-30T22:20:05.673Z"
   },
   {
    "duration": 347,
    "start_time": "2023-06-30T22:20:13.029Z"
   },
   {
    "duration": 361,
    "start_time": "2023-06-30T22:20:33.858Z"
   },
   {
    "duration": 462,
    "start_time": "2023-06-30T22:20:48.727Z"
   },
   {
    "duration": 138,
    "start_time": "2023-06-30T22:20:54.186Z"
   },
   {
    "duration": 97,
    "start_time": "2023-06-30T22:20:59.527Z"
   },
   {
    "duration": 131,
    "start_time": "2023-06-30T22:21:07.046Z"
   },
   {
    "duration": 72,
    "start_time": "2023-06-30T22:21:11.975Z"
   },
   {
    "duration": 352,
    "start_time": "2023-06-30T22:21:30.060Z"
   },
   {
    "duration": 76,
    "start_time": "2023-06-30T22:21:36.003Z"
   },
   {
    "duration": 354,
    "start_time": "2023-06-30T22:22:04.520Z"
   },
   {
    "duration": 370,
    "start_time": "2023-06-30T22:22:19.860Z"
   },
   {
    "duration": 374,
    "start_time": "2023-06-30T22:23:07.499Z"
   },
   {
    "duration": 112,
    "start_time": "2023-07-01T22:44:22.627Z"
   },
   {
    "duration": 12759,
    "start_time": "2023-07-01T22:44:40.495Z"
   },
   {
    "duration": 336,
    "start_time": "2023-07-01T22:44:53.256Z"
   },
   {
    "duration": 89,
    "start_time": "2023-07-01T22:44:53.593Z"
   },
   {
    "duration": 94,
    "start_time": "2023-07-01T22:44:53.684Z"
   },
   {
    "duration": 98,
    "start_time": "2023-07-01T22:44:53.780Z"
   },
   {
    "duration": 98,
    "start_time": "2023-07-01T22:44:53.879Z"
   },
   {
    "duration": 282,
    "start_time": "2023-07-01T22:44:53.978Z"
   },
   {
    "duration": 0,
    "start_time": "2023-07-01T22:44:54.262Z"
   },
   {
    "duration": 0,
    "start_time": "2023-07-01T22:44:54.263Z"
   },
   {
    "duration": 0,
    "start_time": "2023-07-01T22:44:54.264Z"
   },
   {
    "duration": 0,
    "start_time": "2023-07-01T22:44:54.265Z"
   },
   {
    "duration": 0,
    "start_time": "2023-07-01T22:44:54.266Z"
   },
   {
    "duration": 0,
    "start_time": "2023-07-01T22:44:54.266Z"
   },
   {
    "duration": 0,
    "start_time": "2023-07-01T22:44:54.267Z"
   },
   {
    "duration": 457,
    "start_time": "2023-07-01T22:45:19.031Z"
   },
   {
    "duration": 483,
    "start_time": "2023-07-01T22:45:22.462Z"
   },
   {
    "duration": 12380,
    "start_time": "2023-07-01T22:45:27.937Z"
   },
   {
    "duration": 328,
    "start_time": "2023-07-01T22:45:40.321Z"
   },
   {
    "duration": 91,
    "start_time": "2023-07-01T22:45:40.651Z"
   },
   {
    "duration": 96,
    "start_time": "2023-07-01T22:45:40.744Z"
   },
   {
    "duration": 99,
    "start_time": "2023-07-01T22:45:40.841Z"
   },
   {
    "duration": 98,
    "start_time": "2023-07-01T22:45:40.942Z"
   },
   {
    "duration": 452,
    "start_time": "2023-07-01T22:45:41.041Z"
   },
   {
    "duration": 494,
    "start_time": "2023-07-01T22:45:41.495Z"
   },
   {
    "duration": 62,
    "start_time": "2023-07-01T22:45:41.991Z"
   },
   {
    "duration": 203,
    "start_time": "2023-07-01T22:45:42.055Z"
   },
   {
    "duration": 101,
    "start_time": "2023-07-01T22:45:42.260Z"
   },
   {
    "duration": 80,
    "start_time": "2023-07-01T22:45:42.363Z"
   },
   {
    "duration": 93,
    "start_time": "2023-07-01T22:45:42.445Z"
   },
   {
    "duration": 85,
    "start_time": "2023-07-01T22:45:42.540Z"
   }
  ],
  "kernelspec": {
   "display_name": "Python 3 (ipykernel)",
   "language": "python",
   "name": "python3"
  },
  "language_info": {
   "codemirror_mode": {
    "name": "ipython",
    "version": 3
   },
   "file_extension": ".py",
   "mimetype": "text/x-python",
   "name": "python",
   "nbconvert_exporter": "python",
   "pygments_lexer": "ipython3",
   "version": "3.10.9"
  },
  "toc": {
   "base_numbering": 1,
   "nav_menu": {},
   "number_sections": true,
   "sideBar": true,
   "skip_h1_title": true,
   "title_cell": "Table of Contents",
   "title_sidebar": "Contents",
   "toc_cell": false,
   "toc_position": {},
   "toc_section_display": true,
   "toc_window_display": false
  }
 },
 "nbformat": 4,
 "nbformat_minor": 2
}

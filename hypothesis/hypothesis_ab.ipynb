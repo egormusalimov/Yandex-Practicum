{
 "cells": [
  {
   "cell_type": "markdown",
   "metadata": {},
   "source": [
    "# Принятие решений в бизнесе\n",
    "## Заказчик\n",
    "\n",
    "Интернет-магазин\n",
    "\n",
    "## Цель проекта\n",
    "\n",
    "Необходимость приоритизировать гипотезы из списка гипотез, предоставленных отделом Маркетинга;\n",
    "\n",
    "Анализа результатов проведенного А/В-тестирования и аргументация решения по результатам теста.\n",
    "\n",
    "Варианты решений:\n",
    "1. Остановить тест, зафиксировать победу одной из групп.\n",
    "2. Остановить тест, зафиксировать отсутствие различий между группами.\n",
    "3. Продолжить тест.\n",
    "\n",
    "## Входные данные\n",
    "\n",
    "список гипотез (файл hypothesis.csv)\n",
    "- Hypothesis — краткое описание гипотезы;\n",
    "- Reach — охват пользователей по 10-балльной шкале;\n",
    "- Impact — влияние на пользователей по 10-балльной шкале;\n",
    "- Confidence — уверенность в гипотезе по 10-балльной шкале;\n",
    "- Efforts — затраты ресурсов на проверку гипотезы по 10-балльной шкале.\n",
    "\n",
    "информация о заказах пользователей в интернет-магазине (файл orders.csv.)\n",
    "- transactionId — идентификатор заказа;\n",
    "- visitorId — идентификатор пользователя, совершившего заказ;\n",
    "- date — дата, когда был совершён заказ;\n",
    "- revenue — выручка заказа;\n",
    "- group — группа A/B-теста, в которую попал заказ.\n",
    "\n",
    "информация о посещениях пользователями интернет-магазина (файл visitors.csv)\n",
    "- date — дата;\n",
    "- group — группа A/B-теста;\n",
    "- visitors — количество пользователей в указанную дату в указанной группе A/B-теста.\n"
   ]
  },
  {
   "cell_type": "markdown",
   "metadata": {},
   "source": [
    "## Этап 1. Приоритизация гипотез.\n",
    "\n",
    "\n",
    "В файле /datasets/hypothesis.csv 9 гипотез по увеличению выручки интернет-магазина с указанными параметрами Reach, Impact, Confidence, Effort.\n",
    "\n",
    "### Задачи на 1 Этап\n",
    "    Применить фреймворк ICE для приоритизации гипотез. Отсортировать их по убыванию приоритета.\n",
    "    Применить фреймворк RICE для приоритизации гипотез. Отсортировать их по убыванию приоритета.\n",
    "    Указать, как изменилась приоритизация гипотез при применении RICE вместо ICE. Объяснить, почему так произошло."
   ]
  },
  {
   "cell_type": "markdown",
   "metadata": {},
   "source": [
    "## Этап 2. Анализ A/B-теста\n",
    "Вы провели A/B-тест и получили результаты, которые описаны в файлах /datasets/orders.csv и /datasets/visitors.csv.\n",
    "### Задачи на 2 Этап\n",
    "\n",
    "\n",
    "Проанализировать A/B-тест:\n",
    "\n",
    "    - Построить график кумулятивной выручки по группам. Сделать выводы и предположения.\n",
    "    - Построить график кумулятивного среднего чека по группам. Сделать выводы и предположения.\n",
    "    - Построить график относительного изменения кумулятивного среднего чека группы B к группе A. Сделать выводы и предположения.\n",
    "    - Построить график кумулятивного среднего количества заказов на посетителя по группам. Сделать выводы и предположения.\n",
    "    - Построить график относительного изменения кумулятивного среднего количества заказов на посетителя группы B к группе A. Сделать выводы и предположения.\n",
    "    - Построить точечный график количества заказов по пользователям. Сделать выводы и предположения.\n",
    "    - Посчитать 95-й и 99-й перцентили количества заказов на пользователя. Выбрать границу для определения аномальных пользователей.\n",
    "    - Построить точечный график стоимостей заказов. Сделать выводы и предположения.\n",
    "    - Посчитать 95-й и 99-й перцентили стоимости заказов. Выберать границу для определения аномальных заказов. \n",
    "    - Посчитать статистическую значимость различий в среднем количестве заказов на посетителя между группами по «сырым» данным. Сделать выводы и предположения.\n",
    "    - Посчитать статистическую значимость различий в среднем чеке заказа между группами по «сырым» данным. Сделать выводы и предположения.\n",
    "    - Посчитать статистическую значимость различий в среднем количестве заказов на посетителя между группами по «очищенным» данным. Сделать выводы и предположения.\n",
    "    - Посчитать статистическую значимость различий в среднем чеке заказа между группами по «очищенным» данным. Сделать выводы и предположения.\n",
    "    \n",
    "    \n",
    "По итогам анализа принять решение по результатам теста и объяснить его. Варианты решений:\n",
    "\n",
    "1. Остановить тест, зафиксировать победу одной из групп.\n",
    "2. Остановить тест, зафиксировать отсутствие различий между группами.\n",
    "3. Продолжить тест."
   ]
  },
  {
   "cell_type": "markdown",
   "metadata": {},
   "source": [
    "### Общий план\n",
    "Перед выполнением любой из задач, в первую очередь необходимо подготовить набор библиотек, познакомится с данными.\n",
    "\n",
    "Сам процесс исследования будет проведен в следующем порядке (основные этапы):\n",
    "\n",
    "    - загрузка библиотек и знакомство с данными\n",
    "    - предобработка данных\n",
    "    - формирование временных таблиц, включая новые сводные (если потребуется)\n",
    "    - проведение 1 Этапа - приоретизация гипотез ( с использованием фреймворков ICE и RICE)\n",
    "    - проведение 2 Этапа (Анализ А/В тестов)\n",
    "    - Общие выводы по результатам\n",
    "\n",
    "*Итоговая цель анализа* - оценка результатов текущего этапа тестирования, отработка гипотез, сформированных с отделом маркетинга, определение целесообразности проведения дальнейшего тестирования."
   ]
  },
  {
   "cell_type": "markdown",
   "metadata": {},
   "source": [
    "# Подготовка, знакомство и предобработка "
   ]
  },
  {
   "cell_type": "code",
   "execution_count": 1,
   "metadata": {},
   "outputs": [],
   "source": [
    "import pandas as pd\n",
    "import matplotlib\n",
    "import matplotlib.pyplot as plt\n",
    "import numpy as np\n",
    "import scipy.stats as stats\n",
    "from scipy import stats as st\n",
    "import datetime as dt"
   ]
  },
  {
   "cell_type": "code",
   "execution_count": 2,
   "metadata": {},
   "outputs": [],
   "source": [
    "hypothesis = pd.read_csv('/datasets/hypothesis.csv')\n",
    "orders=pd.read_csv('/datasets/orders.csv')\n",
    "visitors=pd.read_csv('/datasets/visitors.csv')"
   ]
  },
  {
   "cell_type": "markdown",
   "metadata": {},
   "source": [
    "## Знакомство с данными"
   ]
  },
  {
   "cell_type": "code",
   "execution_count": 3,
   "metadata": {},
   "outputs": [
    {
     "data": {
      "text/plain": [
       "(9, 5)"
      ]
     },
     "metadata": {},
     "output_type": "display_data"
    },
    {
     "data": {
      "text/html": [
       "<div>\n",
       "<style scoped>\n",
       "    .dataframe tbody tr th:only-of-type {\n",
       "        vertical-align: middle;\n",
       "    }\n",
       "\n",
       "    .dataframe tbody tr th {\n",
       "        vertical-align: top;\n",
       "    }\n",
       "\n",
       "    .dataframe thead th {\n",
       "        text-align: right;\n",
       "    }\n",
       "</style>\n",
       "<table border=\"1\" class=\"dataframe\">\n",
       "  <thead>\n",
       "    <tr style=\"text-align: right;\">\n",
       "      <th></th>\n",
       "      <th>Hypothesis</th>\n",
       "      <th>Reach</th>\n",
       "      <th>Impact</th>\n",
       "      <th>Confidence</th>\n",
       "      <th>Efforts</th>\n",
       "    </tr>\n",
       "  </thead>\n",
       "  <tbody>\n",
       "    <tr>\n",
       "      <th>0</th>\n",
       "      <td>Добавить два новых канала привлечения трафика,...</td>\n",
       "      <td>3</td>\n",
       "      <td>10</td>\n",
       "      <td>8</td>\n",
       "      <td>6</td>\n",
       "    </tr>\n",
       "    <tr>\n",
       "      <th>1</th>\n",
       "      <td>Запустить собственную службу доставки, что сок...</td>\n",
       "      <td>2</td>\n",
       "      <td>5</td>\n",
       "      <td>4</td>\n",
       "      <td>10</td>\n",
       "    </tr>\n",
       "    <tr>\n",
       "      <th>2</th>\n",
       "      <td>Добавить блоки рекомендаций товаров на сайт ин...</td>\n",
       "      <td>8</td>\n",
       "      <td>3</td>\n",
       "      <td>7</td>\n",
       "      <td>3</td>\n",
       "    </tr>\n",
       "    <tr>\n",
       "      <th>3</th>\n",
       "      <td>Изменить структура категорий, что увеличит кон...</td>\n",
       "      <td>8</td>\n",
       "      <td>3</td>\n",
       "      <td>3</td>\n",
       "      <td>8</td>\n",
       "    </tr>\n",
       "    <tr>\n",
       "      <th>4</th>\n",
       "      <td>Изменить цвет фона главной страницы, чтобы уве...</td>\n",
       "      <td>3</td>\n",
       "      <td>1</td>\n",
       "      <td>1</td>\n",
       "      <td>1</td>\n",
       "    </tr>\n",
       "  </tbody>\n",
       "</table>\n",
       "</div>"
      ],
      "text/plain": [
       "                                          Hypothesis  Reach  Impact  \\\n",
       "0  Добавить два новых канала привлечения трафика,...      3      10   \n",
       "1  Запустить собственную службу доставки, что сок...      2       5   \n",
       "2  Добавить блоки рекомендаций товаров на сайт ин...      8       3   \n",
       "3  Изменить структура категорий, что увеличит кон...      8       3   \n",
       "4  Изменить цвет фона главной страницы, чтобы уве...      3       1   \n",
       "\n",
       "   Confidence  Efforts  \n",
       "0           8        6  \n",
       "1           4       10  \n",
       "2           7        3  \n",
       "3           3        8  \n",
       "4           1        1  "
      ]
     },
     "metadata": {},
     "output_type": "display_data"
    },
    {
     "name": "stdout",
     "output_type": "stream",
     "text": [
      "<class 'pandas.core.frame.DataFrame'>\n",
      "RangeIndex: 9 entries, 0 to 8\n",
      "Data columns (total 5 columns):\n",
      " #   Column      Non-Null Count  Dtype \n",
      "---  ------      --------------  ----- \n",
      " 0   Hypothesis  9 non-null      object\n",
      " 1   Reach       9 non-null      int64 \n",
      " 2   Impact      9 non-null      int64 \n",
      " 3   Confidence  9 non-null      int64 \n",
      " 4   Efforts     9 non-null      int64 \n",
      "dtypes: int64(4), object(1)\n",
      "memory usage: 488.0+ bytes\n"
     ]
    },
    {
     "data": {
      "text/plain": [
       "None"
      ]
     },
     "metadata": {},
     "output_type": "display_data"
    }
   ],
   "source": [
    "display (hypothesis.shape)\n",
    "display (hypothesis.head ())\n",
    "display (hypothesis.info ())"
   ]
  },
  {
   "cell_type": "code",
   "execution_count": 4,
   "metadata": {},
   "outputs": [
    {
     "data": {
      "text/plain": [
       "(1197, 5)"
      ]
     },
     "metadata": {},
     "output_type": "display_data"
    },
    {
     "data": {
      "text/html": [
       "<div>\n",
       "<style scoped>\n",
       "    .dataframe tbody tr th:only-of-type {\n",
       "        vertical-align: middle;\n",
       "    }\n",
       "\n",
       "    .dataframe tbody tr th {\n",
       "        vertical-align: top;\n",
       "    }\n",
       "\n",
       "    .dataframe thead th {\n",
       "        text-align: right;\n",
       "    }\n",
       "</style>\n",
       "<table border=\"1\" class=\"dataframe\">\n",
       "  <thead>\n",
       "    <tr style=\"text-align: right;\">\n",
       "      <th></th>\n",
       "      <th>transactionId</th>\n",
       "      <th>visitorId</th>\n",
       "      <th>date</th>\n",
       "      <th>revenue</th>\n",
       "      <th>group</th>\n",
       "    </tr>\n",
       "  </thead>\n",
       "  <tbody>\n",
       "    <tr>\n",
       "      <th>0</th>\n",
       "      <td>3667963787</td>\n",
       "      <td>3312258926</td>\n",
       "      <td>2019-08-15</td>\n",
       "      <td>1650</td>\n",
       "      <td>B</td>\n",
       "    </tr>\n",
       "    <tr>\n",
       "      <th>1</th>\n",
       "      <td>2804400009</td>\n",
       "      <td>3642806036</td>\n",
       "      <td>2019-08-15</td>\n",
       "      <td>730</td>\n",
       "      <td>B</td>\n",
       "    </tr>\n",
       "    <tr>\n",
       "      <th>2</th>\n",
       "      <td>2961555356</td>\n",
       "      <td>4069496402</td>\n",
       "      <td>2019-08-15</td>\n",
       "      <td>400</td>\n",
       "      <td>A</td>\n",
       "    </tr>\n",
       "    <tr>\n",
       "      <th>3</th>\n",
       "      <td>3797467345</td>\n",
       "      <td>1196621759</td>\n",
       "      <td>2019-08-15</td>\n",
       "      <td>9759</td>\n",
       "      <td>B</td>\n",
       "    </tr>\n",
       "    <tr>\n",
       "      <th>4</th>\n",
       "      <td>2282983706</td>\n",
       "      <td>2322279887</td>\n",
       "      <td>2019-08-15</td>\n",
       "      <td>2308</td>\n",
       "      <td>B</td>\n",
       "    </tr>\n",
       "  </tbody>\n",
       "</table>\n",
       "</div>"
      ],
      "text/plain": [
       "   transactionId   visitorId        date  revenue group\n",
       "0     3667963787  3312258926  2019-08-15     1650     B\n",
       "1     2804400009  3642806036  2019-08-15      730     B\n",
       "2     2961555356  4069496402  2019-08-15      400     A\n",
       "3     3797467345  1196621759  2019-08-15     9759     B\n",
       "4     2282983706  2322279887  2019-08-15     2308     B"
      ]
     },
     "metadata": {},
     "output_type": "display_data"
    },
    {
     "name": "stdout",
     "output_type": "stream",
     "text": [
      "<class 'pandas.core.frame.DataFrame'>\n",
      "RangeIndex: 1197 entries, 0 to 1196\n",
      "Data columns (total 5 columns):\n",
      " #   Column         Non-Null Count  Dtype \n",
      "---  ------         --------------  ----- \n",
      " 0   transactionId  1197 non-null   int64 \n",
      " 1   visitorId      1197 non-null   int64 \n",
      " 2   date           1197 non-null   object\n",
      " 3   revenue        1197 non-null   int64 \n",
      " 4   group          1197 non-null   object\n",
      "dtypes: int64(3), object(2)\n",
      "memory usage: 46.9+ KB\n"
     ]
    },
    {
     "data": {
      "text/plain": [
       "None"
      ]
     },
     "metadata": {},
     "output_type": "display_data"
    }
   ],
   "source": [
    "display (orders.shape)\n",
    "display (orders.head ())\n",
    "display (orders.info ())"
   ]
  },
  {
   "cell_type": "code",
   "execution_count": 5,
   "metadata": {},
   "outputs": [
    {
     "data": {
      "text/plain": [
       "'2019-08-31'"
      ]
     },
     "metadata": {},
     "output_type": "display_data"
    },
    {
     "data": {
      "text/plain": [
       "'2019-08-01'"
      ]
     },
     "metadata": {},
     "output_type": "display_data"
    }
   ],
   "source": [
    "display (orders['date'].max ())\n",
    "display (orders['date'].min ())"
   ]
  },
  {
   "cell_type": "code",
   "execution_count": 6,
   "metadata": {},
   "outputs": [
    {
     "data": {
      "text/plain": [
       "(62, 3)"
      ]
     },
     "metadata": {},
     "output_type": "display_data"
    },
    {
     "data": {
      "text/html": [
       "<div>\n",
       "<style scoped>\n",
       "    .dataframe tbody tr th:only-of-type {\n",
       "        vertical-align: middle;\n",
       "    }\n",
       "\n",
       "    .dataframe tbody tr th {\n",
       "        vertical-align: top;\n",
       "    }\n",
       "\n",
       "    .dataframe thead th {\n",
       "        text-align: right;\n",
       "    }\n",
       "</style>\n",
       "<table border=\"1\" class=\"dataframe\">\n",
       "  <thead>\n",
       "    <tr style=\"text-align: right;\">\n",
       "      <th></th>\n",
       "      <th>date</th>\n",
       "      <th>group</th>\n",
       "      <th>visitors</th>\n",
       "    </tr>\n",
       "  </thead>\n",
       "  <tbody>\n",
       "    <tr>\n",
       "      <th>0</th>\n",
       "      <td>2019-08-01</td>\n",
       "      <td>A</td>\n",
       "      <td>719</td>\n",
       "    </tr>\n",
       "    <tr>\n",
       "      <th>1</th>\n",
       "      <td>2019-08-02</td>\n",
       "      <td>A</td>\n",
       "      <td>619</td>\n",
       "    </tr>\n",
       "    <tr>\n",
       "      <th>2</th>\n",
       "      <td>2019-08-03</td>\n",
       "      <td>A</td>\n",
       "      <td>507</td>\n",
       "    </tr>\n",
       "    <tr>\n",
       "      <th>3</th>\n",
       "      <td>2019-08-04</td>\n",
       "      <td>A</td>\n",
       "      <td>717</td>\n",
       "    </tr>\n",
       "    <tr>\n",
       "      <th>4</th>\n",
       "      <td>2019-08-05</td>\n",
       "      <td>A</td>\n",
       "      <td>756</td>\n",
       "    </tr>\n",
       "  </tbody>\n",
       "</table>\n",
       "</div>"
      ],
      "text/plain": [
       "         date group  visitors\n",
       "0  2019-08-01     A       719\n",
       "1  2019-08-02     A       619\n",
       "2  2019-08-03     A       507\n",
       "3  2019-08-04     A       717\n",
       "4  2019-08-05     A       756"
      ]
     },
     "metadata": {},
     "output_type": "display_data"
    },
    {
     "name": "stdout",
     "output_type": "stream",
     "text": [
      "<class 'pandas.core.frame.DataFrame'>\n",
      "RangeIndex: 62 entries, 0 to 61\n",
      "Data columns (total 3 columns):\n",
      " #   Column    Non-Null Count  Dtype \n",
      "---  ------    --------------  ----- \n",
      " 0   date      62 non-null     object\n",
      " 1   group     62 non-null     object\n",
      " 2   visitors  62 non-null     int64 \n",
      "dtypes: int64(1), object(2)\n",
      "memory usage: 1.6+ KB\n"
     ]
    },
    {
     "data": {
      "text/plain": [
       "None"
      ]
     },
     "metadata": {},
     "output_type": "display_data"
    }
   ],
   "source": [
    "display (visitors.shape)\n",
    "display (visitors.head ())\n",
    "display (visitors.info ())"
   ]
  },
  {
   "cell_type": "code",
   "execution_count": 7,
   "metadata": {},
   "outputs": [
    {
     "data": {
      "text/plain": [
       "'2019-08-31'"
      ]
     },
     "metadata": {},
     "output_type": "display_data"
    },
    {
     "data": {
      "text/plain": [
       "'2019-08-01'"
      ]
     },
     "metadata": {},
     "output_type": "display_data"
    }
   ],
   "source": [
    "display (visitors['date'].max ())\n",
    "display (visitors['date'].min ())"
   ]
  },
  {
   "cell_type": "code",
   "execution_count": 8,
   "metadata": {},
   "outputs": [
    {
     "data": {
      "text/plain": [
       "array(['B', 'A'], dtype=object)"
      ]
     },
     "metadata": {},
     "output_type": "display_data"
    },
    {
     "data": {
      "text/plain": [
       "array(['A', 'B'], dtype=object)"
      ]
     },
     "metadata": {},
     "output_type": "display_data"
    }
   ],
   "source": [
    "display (orders ['group'].unique ())\n",
    "display (visitors ['group'].unique ())"
   ]
  },
  {
   "cell_type": "markdown",
   "metadata": {},
   "source": [
    "По результатам первичного знакомства с данными, предварительно, данные без пропусков, безотлагательных корректировок не требуют. Загруженные даты корректны, период с 1 по 31 августа 2019 года.\n",
    "В группах только 2 значения."
   ]
  },
  {
   "cell_type": "markdown",
   "metadata": {},
   "source": [
    "### Обработка пропусков и дубликатов"
   ]
  },
  {
   "cell_type": "code",
   "execution_count": 9,
   "metadata": {},
   "outputs": [
    {
     "name": "stdout",
     "output_type": "stream",
     "text": [
      " Явные дубликаты во всех строках и столбцах 0\n",
      "\n",
      "<class 'pandas.core.frame.DataFrame'>\n",
      "Int64Index: 0 entries\n",
      "Data columns (total 5 columns):\n",
      " #   Column         Non-Null Count  Dtype \n",
      "---  ------         --------------  ----- \n",
      " 0   transactionId  0 non-null      int64 \n",
      " 1   visitorId      0 non-null      int64 \n",
      " 2   date           0 non-null      object\n",
      " 3   revenue        0 non-null      int64 \n",
      " 4   group          0 non-null      object\n",
      "dtypes: int64(3), object(2)\n",
      "memory usage: 0.0+ bytes\n",
      "None\n",
      "Empty DataFrame\n",
      "Columns: [transactionId, visitorId, date, revenue, group]\n",
      "Index: []\n"
     ]
    }
   ],
   "source": [
    "print (f' Явные дубликаты во всех строках и столбцах {orders.duplicated ().sum ()}')\n",
    "print ()\n",
    "duplicates = orders.duplicated()\n",
    "duplicate_rows = orders.loc[duplicates]\n",
    "print(duplicate_rows.info())\n",
    "print(duplicate_rows)"
   ]
  },
  {
   "cell_type": "code",
   "execution_count": 10,
   "metadata": {},
   "outputs": [
    {
     "name": "stdout",
     "output_type": "stream",
     "text": [
      " Явные дубликаты во всех строках и столбцах 0\n",
      "\n",
      "<class 'pandas.core.frame.DataFrame'>\n",
      "Int64Index: 0 entries\n",
      "Data columns (total 3 columns):\n",
      " #   Column    Non-Null Count  Dtype \n",
      "---  ------    --------------  ----- \n",
      " 0   date      0 non-null      object\n",
      " 1   group     0 non-null      object\n",
      " 2   visitors  0 non-null      int64 \n",
      "dtypes: int64(1), object(2)\n",
      "memory usage: 0.0+ bytes\n",
      "None\n",
      "Empty DataFrame\n",
      "Columns: [date, group, visitors]\n",
      "Index: []\n"
     ]
    }
   ],
   "source": [
    "print (f' Явные дубликаты во всех строках и столбцах {visitors.duplicated ().sum ()}')\n",
    "print ()\n",
    "duplicates = visitors.duplicated()\n",
    "duplicate_rows = visitors.loc[duplicates]\n",
    "print(duplicate_rows.info())\n",
    "print(duplicate_rows)"
   ]
  },
  {
   "cell_type": "code",
   "execution_count": 11,
   "metadata": {},
   "outputs": [
    {
     "data": {
      "text/plain": [
       "Hypothesis    0\n",
       "Reach         0\n",
       "Impact        0\n",
       "Confidence    0\n",
       "Efforts       0\n",
       "dtype: int64"
      ]
     },
     "metadata": {},
     "output_type": "display_data"
    },
    {
     "data": {
      "text/plain": [
       "transactionId    0\n",
       "visitorId        0\n",
       "date             0\n",
       "revenue          0\n",
       "group            0\n",
       "dtype: int64"
      ]
     },
     "metadata": {},
     "output_type": "display_data"
    },
    {
     "data": {
      "text/plain": [
       "date        0\n",
       "group       0\n",
       "visitors    0\n",
       "dtype: int64"
      ]
     },
     "metadata": {},
     "output_type": "display_data"
    }
   ],
   "source": [
    "display (hypothesis.isna ().sum ())\n",
    "display (orders.isna ().sum ())\n",
    "display (visitors.isna ().sum ())"
   ]
  },
  {
   "cell_type": "code",
   "execution_count": 12,
   "metadata": {},
   "outputs": [
    {
     "data": {
      "text/plain": [
       "58"
      ]
     },
     "execution_count": 12,
     "metadata": {},
     "output_type": "execute_result"
    }
   ],
   "source": [
    "orders_a = orders.query ('group==\"A\"')\n",
    "orders_b = orders.query ('group==\"B\"')\n",
    "duples = orders_a.merge (orders_b, on='visitorId')\n",
    "duples ['visitorId'].value_counts ().count ()"
   ]
  },
  {
   "cell_type": "markdown",
   "metadata": {},
   "source": [
    "Вывод по результатам знакомства:\n",
    "\n",
    "    - аномалий не выявлено\n",
    "    - пропусков не выявлено\n",
    "    - значения в части определения параметров таблиц корректны (2 группы)\n",
    "    - в таблице с гипотезами используется диапазон значений от 1 до 10, ошибок (меньше 0 или больше 10) нет\n",
    "    - временной интервал идентичный - с 1 по 31 августа 2019 года\n",
    "    - 58 клиентов попали сразу в обе группы."
   ]
  },
  {
   "cell_type": "markdown",
   "metadata": {},
   "source": [
    "Часть 1. Приоритизация гипотез.\n",
    "\n",
    "Дан файл из 9 гипотез по увеличению выручки интернет-магазина с указанными параметрами Reach, Impact, Confidence, Effort.\n",
    "Применим  два фреймворка по приоритизации, выведем два разных списка по убыванию приоритета."
   ]
  },
  {
   "cell_type": "code",
   "execution_count": 13,
   "metadata": {},
   "outputs": [
    {
     "data": {
      "text/html": [
       "<div>\n",
       "<style scoped>\n",
       "    .dataframe tbody tr th:only-of-type {\n",
       "        vertical-align: middle;\n",
       "    }\n",
       "\n",
       "    .dataframe tbody tr th {\n",
       "        vertical-align: top;\n",
       "    }\n",
       "\n",
       "    .dataframe thead th {\n",
       "        text-align: right;\n",
       "    }\n",
       "</style>\n",
       "<table border=\"1\" class=\"dataframe\">\n",
       "  <thead>\n",
       "    <tr style=\"text-align: right;\">\n",
       "      <th></th>\n",
       "      <th>Hypothesis</th>\n",
       "      <th>ICE</th>\n",
       "    </tr>\n",
       "  </thead>\n",
       "  <tbody>\n",
       "    <tr>\n",
       "      <th>8</th>\n",
       "      <td>Запустить акцию, дающую скидку на товар в день...</td>\n",
       "      <td>16.20</td>\n",
       "    </tr>\n",
       "    <tr>\n",
       "      <th>0</th>\n",
       "      <td>Добавить два новых канала привлечения трафика,...</td>\n",
       "      <td>13.33</td>\n",
       "    </tr>\n",
       "    <tr>\n",
       "      <th>7</th>\n",
       "      <td>Добавить форму подписки на все основные страни...</td>\n",
       "      <td>11.20</td>\n",
       "    </tr>\n",
       "    <tr>\n",
       "      <th>6</th>\n",
       "      <td>Показать на главной странице баннеры с актуаль...</td>\n",
       "      <td>8.00</td>\n",
       "    </tr>\n",
       "    <tr>\n",
       "      <th>2</th>\n",
       "      <td>Добавить блоки рекомендаций товаров на сайт ин...</td>\n",
       "      <td>7.00</td>\n",
       "    </tr>\n",
       "    <tr>\n",
       "      <th>1</th>\n",
       "      <td>Запустить собственную службу доставки, что сок...</td>\n",
       "      <td>2.00</td>\n",
       "    </tr>\n",
       "    <tr>\n",
       "      <th>5</th>\n",
       "      <td>Добавить страницу отзывов клиентов о магазине,...</td>\n",
       "      <td>1.33</td>\n",
       "    </tr>\n",
       "    <tr>\n",
       "      <th>3</th>\n",
       "      <td>Изменить структура категорий, что увеличит кон...</td>\n",
       "      <td>1.12</td>\n",
       "    </tr>\n",
       "    <tr>\n",
       "      <th>4</th>\n",
       "      <td>Изменить цвет фона главной страницы, чтобы уве...</td>\n",
       "      <td>1.00</td>\n",
       "    </tr>\n",
       "  </tbody>\n",
       "</table>\n",
       "</div>"
      ],
      "text/plain": [
       "                                          Hypothesis    ICE\n",
       "8  Запустить акцию, дающую скидку на товар в день...  16.20\n",
       "0  Добавить два новых канала привлечения трафика,...  13.33\n",
       "7  Добавить форму подписки на все основные страни...  11.20\n",
       "6  Показать на главной странице баннеры с актуаль...   8.00\n",
       "2  Добавить блоки рекомендаций товаров на сайт ин...   7.00\n",
       "1  Запустить собственную службу доставки, что сок...   2.00\n",
       "5  Добавить страницу отзывов клиентов о магазине,...   1.33\n",
       "3  Изменить структура категорий, что увеличит кон...   1.12\n",
       "4  Изменить цвет фона главной страницы, чтобы уве...   1.00"
      ]
     },
     "metadata": {},
     "output_type": "display_data"
    },
    {
     "data": {
      "text/html": [
       "<div>\n",
       "<style scoped>\n",
       "    .dataframe tbody tr th:only-of-type {\n",
       "        vertical-align: middle;\n",
       "    }\n",
       "\n",
       "    .dataframe tbody tr th {\n",
       "        vertical-align: top;\n",
       "    }\n",
       "\n",
       "    .dataframe thead th {\n",
       "        text-align: right;\n",
       "    }\n",
       "</style>\n",
       "<table border=\"1\" class=\"dataframe\">\n",
       "  <thead>\n",
       "    <tr style=\"text-align: right;\">\n",
       "      <th></th>\n",
       "      <th>Hypothesis</th>\n",
       "      <th>RICE</th>\n",
       "    </tr>\n",
       "  </thead>\n",
       "  <tbody>\n",
       "    <tr>\n",
       "      <th>7</th>\n",
       "      <td>Добавить форму подписки на все основные страни...</td>\n",
       "      <td>112.0</td>\n",
       "    </tr>\n",
       "    <tr>\n",
       "      <th>2</th>\n",
       "      <td>Добавить блоки рекомендаций товаров на сайт ин...</td>\n",
       "      <td>56.0</td>\n",
       "    </tr>\n",
       "    <tr>\n",
       "      <th>0</th>\n",
       "      <td>Добавить два новых канала привлечения трафика,...</td>\n",
       "      <td>40.0</td>\n",
       "    </tr>\n",
       "    <tr>\n",
       "      <th>6</th>\n",
       "      <td>Показать на главной странице баннеры с актуаль...</td>\n",
       "      <td>40.0</td>\n",
       "    </tr>\n",
       "    <tr>\n",
       "      <th>8</th>\n",
       "      <td>Запустить акцию, дающую скидку на товар в день...</td>\n",
       "      <td>16.2</td>\n",
       "    </tr>\n",
       "    <tr>\n",
       "      <th>3</th>\n",
       "      <td>Изменить структура категорий, что увеличит кон...</td>\n",
       "      <td>9.0</td>\n",
       "    </tr>\n",
       "    <tr>\n",
       "      <th>1</th>\n",
       "      <td>Запустить собственную службу доставки, что сок...</td>\n",
       "      <td>4.0</td>\n",
       "    </tr>\n",
       "    <tr>\n",
       "      <th>5</th>\n",
       "      <td>Добавить страницу отзывов клиентов о магазине,...</td>\n",
       "      <td>4.0</td>\n",
       "    </tr>\n",
       "    <tr>\n",
       "      <th>4</th>\n",
       "      <td>Изменить цвет фона главной страницы, чтобы уве...</td>\n",
       "      <td>3.0</td>\n",
       "    </tr>\n",
       "  </tbody>\n",
       "</table>\n",
       "</div>"
      ],
      "text/plain": [
       "                                          Hypothesis   RICE\n",
       "7  Добавить форму подписки на все основные страни...  112.0\n",
       "2  Добавить блоки рекомендаций товаров на сайт ин...   56.0\n",
       "0  Добавить два новых канала привлечения трафика,...   40.0\n",
       "6  Показать на главной странице баннеры с актуаль...   40.0\n",
       "8  Запустить акцию, дающую скидку на товар в день...   16.2\n",
       "3  Изменить структура категорий, что увеличит кон...    9.0\n",
       "1  Запустить собственную службу доставки, что сок...    4.0\n",
       "5  Добавить страницу отзывов клиентов о магазине,...    4.0\n",
       "4  Изменить цвет фона главной страницы, чтобы уве...    3.0"
      ]
     },
     "metadata": {},
     "output_type": "display_data"
    }
   ],
   "source": [
    "#ICE\n",
    "hypothesis['ICE'] = round(hypothesis['Impact']*hypothesis['Confidence']/hypothesis['Efforts'],2)\n",
    "display(hypothesis[['Hypothesis','ICE']].sort_values(by='ICE',ascending=False))\n",
    "\n",
    "#RICE\n",
    "hypothesis['RICE'] = round(hypothesis['Reach']*hypothesis['Impact']*hypothesis['Confidence']/hypothesis['Efforts'],2)\n",
    "display(hypothesis[['Hypothesis','RICE']].sort_values(by='RICE',ascending=False))"
   ]
  },
  {
   "cell_type": "markdown",
   "metadata": {},
   "source": [
    "В способе ICE лидируют гипотезы: \n",
    "-Запустить акцию, дающую скидку на товар в день рождения   \n",
    "-Добавить два новых канала привлечения трафика, что позволит привлекать на 30% больше пользователей   \n",
    "-Добавить форму подписки на все основные страницы, чтобы собрать базу клиентов для email-рассылок\n",
    "\n",
    "Стоит обратить внимание на:\n",
    "\n",
    "-Показать на главной странице баннеры с актуальными акциями и распродажами, чтобы увеличить конверсию   \n",
    "-Добавить блоки рекомендаций товаров на сайт интернет магазина, чтобы повысить конверсию и средний чек заказа\n",
    "\n",
    "В методике RICE безоговорочный лидер гипотеза:\n",
    "Добавить форму подписки на все основные страницы, чтобы собрать базу клиентов для email-рассылок\n",
    "\n",
    "С большим отрываом отстают:\n",
    "\n",
    "-Добавить блоки рекомендаций товаров на сайт интернет магазина, чтобы повысить конверсию и средний чек заказа   \n",
    "-Добавить два новых канала привлечения трафика, что позволит привлекать на 30% больше пользователей   \n",
    "-Показать на главной странице баннеры с актуальными акциями и распродажами, чтобы увеличить конверсию\n",
    "\n",
    "В разработке гипотез я бы отталкивался от второго списка, т.к. он использует параметр REACH, т.е. сколько пользователей затронет изменение (параметр вовлечённости)."
   ]
  },
  {
   "cell_type": "markdown",
   "metadata": {},
   "source": [
    "Часть 2. Анализ A/B-теста\n",
    "Вы провели A/B-тест и получили результаты, которые описаны в файлах /datasets/orders.csv и /datasets/visitors.csv.\n",
    "Задача\n",
    "Проанализируйте A/B-тест.\n"
   ]
  },
  {
   "cell_type": "markdown",
   "metadata": {},
   "source": [
    "1. Постройте график кумулятивной выручки по группам. Сделайте выводы и предположения."
   ]
  },
  {
   "cell_type": "code",
   "execution_count": 14,
   "metadata": {},
   "outputs": [
    {
     "name": "stdout",
     "output_type": "stream",
     "text": [
      "         date group  orders  buyers  revenue  visitors\n",
      "0  2019-08-01     A      24      20   148579       719\n",
      "1  2019-08-01     B      21      20   101217       713\n",
      "2  2019-08-02     A      44      38   242401      1338\n",
      "3  2019-08-02     B      45      43   266748      1294\n",
      "4  2019-08-03     A      68      62   354874      1845\n"
     ]
    },
    {
     "data": {
      "image/png": "[encoded data removed]",
      "text/plain": [
       "<Figure size 720x720 with 1 Axes>"
      ]
     },
     "metadata": {
      "needs_background": "light"
     },
     "output_type": "display_data"
    }
   ],
   "source": [
    "# создаем массив уникальных пар значений дат и групп теста\n",
    "datesGroups = orders[['date','group']].drop_duplicates()\n",
    "\n",
    "# получаем агрегированные кумулятивные по дням данные о заказах \n",
    "ordersAggregated = datesGroups.apply(lambda x: orders[np.logical_and(orders['date'] <= x['date'], orders['group'] == x['group'])]\\\n",
    "                                     .agg({'date' : 'max', 'group' : 'max', 'transactionId' : 'nunique', 'visitorId' : 'nunique', 'revenue' : 'sum'}), axis=1).sort_values(by=['date','group'])\n",
    "\n",
    "# получаем агрегированные кумулятивные по дням данные о посетителях интернет-магазина \n",
    "visitorsAggregated = datesGroups.apply(lambda x: visitors[np.logical_and(visitors['date'] <= x['date'], visitors['group'] == x['group'])]\\\n",
    "                                       .agg({'date' : 'max', 'group' : 'max', 'visitors' : 'sum'}), axis=1).sort_values(by=['date','group'])\n",
    "\n",
    "# объединяем кумулятивные данные в одной таблице и присваиваем ее столбцам понятные названия\n",
    "cumulativeData = ordersAggregated.merge(visitorsAggregated, left_on=['date', 'group'], right_on=['date', 'group'])\n",
    "cumulativeData.columns = ['date', 'group', 'orders', 'buyers', 'revenue', 'visitors']\n",
    "\n",
    "print(cumulativeData.head(5)) \n",
    "\n",
    "# датафрейм с кумулятивным количеством заказов и кумулятивной выручкой по дням в группе А\n",
    "cumulativeRevenueA = cumulativeData[cumulativeData['group']=='A'][['date','revenue', 'orders']]\n",
    "\n",
    "# датафрейм с кумулятивным количеством заказов и кумулятивной выручкой по дням в группе B\n",
    "cumulativeRevenueB = cumulativeData[cumulativeData['group']=='B'][['date','revenue', 'orders']]\n",
    "\n",
    "plt.figure(figsize=(10,10))\n",
    "plt.plot(cumulativeRevenueA['date'], cumulativeRevenueA['revenue'], label='A')\n",
    "plt.plot(cumulativeRevenueB['date'], cumulativeRevenueB['revenue'], label='B')\n",
    "plt.xticks(rotation=45)\n",
    "plt.grid(True)\n",
    "plt.title(\"Кумулятивная выручка по группам\")\n",
    "plt.xlabel(\"Дата\")\n",
    "plt.ylabel(\"Выручка\")\n",
    "plt.legend() \n",
    "plt.show()\n",
    "\n"
   ]
  },
  {
   "cell_type": "markdown",
   "metadata": {},
   "source": [
    "Как видно из графика, примерно до 5-го августа кумулятивная выручка примерно одинаково растет, как в группе А, так и в группе В. Однако, начиная с 13 августа, группа В показывает куда более существенный рост. В районе 18-19 авугста наблюдается резкий скачок в группе В, с последующим равномерным ростом. Группа А, также увеличивается со временнем (все таки расчет идет кумулятивной выручки), но заметно меньшими темпами, чем группа В.\n",
    "\n",
    "Стоит сразу разобраться, что произошло в группе В в период 18-19 августа"
   ]
  },
  {
   "cell_type": "code",
   "execution_count": 15,
   "metadata": {},
   "outputs": [
    {
     "data": {
      "text/html": [
       "<div>\n",
       "<style scoped>\n",
       "    .dataframe tbody tr th:only-of-type {\n",
       "        vertical-align: middle;\n",
       "    }\n",
       "\n",
       "    .dataframe tbody tr th {\n",
       "        vertical-align: top;\n",
       "    }\n",
       "\n",
       "    .dataframe thead th {\n",
       "        text-align: right;\n",
       "    }\n",
       "</style>\n",
       "<table border=\"1\" class=\"dataframe\">\n",
       "  <thead>\n",
       "    <tr style=\"text-align: right;\">\n",
       "      <th></th>\n",
       "      <th>date</th>\n",
       "      <th>revenue</th>\n",
       "      <th>orders</th>\n",
       "    </tr>\n",
       "  </thead>\n",
       "  <tbody>\n",
       "    <tr>\n",
       "      <th>35</th>\n",
       "      <td>2019-08-18</td>\n",
       "      <td>2686621</td>\n",
       "      <td>382</td>\n",
       "    </tr>\n",
       "    <tr>\n",
       "      <th>37</th>\n",
       "      <td>2019-08-19</td>\n",
       "      <td>4116541</td>\n",
       "      <td>403</td>\n",
       "    </tr>\n",
       "  </tbody>\n",
       "</table>\n",
       "</div>"
      ],
      "text/plain": [
       "          date  revenue  orders\n",
       "35  2019-08-18  2686621     382\n",
       "37  2019-08-19  4116541     403"
      ]
     },
     "metadata": {},
     "output_type": "display_data"
    },
    {
     "data": {
      "text/plain": [
       "53.22373345551903"
      ]
     },
     "metadata": {},
     "output_type": "display_data"
    }
   ],
   "source": [
    "# сделаем срез данных нашей сгруппированной таблицы по периоду 18-19 августа\n",
    "cumulativeRevenueB_18_19 = cumulativeRevenueB.query('date >= \"2019-08-18\" and date <= \"2019-08-19\"')\n",
    "diff = (cumulativeRevenueB_18_19.loc[37, 'revenue'] - cumulativeRevenueB_18_19.loc[35, 'revenue']) / \\\n",
    "cumulativeRevenueB_18_19.loc[35, 'revenue'] * 100\n",
    "\n",
    "display (cumulativeRevenueB_18_19)\n",
    "display (diff)"
   ]
  },
  {
   "cell_type": "code",
   "execution_count": 16,
   "metadata": {},
   "outputs": [
    {
     "data": {
      "text/html": [
       "<div>\n",
       "<style scoped>\n",
       "    .dataframe tbody tr th:only-of-type {\n",
       "        vertical-align: middle;\n",
       "    }\n",
       "\n",
       "    .dataframe tbody tr th {\n",
       "        vertical-align: top;\n",
       "    }\n",
       "\n",
       "    .dataframe thead th {\n",
       "        text-align: right;\n",
       "    }\n",
       "</style>\n",
       "<table border=\"1\" class=\"dataframe\">\n",
       "  <thead>\n",
       "    <tr style=\"text-align: right;\">\n",
       "      <th></th>\n",
       "      <th>transactionId</th>\n",
       "      <th>visitorId</th>\n",
       "      <th>date</th>\n",
       "      <th>revenue</th>\n",
       "      <th>group</th>\n",
       "    </tr>\n",
       "  </thead>\n",
       "  <tbody>\n",
       "    <tr>\n",
       "      <th>425</th>\n",
       "      <td>590470918</td>\n",
       "      <td>1920142716</td>\n",
       "      <td>2019-08-19</td>\n",
       "      <td>1294500</td>\n",
       "      <td>B</td>\n",
       "    </tr>\n",
       "    <tr>\n",
       "      <th>527</th>\n",
       "      <td>1570513684</td>\n",
       "      <td>2837914161</td>\n",
       "      <td>2019-08-19</td>\n",
       "      <td>33405</td>\n",
       "      <td>B</td>\n",
       "    </tr>\n",
       "    <tr>\n",
       "      <th>461</th>\n",
       "      <td>2683113224</td>\n",
       "      <td>154576532</td>\n",
       "      <td>2019-08-19</td>\n",
       "      <td>26550</td>\n",
       "      <td>B</td>\n",
       "    </tr>\n",
       "    <tr>\n",
       "      <th>368</th>\n",
       "      <td>3268879337</td>\n",
       "      <td>2536252163</td>\n",
       "      <td>2019-08-19</td>\n",
       "      <td>20026</td>\n",
       "      <td>B</td>\n",
       "    </tr>\n",
       "    <tr>\n",
       "      <th>463</th>\n",
       "      <td>4170537404</td>\n",
       "      <td>290022471</td>\n",
       "      <td>2019-08-19</td>\n",
       "      <td>16480</td>\n",
       "      <td>B</td>\n",
       "    </tr>\n",
       "    <tr>\n",
       "      <th>423</th>\n",
       "      <td>4161654914</td>\n",
       "      <td>990904712</td>\n",
       "      <td>2019-08-19</td>\n",
       "      <td>11249</td>\n",
       "      <td>B</td>\n",
       "    </tr>\n",
       "    <tr>\n",
       "      <th>523</th>\n",
       "      <td>1739748874</td>\n",
       "      <td>522292794</td>\n",
       "      <td>2019-08-19</td>\n",
       "      <td>4880</td>\n",
       "      <td>B</td>\n",
       "    </tr>\n",
       "    <tr>\n",
       "      <th>367</th>\n",
       "      <td>1033377712</td>\n",
       "      <td>3860669668</td>\n",
       "      <td>2019-08-19</td>\n",
       "      <td>3990</td>\n",
       "      <td>B</td>\n",
       "    </tr>\n",
       "    <tr>\n",
       "      <th>529</th>\n",
       "      <td>90109939</td>\n",
       "      <td>2075769885</td>\n",
       "      <td>2019-08-19</td>\n",
       "      <td>3525</td>\n",
       "      <td>B</td>\n",
       "    </tr>\n",
       "    <tr>\n",
       "      <th>426</th>\n",
       "      <td>19467429</td>\n",
       "      <td>2397843657</td>\n",
       "      <td>2019-08-19</td>\n",
       "      <td>2630</td>\n",
       "      <td>B</td>\n",
       "    </tr>\n",
       "    <tr>\n",
       "      <th>363</th>\n",
       "      <td>2096847394</td>\n",
       "      <td>4251115836</td>\n",
       "      <td>2019-08-19</td>\n",
       "      <td>2500</td>\n",
       "      <td>B</td>\n",
       "    </tr>\n",
       "    <tr>\n",
       "      <th>315</th>\n",
       "      <td>1939633950</td>\n",
       "      <td>157579733</td>\n",
       "      <td>2019-08-19</td>\n",
       "      <td>2330</td>\n",
       "      <td>B</td>\n",
       "    </tr>\n",
       "    <tr>\n",
       "      <th>427</th>\n",
       "      <td>3019510679</td>\n",
       "      <td>2397843657</td>\n",
       "      <td>2019-08-19</td>\n",
       "      <td>1460</td>\n",
       "      <td>B</td>\n",
       "    </tr>\n",
       "    <tr>\n",
       "      <th>320</th>\n",
       "      <td>1652782757</td>\n",
       "      <td>2763027084</td>\n",
       "      <td>2019-08-19</td>\n",
       "      <td>1460</td>\n",
       "      <td>B</td>\n",
       "    </tr>\n",
       "    <tr>\n",
       "      <th>319</th>\n",
       "      <td>2414788465</td>\n",
       "      <td>2247745159</td>\n",
       "      <td>2019-08-19</td>\n",
       "      <td>1435</td>\n",
       "      <td>B</td>\n",
       "    </tr>\n",
       "    <tr>\n",
       "      <th>486</th>\n",
       "      <td>752294429</td>\n",
       "      <td>2758621772</td>\n",
       "      <td>2019-08-19</td>\n",
       "      <td>1130</td>\n",
       "      <td>B</td>\n",
       "    </tr>\n",
       "    <tr>\n",
       "      <th>429</th>\n",
       "      <td>2436528253</td>\n",
       "      <td>1060341621</td>\n",
       "      <td>2019-08-19</td>\n",
       "      <td>1100</td>\n",
       "      <td>B</td>\n",
       "    </tr>\n",
       "    <tr>\n",
       "      <th>526</th>\n",
       "      <td>1654949825</td>\n",
       "      <td>1335154194</td>\n",
       "      <td>2019-08-19</td>\n",
       "      <td>500</td>\n",
       "      <td>B</td>\n",
       "    </tr>\n",
       "    <tr>\n",
       "      <th>424</th>\n",
       "      <td>2609443403</td>\n",
       "      <td>2406916810</td>\n",
       "      <td>2019-08-19</td>\n",
       "      <td>470</td>\n",
       "      <td>B</td>\n",
       "    </tr>\n",
       "    <tr>\n",
       "      <th>322</th>\n",
       "      <td>3154167297</td>\n",
       "      <td>2091902649</td>\n",
       "      <td>2019-08-19</td>\n",
       "      <td>250</td>\n",
       "      <td>B</td>\n",
       "    </tr>\n",
       "    <tr>\n",
       "      <th>459</th>\n",
       "      <td>863448794</td>\n",
       "      <td>2738601405</td>\n",
       "      <td>2019-08-19</td>\n",
       "      <td>50</td>\n",
       "      <td>B</td>\n",
       "    </tr>\n",
       "  </tbody>\n",
       "</table>\n",
       "</div>"
      ],
      "text/plain": [
       "     transactionId   visitorId        date  revenue group\n",
       "425      590470918  1920142716  2019-08-19  1294500     B\n",
       "527     1570513684  2837914161  2019-08-19    33405     B\n",
       "461     2683113224   154576532  2019-08-19    26550     B\n",
       "368     3268879337  2536252163  2019-08-19    20026     B\n",
       "463     4170537404   290022471  2019-08-19    16480     B\n",
       "423     4161654914   990904712  2019-08-19    11249     B\n",
       "523     1739748874   522292794  2019-08-19     4880     B\n",
       "367     1033377712  3860669668  2019-08-19     3990     B\n",
       "529       90109939  2075769885  2019-08-19     3525     B\n",
       "426       19467429  2397843657  2019-08-19     2630     B\n",
       "363     2096847394  4251115836  2019-08-19     2500     B\n",
       "315     1939633950   157579733  2019-08-19     2330     B\n",
       "427     3019510679  2397843657  2019-08-19     1460     B\n",
       "320     1652782757  2763027084  2019-08-19     1460     B\n",
       "319     2414788465  2247745159  2019-08-19     1435     B\n",
       "486      752294429  2758621772  2019-08-19     1130     B\n",
       "429     2436528253  1060341621  2019-08-19     1100     B\n",
       "526     1654949825  1335154194  2019-08-19      500     B\n",
       "424     2609443403  2406916810  2019-08-19      470     B\n",
       "322     3154167297  2091902649  2019-08-19      250     B\n",
       "459      863448794  2738601405  2019-08-19       50     B"
      ]
     },
     "metadata": {},
     "output_type": "display_data"
    },
    {
     "data": {
      "text/plain": [
       "6771.0"
      ]
     },
     "metadata": {},
     "output_type": "display_data"
    }
   ],
   "source": [
    "orders_19_В = orders.query ('date==\"2019-08-19\" and group==\"B\"')\n",
    "display (orders_19_В.sort_values (by = 'revenue', ascending=False))\n",
    "display (orders_19_В[orders_19_В['revenue'] != 1294500]['revenue'].mean())"
   ]
  },
  {
   "cell_type": "markdown",
   "metadata": {},
   "source": [
    "Вы видим очень большой заказ на сумму 1 294 500, хотя за весь период среднее значение значительно меньше,  за 19 августа меньше - 6771. Пока данные не очищаем, так как у нас впереди будет обособленный анализ \"очищенных\" данных, но мы уже понимаем, что в группе В есть аномально крупные заказы."
   ]
  },
  {
   "cell_type": "markdown",
   "metadata": {},
   "source": [
    "2. Постройте график кумулятивного среднего чека по группам. Сделайте выводы и предположения."
   ]
  },
  {
   "cell_type": "code",
   "execution_count": 17,
   "metadata": {},
   "outputs": [
    {
     "data": {
      "text/plain": [
       "<matplotlib.legend.Legend at 0x7f8d77dcec10>"
      ]
     },
     "execution_count": 17,
     "metadata": {},
     "output_type": "execute_result"
    },
    {
     "data": {
      "image/png": "[encoded data removed]",
      "text/plain": [
       "<Figure size 720x720 with 1 Axes>"
      ]
     },
     "metadata": {
      "needs_background": "light"
     },
     "output_type": "display_data"
    }
   ],
   "source": [
    "plt.figure(figsize=(10,10))\n",
    "plt.plot(cumulativeRevenueA['date'], cumulativeRevenueA['revenue']/cumulativeRevenueA['orders'], label='A')\n",
    "plt.plot(cumulativeRevenueB['date'], cumulativeRevenueB['revenue']/cumulativeRevenueB['orders'], label='B')\n",
    "plt.xticks(rotation=45)\n",
    "plt.grid(True)\n",
    "plt.title(\"Кумулятивный средний чек по группам\")\n",
    "plt.xlabel(\"Дата\")\n",
    "plt.ylabel(\"Средний чек\")\n",
    "plt.legend() \n"
   ]
  },
  {
   "cell_type": "markdown",
   "metadata": {},
   "source": [
    "На графике мы опять наблюдаем за скачком среднего чека в отмеченный ранее день - 19 августа, но даже без \"аномалии\", группа В показывает больший рост начиная с 15 августа. Стоит отметить, что ранее на общей сумме выручки мы отмечали, что после 13-го августа группа В показывала стабильно более высокий рост выручки, но на среднем чеке мы видим, что 13-го августа контрольная группа вырывалась вперед, данные всплески мы оценим в следующих этапах анализа.\n",
    "\n",
    "В части скачка группы В, однозначного выхода на плато мы не наблюдаем, наоборот есть некоторое падение среднего чека после скачка, что логично, если принять за допущение, что скачок произошел по причине аномально крупного заказа, и \"истинный\" средний чек может себя показать, или после чистки данных, или после большего периода наблюдений."
   ]
  },
  {
   "cell_type": "markdown",
   "metadata": {},
   "source": [
    "3. Постройте график относительного изменения кумулятивного среднего чека группы B к группе A. Сделайте выводы и предположения."
   ]
  },
  {
   "cell_type": "code",
   "execution_count": 18,
   "metadata": {},
   "outputs": [
    {
     "data": {
      "text/plain": [
       "<matplotlib.lines.Line2D at 0x7f8d6fc69640>"
      ]
     },
     "execution_count": 18,
     "metadata": {},
     "output_type": "execute_result"
    },
    {
     "data": {
      "image/png": "[encoded data removed]",
      "text/plain": [
       "<Figure size 720x720 with 1 Axes>"
      ]
     },
     "metadata": {
      "needs_background": "light"
     },
     "output_type": "display_data"
    }
   ],
   "source": [
    "# собираем данные в одном датафрейме\n",
    "mergedCumulativeRevenue = cumulativeRevenueA.merge(cumulativeRevenueB, left_on='date', right_on='date', how='left', suffixes=['A', 'B'])\n",
    "\n",
    "plt.figure(figsize=(10,10))\n",
    "plt.plot(mergedCumulativeRevenue['date'], (mergedCumulativeRevenue['revenueB']/mergedCumulativeRevenue['ordersB'])/(mergedCumulativeRevenue['revenueA']/mergedCumulativeRevenue['ordersA'])-1)\n",
    "plt.xticks(rotation=45)\n",
    "plt.axhline(y=0, color='black', linestyle='--') "
   ]
  },
  {
   "cell_type": "markdown",
   "metadata": {},
   "source": [
    "Группа В, после 15 августа показывает стабильно большее значение, всплеск 19 августа виден и тут конечно, но пока общая тенденция просматривается- показатели группы В значительно лучше."
   ]
  },
  {
   "cell_type": "markdown",
   "metadata": {},
   "source": [
    "4. Постройте график кумулятивного среднего количества заказов на посетителя по группам. Сделайте выводы и предположения."
   ]
  },
  {
   "cell_type": "code",
   "execution_count": 19,
   "metadata": {},
   "outputs": [
    {
     "data": {
      "image/png": "[encoded data removed]",
      "text/plain": [
       "<Figure size 720x720 with 1 Axes>"
      ]
     },
     "metadata": {
      "needs_background": "light"
     },
     "output_type": "display_data"
    }
   ],
   "source": [
    "cumulativeData['conversion'] = (cumulativeData['orders']/cumulativeData['visitors']).round(4)\n",
    "\n",
    "# отделяем данные по группе A\n",
    "cumulativeDataA = cumulativeData[cumulativeData['group']=='A']\n",
    "\n",
    "# отделяем данные по группе B\n",
    "cumulativeDataB = cumulativeData[cumulativeData['group']=='B']\n",
    "\n",
    "plt.figure(figsize=(10,10))\n",
    "plt.plot(cumulativeDataA['date'], cumulativeDataA['conversion'], label='A')\n",
    "plt.plot(cumulativeDataB['date'], cumulativeDataB['conversion'], label='B')\n",
    "plt.xticks(rotation=45)\n",
    "plt.grid(True)\n",
    "plt.title(\"Кумулятивное среднее количество заказов по группам\")\n",
    "plt.xlabel(\"Дата\")\n",
    "plt.ylabel(\"Количество заказов\")\n",
    "plt.legend()\n",
    "plt.show()"
   ]
  },
  {
   "cell_type": "markdown",
   "metadata": {},
   "source": [
    "Если в общем и целом, обе группы показывают сопостовимые показатели среднего количества заказов на посетителя, в диапазоне от 3,0 до 3,7, да, значение и в группе А и в группе В, меньше 4, но если опираться на конкретные цифры, показатель среднего количества заказов в группе В лучше, в период с 1 по 5 августа обе группы показывают всплеск, причем группа А показывает всплеск почти до 3.7, но уже после 6 августа группы меняются местами, и группа В имеет стабильный рост количества заказов на посетителя с выходом на потенциальное плато в районе 3,3-3,4, а группа А наоборот проседает и закрепляется около 3,0"
   ]
  },
  {
   "cell_type": "markdown",
   "metadata": {},
   "source": [
    "5. Постройте график относительного изменения кумулятивного среднего количества заказов на посетителя группы B к группе A. Сделайте выводы и предположения."
   ]
  },
  {
   "cell_type": "code",
   "execution_count": 20,
   "metadata": {},
   "outputs": [
    {
     "data": {
      "text/plain": [
       "<matplotlib.lines.Line2D at 0x7f8d6f8a37f0>"
      ]
     },
     "execution_count": 20,
     "metadata": {},
     "output_type": "execute_result"
    },
    {
     "data": {
      "image/png": "[encoded data removed]",
      "text/plain": [
       "<Figure size 720x720 with 1 Axes>"
      ]
     },
     "metadata": {
      "needs_background": "light"
     },
     "output_type": "display_data"
    }
   ],
   "source": [
    "mergedCumulativeConversions = cumulativeDataA[['date','conversion']].merge(cumulativeDataB[['date','conversion']], left_on='date', right_on='date', how='left', suffixes=['A', 'B'])\n",
    "\n",
    "plt.figure(figsize=(10,10))\n",
    "plt.plot(mergedCumulativeConversions['date'], mergedCumulativeConversions['conversionB']/mergedCumulativeConversions['conversionA']-1, label=\"Относительный прирост конверсии группы B относительно группы A\")\n",
    "plt.xticks(rotation=45)\n",
    "plt.legend()\n",
    "plt.axhline(y=0, color='red', linestyle='--')\n",
    "plt.axhline(y=0.1, color='black', linestyle='--')"
   ]
  },
  {
   "cell_type": "markdown",
   "metadata": {},
   "source": [
    "Как и отмечалось на прошлом этапе, начиная с 6 августа кум.сред.количество заказов группы В значительно лучше контрольной, после указанной даты, отношение переходит границу 0, и далее к концу наблюдаемого периода закрепляется в диапазоне 0,10-0,15, без тенденции на снижение. "
   ]
  },
  {
   "cell_type": "markdown",
   "metadata": {},
   "source": [
    "6. Постройте точечный график количества заказов по пользователям. Сделайте выводы и предположения."
   ]
  },
  {
   "cell_type": "code",
   "execution_count": 21,
   "metadata": {},
   "outputs": [
    {
     "name": "stdout",
     "output_type": "stream",
     "text": [
      "          userId  orders\n",
      "1023  4256040402      11\n",
      "591   2458001652      11\n",
      "569   2378935119       9\n",
      "487   2038680547       8\n",
      "44     199603092       5\n",
      "744   3062433592       5\n",
      "55     237748145       5\n",
      "917   3803269165       5\n",
      "299   1230306981       5\n",
      "897   3717692402       5\n"
     ]
    },
    {
     "data": {
      "text/plain": [
       "Text(0, 0.5, 'Количество заказов')"
      ]
     },
     "execution_count": 21,
     "metadata": {},
     "output_type": "execute_result"
    },
    {
     "data": {
      "image/png": "[encoded data removed]",
      "text/plain": [
       "<Figure size 720x432 with 1 Axes>"
      ]
     },
     "metadata": {
      "needs_background": "light"
     },
     "output_type": "display_data"
    }
   ],
   "source": [
    "ordersByUsers = (\n",
    "    orders.groupby('visitorId', as_index=False)\n",
    "    .agg({'transactionId': 'nunique'})\n",
    ")\n",
    "\n",
    "ordersByUsers.columns = ['userId', 'orders']\n",
    "\n",
    "print(ordersByUsers.sort_values(by='orders', ascending=False).head(10)) \n",
    "\n",
    "x_values = pd.Series(range(0, len(ordersByUsers)))\n",
    "plt.figure(figsize=(10, 6))\n",
    "plt.scatter(x_values, ordersByUsers['orders'], marker='o', s=25, color='blue')\n",
    "plt.grid(True)\n",
    "plt.title(\"Точечный график количества заказов\", fontsize=16)\n",
    "\n",
    "plt.ylabel(\"Количество заказов\", fontsize=14)"
   ]
  },
  {
   "cell_type": "markdown",
   "metadata": {},
   "source": [
    "Большинство пользователей сделали заказ 1-2 раза, но есть пользователи с 5 заказами. 8, 9 и 10 заказов, скорее всего выбросы."
   ]
  },
  {
   "cell_type": "markdown",
   "metadata": {},
   "source": [
    "7. Посчитайте 95-й и 99-й перцентили количества заказов на пользователя. Выберите границу для определения аномальных пользователей."
   ]
  },
  {
   "cell_type": "code",
   "execution_count": 22,
   "metadata": {},
   "outputs": [
    {
     "data": {
      "text/plain": [
       "'Процентили количества заказов на одного кользователя 95,96,97,98,99:'"
      ]
     },
     "metadata": {},
     "output_type": "display_data"
    },
    {
     "data": {
      "text/plain": [
       "array([2., 2., 2., 3., 4.])"
      ]
     },
     "metadata": {},
     "output_type": "display_data"
    },
    {
     "data": {
      "text/plain": [
       "'Процентили количества заказов на одного кользователя - 98%:'"
      ]
     },
     "metadata": {},
     "output_type": "display_data"
    },
    {
     "data": {
      "text/plain": [
       "array([3.])"
      ]
     },
     "metadata": {},
     "output_type": "display_data"
    }
   ],
   "source": [
    "percentiles = np.percentile(ordersByUsers['orders'], [95,96,97,98,99])\n",
    "display('Процентили количества заказов на одного кользователя 95,96,97,98,99:', percentiles)\n",
    "\n",
    "percentiles_98 = np.percentile(ordersByUsers['orders'], [98])\n",
    "display('Процентили количества заказов на одного кользователя - 98%:', percentiles_98)"
   ]
  },
  {
   "cell_type": "markdown",
   "metadata": {},
   "source": [
    "95% пользователей вошли в 2 заказа, 99% включают пользователей с заказами до 4-х, но мы видим, что для 98% граница в районе 3-х заказов на пользователя. Оставляет для расчетов 98%"
   ]
  },
  {
   "cell_type": "markdown",
   "metadata": {},
   "source": [
    "8. Постройте точечный график стоимостей заказов. Сделайте выводы и предположения."
   ]
  },
  {
   "cell_type": "code",
   "execution_count": 23,
   "metadata": {},
   "outputs": [
    {
     "data": {
      "image/png": "[encoded data removed]",
      "text/plain": [
       "<Figure size 720x432 with 1 Axes>"
      ]
     },
     "metadata": {
      "needs_background": "light"
     },
     "output_type": "display_data"
    }
   ],
   "source": [
    "x_values = pd.Series(range(0, len(orders)))\n",
    "plt.figure(figsize=(10, 6))\n",
    "plt.scatter(x_values, orders['revenue'], marker='o', s=25, color='blue')\n",
    "plt.grid(True)\n",
    "plt.title(\"Точечный график стоимости заказов\", fontsize=16)\n",
    "\n",
    "plt.ylabel(\"Стоиомсть заказов\", fontsize=14)\n",
    "plt.show()"
   ]
  },
  {
   "cell_type": "code",
   "execution_count": 24,
   "metadata": {},
   "outputs": [
    {
     "data": {
      "text/plain": [
       "Text(0, 0.5, 'Стоиомсть заказов')"
      ]
     },
     "execution_count": 24,
     "metadata": {},
     "output_type": "execute_result"
    },
    {
     "data": {
      "image/png": "[encoded data removed]",
      "text/plain": [
       "<Figure size 720x432 with 1 Axes>"
      ]
     },
     "metadata": {
      "needs_background": "light"
     },
     "output_type": "display_data"
    }
   ],
   "source": [
    "orders_drop_anomaly = orders.query ('revenue <= 150000')\n",
    "x_values = pd.Series(range(0, len(orders_drop_anomaly)))\n",
    "plt.figure(figsize=(10, 6))\n",
    "plt.scatter(x_values, orders_drop_anomaly['revenue'], marker='o', s=25, color='blue')\n",
    "plt.grid(True)\n",
    "plt.title(\"Точечный график стоимости заказов\", fontsize=16)\n",
    "\n",
    "plt.ylabel(\"Стоиомсть заказов\", fontsize=14)"
   ]
  },
  {
   "cell_type": "markdown",
   "metadata": {},
   "source": [
    "Дорогих заказов не очень много, основная масса стоимостей сконцентрирована до 20000 единиц измерения. Теперь график стал более наглядный."
   ]
  },
  {
   "cell_type": "markdown",
   "metadata": {},
   "source": [
    "9. Посчитайте 95-й и 99-й перцентили стоимости заказов. Выберите границу для определения аномальных заказов."
   ]
  },
  {
   "cell_type": "code",
   "execution_count": 25,
   "metadata": {},
   "outputs": [
    {
     "data": {
      "text/plain": [
       "'Процентили количества заказов на одного кользователя 95,96,97,98,99:'"
      ]
     },
     "metadata": {},
     "output_type": "display_data"
    },
    {
     "data": {
      "text/plain": [
       "array([28000. , 31382. , 35485. , 44133.2, 58233.2])"
      ]
     },
     "metadata": {},
     "output_type": "display_data"
    },
    {
     "data": {
      "text/plain": [
       "'Процентили количества заказов на одного кользователя 95,96,97,98,99:'"
      ]
     },
     "metadata": {},
     "output_type": "display_data"
    },
    {
     "data": {
      "text/plain": [
       "array([58233.2])"
      ]
     },
     "metadata": {},
     "output_type": "display_data"
    }
   ],
   "source": [
    "percentiles = np.percentile(orders['revenue'], [95,96,97,98,99])\n",
    "display('Процентили количества заказов на одного кользователя 95,96,97,98,99:', percentiles)\n",
    "percentiles_99 = np.percentile(orders['revenue'], [99])\n",
    "display('Процентили количества заказов на одного кользователя 95,96,97,98,99:', percentiles_99)"
   ]
  },
  {
   "cell_type": "markdown",
   "metadata": {},
   "source": [
    "В диапазон до 95% вошли заказы с стоимостью до 28000, 98 процентов заказов в диапазоне до 58322. Учитывая результаты анализа графика и определения процентелей, останавливаемся на 99%"
   ]
  },
  {
   "cell_type": "markdown",
   "metadata": {},
   "source": [
    "10. Посчитайте статистическую значимость различий в среднем количестве заказов на посетителя между группами по «сырым» данным. Сделайте выводы и предположения."
   ]
  },
  {
   "cell_type": "markdown",
   "metadata": {},
   "source": [
    "Мы уже отмечали на прошлых этапах, что наблюдаем выбросы, но для определений их значимости необходимо провести дополнительное исследование.\n",
    "\n",
    "Для начала, сформулируем гипотезы. **Нулевая: различий в среднем количестве заказов между группами нет. Альтернативная: различия в среднем между группами есть.**"
   ]
  },
  {
   "cell_type": "code",
   "execution_count": 26,
   "metadata": {},
   "outputs": [],
   "source": [
    "visitorsADaily = visitors[visitors['group'] == 'A'][['date', 'visitors']]\n",
    "visitorsADaily.columns = ['date', 'visitorsPerDateA']\n",
    "\n",
    "visitorsBDaily = visitors[visitors['group'] == 'B'][['date', 'visitors']]\n",
    "visitorsBDaily.columns = ['date', 'visitorsPerDateB']\n",
    "\n",
    "ordersByUsersA = (\n",
    "    orders[orders['group'] == 'A']\n",
    "    .groupby('visitorId', as_index=False)\n",
    "    .agg({'transactionId': pd.Series.nunique})\n",
    ")\n",
    "ordersByUsersA.columns = ['userId', 'orders'] \n",
    "\n",
    "ordersByUsersB = (\n",
    "    orders[orders['group'] == 'B']\n",
    "    .groupby('visitorId', as_index=False)\n",
    "    .agg({'transactionId': pd.Series.nunique})\n",
    ")\n",
    "ordersByUsersB.columns = ['userId', 'orders'] \n",
    "\n",
    "sampleA = pd.concat([ordersByUsersA['orders'],pd.Series(0, index=np.arange(visitorsADaily['visitorsPerDateA'].sum() - len(ordersByUsersA['orders'])), name='orders')],axis=0)\n",
    "\n",
    "sampleB = pd.concat([ordersByUsersB['orders'],pd.Series(0, index=np.arange(visitorsBDaily['visitorsPerDateB'].sum() - len(ordersByUsersB['orders'])), name='orders')],axis=0) "
   ]
  },
  {
   "cell_type": "code",
   "execution_count": 27,
   "metadata": {},
   "outputs": [
    {
     "name": "stdout",
     "output_type": "stream",
     "text": [
      "alpha = 0.05\n"
     ]
    },
    {
     "data": {
      "text/plain": [
       "'p-value 0.017'"
      ]
     },
     "metadata": {},
     "output_type": "display_data"
    },
    {
     "data": {
      "text/plain": [
       "'Различие в средних 0.138'"
      ]
     },
     "metadata": {},
     "output_type": "display_data"
    }
   ],
   "source": [
    "print  ('alpha =',0.05)\n",
    "display (\"p-value {0:.3f}\".format(st.mannwhitneyu(sampleA, sampleB)[1]))\n",
    "\n",
    "display (\"Различие в средних {0:.3f}\".format(sampleB.mean() / sampleA.mean() - 1))"
   ]
  },
  {
   "cell_type": "markdown",
   "metadata": {},
   "source": [
    "**Вывод**\n",
    "\n",
    "По \"сырым\" данным наблюдается статистическая значимая разница, так как p-value меньше 0,05. Относительный выигрыш группы В к группе А около 13,8%.\n",
    "\n",
    "Нулевую гипотезу отвергаем, статистическая значимость различий по \"сырым\" данным есть.\n"
   ]
  },
  {
   "cell_type": "markdown",
   "metadata": {},
   "source": [
    "11. Посчитайте статистическую значимость различий в среднем чеке заказа между группами по «сырым» данным. Сделайте выводы и предположения."
   ]
  },
  {
   "cell_type": "markdown",
   "metadata": {},
   "source": [
    "**Нулевая: различий в среднем чеке заказа между группами нет. Альтернативная: различия в среднем чеке между группами есть.**"
   ]
  },
  {
   "cell_type": "code",
   "execution_count": 28,
   "metadata": {},
   "outputs": [
    {
     "name": "stdout",
     "output_type": "stream",
     "text": [
      "0.729\n",
      "0.259\n"
     ]
    }
   ],
   "source": [
    "print('{0:.3f}'.format(stats.mannwhitneyu(orders[orders['group']=='A']['revenue'], orders[orders['group']=='B']['revenue'])[1]))\n",
    "print('{0:.3f}'.format(orders[orders['group']=='B']['revenue'].mean()/orders[orders['group']=='A']['revenue'].mean()-1)) "
   ]
  },
  {
   "cell_type": "markdown",
   "metadata": {},
   "source": [
    "P-value значительно больше 0.05. Значит, причин отвергать гипотезу и считать, что в среднем чеке есть различия, нет. Впрочем, средний чек группы B значительно выше среднего чека группы A."
   ]
  },
  {
   "cell_type": "markdown",
   "metadata": {},
   "source": [
    "12. Посчитайте статистическую значимость различий в среднем количестве заказов на посетителя между группами по «очищенным» данным. Сделайте выводы и предположения."
   ]
  },
  {
   "cell_type": "code",
   "execution_count": 29,
   "metadata": {},
   "outputs": [
    {
     "data": {
      "text/plain": [
       "1099    148427295\n",
       "18      199603092\n",
       "23      237748145\n",
       "37      249864742\n",
       "68      457167155\n",
       "dtype: int64"
      ]
     },
     "metadata": {},
     "output_type": "display_data"
    },
    {
     "data": {
      "text/plain": [
       "31"
      ]
     },
     "metadata": {},
     "output_type": "display_data"
    },
    {
     "name": "stdout",
     "output_type": "stream",
     "text": [
      "31\n"
     ]
    }
   ],
   "source": [
    "usersWithManyOrders = pd.concat(\n",
    "    [\n",
    "        ordersByUsersA[ordersByUsersA['orders'] >= percentiles_98[0]]['userId'],\n",
    "        ordersByUsersB[ordersByUsersB['orders'] >= percentiles_98[0]]['userId'],\n",
    "    ],\n",
    "    axis=0,\n",
    ")\n",
    "usersWithExpensiveOrders = orders[orders['revenue'] > percentiles_99[0]]['visitorId']\n",
    "abnormalUsers = (\n",
    "    pd.concat([usersWithManyOrders, usersWithExpensiveOrders], axis=0)\n",
    "    .drop_duplicates()\n",
    "    .sort_values()\n",
    ")\n",
    "display (abnormalUsers.head(5))\n",
    "display (abnormalUsers.shape[0]) \n",
    "print(abnormalUsers.shape[0]) "
   ]
  },
  {
   "cell_type": "code",
   "execution_count": 30,
   "metadata": {},
   "outputs": [
    {
     "name": "stdout",
     "output_type": "stream",
     "text": [
      "alpha = 0.05\n"
     ]
    },
    {
     "data": {
      "text/plain": [
       "'0.010'"
      ]
     },
     "metadata": {},
     "output_type": "display_data"
    },
    {
     "data": {
      "text/plain": [
       "'0.174'"
      ]
     },
     "metadata": {},
     "output_type": "display_data"
    }
   ],
   "source": [
    "sampleAFiltered = pd.concat(\n",
    "    [\n",
    "        ordersByUsersA[\n",
    "            np.logical_not(ordersByUsersA['userId'].isin(abnormalUsers))\n",
    "        ]['orders'],\n",
    "        pd.Series(\n",
    "            0,\n",
    "            index=np.arange(\n",
    "                visitorsADaily['visitorsPerDateA'].sum() - len(ordersByUsersA['orders'])\n",
    "            ),\n",
    "            name='orders',\n",
    "        ),\n",
    "    ],\n",
    "    axis=0,\n",
    ")\n",
    "\n",
    "sampleBFiltered = pd.concat(\n",
    "    [\n",
    "        ordersByUsersB[\n",
    "            np.logical_not(ordersByUsersB['userId'].isin(abnormalUsers))\n",
    "        ]['orders'],\n",
    "        pd.Series(\n",
    "            0,\n",
    "            index=np.arange(\n",
    "                visitorsBDaily['visitorsPerDateB'].sum() - len(ordersByUsersB['orders'])\n",
    "            ),\n",
    "            name='orders',\n",
    "        ),\n",
    "    ],\n",
    "    axis=0,\n",
    ") \n",
    "print  ('alpha =',0.05)\n",
    "display ('{0:.3f}'.format(st.mannwhitneyu(sampleAFiltered, sampleBFiltered)[1]))\n",
    "display ('{0:.3f}'.format(sampleBFiltered.mean()/sampleAFiltered.mean()-1)) "
   ]
  },
  {
   "cell_type": "markdown",
   "metadata": {},
   "source": [
    "Результаты по среднему количеству заказов изменились. Нулевую гипотезу отвергаем, выйгрыш группы В после очистки данных, по сравнению с группой А около 17,4%"
   ]
  },
  {
   "cell_type": "markdown",
   "metadata": {},
   "source": [
    "13. Посчитайте статистическую значимость различий в среднем чеке заказа между группами по «очищенным» данным. Сделайте выводы и предположения."
   ]
  },
  {
   "cell_type": "code",
   "execution_count": 31,
   "metadata": {},
   "outputs": [
    {
     "name": "stdout",
     "output_type": "stream",
     "text": [
      "alpha = 0.05\n"
     ]
    },
    {
     "data": {
      "text/plain": [
       "'0.798'"
      ]
     },
     "metadata": {},
     "output_type": "display_data"
    },
    {
     "data": {
      "text/plain": [
       "'-0.020'"
      ]
     },
     "metadata": {},
     "output_type": "display_data"
    }
   ],
   "source": [
    "print  ('alpha =',0.05)\n",
    "display (\n",
    "    '{0:.3f}'.format(\n",
    "        st.mannwhitneyu(\n",
    "            orders[\n",
    "                np.logical_and(\n",
    "                    orders['group'] == 'A',\n",
    "                    np.logical_not(orders['visitorId'].isin(abnormalUsers)),\n",
    "                )\n",
    "            ]['revenue'],\n",
    "            orders[\n",
    "                np.logical_and(\n",
    "                    orders['group'] == 'B',\n",
    "                    np.logical_not(orders['visitorId'].isin(abnormalUsers)),\n",
    "                )\n",
    "            ]['revenue'],\n",
    "        )[1]\n",
    "    )\n",
    ")\n",
    "\n",
    "display (\n",
    "    \"{0:.3f}\".format(\n",
    "        orders[\n",
    "            np.logical_and(\n",
    "                orders['group'] == 'B',\n",
    "                np.logical_not(orders['visitorId'].isin(abnormalUsers)),\n",
    "            )\n",
    "        ]['revenue'].mean()\n",
    "        / orders[\n",
    "            np.logical_and(\n",
    "                orders['group'] == 'A',\n",
    "                np.logical_not(orders['visitorId'].isin(abnormalUsers)),\n",
    "            )\n",
    "        ]['revenue'].mean()\n",
    "        - 1\n",
    "    )\n",
    ") "
   ]
  },
  {
   "cell_type": "markdown",
   "metadata": {},
   "source": [
    "Результат: Нулевую гипотезу не отвергаем, значение p-value больше 0,05, проигрыш группы В, после очистки данных, в среднем чеке составляет около 2%"
   ]
  },
  {
   "cell_type": "markdown",
   "metadata": {},
   "source": [
    "14. Примите решение по результатам теста и объясните его. Варианты решений:\n",
    "    1. Остановить тест, зафиксировать победу одной из групп.\n",
    "    2. Остановить тест, зафиксировать отсутствие различий между группами.\n",
    "    3. Продолжить тест."
   ]
  },
  {
   "cell_type": "markdown",
   "metadata": {},
   "source": [
    "По итогам изучения результатов теста, получены следующие данные:\n",
    "\n",
    "1.\tНа «сырых» данных:\n",
    "\n",
    "    a.\tОтказ от основной гипотезы в пользу альтернативной гипотезы – имеются статистически значимые различия в среднем количестве заказов между группами, выигрыш группы В составляет 13,8% \n",
    "    b.\tОсновную гипотезу не отвергаем – статистически значимых различий в среднем чеке нет, хоть выигрыш группы В по среднему чеку составляет 25,9%, но в ходе исследования пришли к пониманию, что данные значения получены благодаря случайному выбросу в виде аномально большого заказа.\n",
    "    \n",
    "2.\tНа «очищенных» данных:\n",
    "\n",
    "    a.\tОтказ от основной гипотезы в пользу альтернативной гипотезы – имеются статистически значимые различия в среднем количестве заказов между группами, выигрыш группы В составляет 17,4% \n",
    "    \n",
    "    b.\tОсновную гипотезу не отвергаем – статистически значимых различий в среднем чеке нет.\n",
    "\n",
    "    Как можем увидеть, после очистки от аномальных значений, оценка гипотез не изменилась, а вот результаты отношений претерпели существенные изменения.\n",
    "    \n",
    "    Так, после очистки уровень конверсии в группе В стал 17,4% против 13,8% до.\n",
    "    \n",
    "    Средний чек, после очистки сильно стал меньше в группе В, до очистки разница была 25,9%, а после очистки -2%. Данный момент предполагался на всем этапе работы с данными, так как были выявлены аномально большие заказы, в частности заказ на сумму более 1,294 млн. \n",
    "\n",
    "**Итог:** Проведение теста рекомендуется остановить, по результатам тестирования - группа В показала себя значительно более эффективной, с выигрышем в 17,4% в части среднего количества заказов на посетителя. Таким образом, на каждого посетителя из группы В приходится на 17.4% больше заказов чем на каждого посетителя из группы А, что в свою очередь может увеличить общую выручку относительно посетителей из группы В."
   ]
  }
 ],
 "metadata": {
  "ExecuteTimeLog": [
   {
    "duration": 525,
    "start_time": "2023-04-22T12:52:44.437Z"
   },
   {
    "duration": 72,
    "start_time": "2023-04-22T13:00:13.146Z"
   },
   {
    "duration": 13,
    "start_time": "2023-04-22T13:00:36.746Z"
   },
   {
    "duration": 11,
    "start_time": "2023-04-22T13:01:28.205Z"
   },
   {
    "duration": 12,
    "start_time": "2023-04-22T13:03:34.360Z"
   },
   {
    "duration": 12,
    "start_time": "2023-04-22T13:08:26.588Z"
   },
   {
    "duration": 12,
    "start_time": "2023-04-22T13:08:32.139Z"
   },
   {
    "duration": 16,
    "start_time": "2023-04-22T13:09:07.101Z"
   },
   {
    "duration": 8,
    "start_time": "2023-04-22T13:09:40.877Z"
   },
   {
    "duration": 11,
    "start_time": "2023-04-22T13:10:11.316Z"
   },
   {
    "duration": 12,
    "start_time": "2023-04-22T13:11:24.190Z"
   },
   {
    "duration": 11,
    "start_time": "2023-04-22T13:23:25.572Z"
   },
   {
    "duration": 11,
    "start_time": "2023-04-22T13:23:46.210Z"
   },
   {
    "duration": 13,
    "start_time": "2023-04-22T13:26:16.230Z"
   },
   {
    "duration": 19,
    "start_time": "2023-04-22T13:26:49.442Z"
   },
   {
    "duration": 13,
    "start_time": "2023-04-22T13:27:42.742Z"
   },
   {
    "duration": 159,
    "start_time": "2023-04-22T13:29:35.391Z"
   },
   {
    "duration": 24,
    "start_time": "2023-04-22T13:52:55.108Z"
   },
   {
    "duration": 245,
    "start_time": "2023-04-22T13:54:32.505Z"
   },
   {
    "duration": 875,
    "start_time": "2023-04-22T13:56:06.518Z"
   },
   {
    "duration": 479,
    "start_time": "2023-04-22T13:56:31.943Z"
   },
   {
    "duration": 32,
    "start_time": "2023-04-22T13:56:39.614Z"
   },
   {
    "duration": 512,
    "start_time": "2023-04-22T13:56:42.497Z"
   },
   {
    "duration": 474,
    "start_time": "2023-04-22T14:10:05.345Z"
   },
   {
    "duration": 458,
    "start_time": "2023-04-22T14:10:13.679Z"
   },
   {
    "duration": 583,
    "start_time": "2023-04-22T14:11:02.531Z"
   },
   {
    "duration": 498,
    "start_time": "2023-04-22T14:11:16.827Z"
   },
   {
    "duration": 511,
    "start_time": "2023-04-22T14:11:24.866Z"
   },
   {
    "duration": 50,
    "start_time": "2023-04-23T08:56:12.511Z"
   },
   {
    "duration": 11,
    "start_time": "2023-04-23T08:56:18.042Z"
   },
   {
    "duration": 890,
    "start_time": "2023-04-23T08:56:22.991Z"
   },
   {
    "duration": 15,
    "start_time": "2023-04-23T08:56:23.883Z"
   },
   {
    "duration": 150,
    "start_time": "2023-04-23T08:56:23.899Z"
   },
   {
    "duration": 104,
    "start_time": "2023-04-23T08:56:24.051Z"
   },
   {
    "duration": 0,
    "start_time": "2023-04-23T08:56:24.157Z"
   },
   {
    "duration": 20,
    "start_time": "2023-04-23T08:56:36.684Z"
   },
   {
    "duration": 30,
    "start_time": "2023-04-23T08:56:51.094Z"
   },
   {
    "duration": 641,
    "start_time": "2023-04-23T08:56:54.627Z"
   },
   {
    "duration": 14,
    "start_time": "2023-04-23T08:56:55.269Z"
   },
   {
    "duration": 68,
    "start_time": "2023-04-23T08:56:55.284Z"
   },
   {
    "duration": 575,
    "start_time": "2023-04-23T08:56:55.354Z"
   },
   {
    "duration": 285,
    "start_time": "2023-04-23T08:56:55.931Z"
   },
   {
    "duration": 372,
    "start_time": "2023-04-23T10:17:29.068Z"
   },
   {
    "duration": 381,
    "start_time": "2023-04-23T10:17:52.145Z"
   },
   {
    "duration": 219,
    "start_time": "2023-04-23T10:48:05.849Z"
   },
   {
    "duration": 267,
    "start_time": "2023-04-23T10:48:14.722Z"
   },
   {
    "duration": 305,
    "start_time": "2023-04-23T10:51:22.126Z"
   },
   {
    "duration": 279,
    "start_time": "2023-04-23T10:55:21.731Z"
   },
   {
    "duration": 381,
    "start_time": "2023-04-23T10:55:39.800Z"
   },
   {
    "duration": 432,
    "start_time": "2023-04-23T10:55:48.682Z"
   },
   {
    "duration": 447,
    "start_time": "2023-04-23T10:56:04.262Z"
   },
   {
    "duration": 376,
    "start_time": "2023-04-23T10:57:18.316Z"
   },
   {
    "duration": 71,
    "start_time": "2023-04-23T11:05:32.857Z"
   },
   {
    "duration": 8,
    "start_time": "2023-04-23T11:14:03.826Z"
   },
   {
    "duration": 8,
    "start_time": "2023-04-23T11:32:59.102Z"
   },
   {
    "duration": 12,
    "start_time": "2023-04-23T11:33:05.670Z"
   },
   {
    "duration": 13,
    "start_time": "2023-04-23T11:33:18.205Z"
   },
   {
    "duration": 9,
    "start_time": "2023-04-23T11:33:28.662Z"
   },
   {
    "duration": 113,
    "start_time": "2023-04-23T11:34:10.724Z"
   },
   {
    "duration": 135,
    "start_time": "2023-04-23T11:41:41.943Z"
   },
   {
    "duration": 4,
    "start_time": "2023-04-23T11:51:41.115Z"
   },
   {
    "duration": 4,
    "start_time": "2023-04-23T11:55:15.333Z"
   },
   {
    "duration": 227,
    "start_time": "2023-04-23T11:57:49.053Z"
   },
   {
    "duration": 4,
    "start_time": "2023-04-23T12:02:45.263Z"
   },
   {
    "duration": 1033,
    "start_time": "2023-04-24T08:33:57.839Z"
   },
   {
    "duration": 26,
    "start_time": "2023-04-24T08:33:58.875Z"
   },
   {
    "duration": 210,
    "start_time": "2023-04-24T08:33:58.902Z"
   },
   {
    "duration": 645,
    "start_time": "2023-04-24T08:33:59.114Z"
   },
   {
    "duration": 363,
    "start_time": "2023-04-24T08:33:59.761Z"
   },
   {
    "duration": 462,
    "start_time": "2023-04-24T08:34:00.133Z"
   },
   {
    "duration": 419,
    "start_time": "2023-04-24T08:34:00.597Z"
   },
   {
    "duration": 520,
    "start_time": "2023-04-24T08:34:01.018Z"
   },
   {
    "duration": 210,
    "start_time": "2023-04-24T08:34:01.541Z"
   },
   {
    "duration": 5,
    "start_time": "2023-04-24T08:34:01.755Z"
   },
   {
    "duration": 213,
    "start_time": "2023-04-24T08:34:01.762Z"
   },
   {
    "duration": 5,
    "start_time": "2023-04-24T08:34:01.978Z"
   },
   {
    "duration": 549,
    "start_time": "2023-04-24T12:20:06.084Z"
   },
   {
    "duration": 884,
    "start_time": "2023-04-24T12:39:48.673Z"
   },
   {
    "duration": 927,
    "start_time": "2023-04-24T12:57:00.302Z"
   },
   {
    "duration": 835,
    "start_time": "2023-04-24T12:57:14.304Z"
   },
   {
    "duration": 911,
    "start_time": "2023-04-24T12:57:38.712Z"
   },
   {
    "duration": 866,
    "start_time": "2023-04-24T12:57:56.923Z"
   },
   {
    "duration": 810,
    "start_time": "2023-04-24T12:59:16.406Z"
   },
   {
    "duration": 831,
    "start_time": "2023-04-24T12:59:30.458Z"
   },
   {
    "duration": 890,
    "start_time": "2023-04-24T12:59:39.400Z"
   },
   {
    "duration": 37,
    "start_time": "2023-04-24T13:00:07.998Z"
   },
   {
    "duration": 1080,
    "start_time": "2023-04-24T13:00:37.022Z"
   },
   {
    "duration": 925,
    "start_time": "2023-04-24T13:03:50.310Z"
   },
   {
    "duration": 551,
    "start_time": "2023-04-24T13:04:12.070Z"
   },
   {
    "duration": 302,
    "start_time": "2023-04-24T13:04:57.441Z"
   },
   {
    "duration": 386,
    "start_time": "2023-04-24T13:05:24.117Z"
   },
   {
    "duration": 480,
    "start_time": "2023-04-24T14:52:17.494Z"
   },
   {
    "duration": 371,
    "start_time": "2023-04-24T14:53:09.006Z"
   },
   {
    "duration": 585,
    "start_time": "2023-04-24T14:53:56.414Z"
   },
   {
    "duration": 87,
    "start_time": "2023-04-24T15:31:55.219Z"
   },
   {
    "duration": 132,
    "start_time": "2023-04-24T15:33:23.015Z"
   },
   {
    "duration": 178,
    "start_time": "2023-04-24T15:33:40.705Z"
   },
   {
    "duration": 13,
    "start_time": "2023-04-24T15:38:03.705Z"
   },
   {
    "duration": 122,
    "start_time": "2023-04-24T15:38:39.017Z"
   },
   {
    "duration": 1128,
    "start_time": "2023-04-24T15:39:18.401Z"
   },
   {
    "duration": 13,
    "start_time": "2023-04-24T15:39:19.531Z"
   },
   {
    "duration": 69,
    "start_time": "2023-04-24T15:39:19.546Z"
   },
   {
    "duration": 603,
    "start_time": "2023-04-24T15:39:19.617Z"
   },
   {
    "duration": 337,
    "start_time": "2023-04-24T15:39:20.223Z"
   },
   {
    "duration": 415,
    "start_time": "2023-04-24T15:39:20.561Z"
   },
   {
    "duration": 351,
    "start_time": "2023-04-24T15:39:20.978Z"
   },
   {
    "duration": 377,
    "start_time": "2023-04-24T15:39:21.331Z"
   },
   {
    "duration": 143,
    "start_time": "2023-04-24T15:39:21.709Z"
   },
   {
    "duration": 4,
    "start_time": "2023-04-24T15:39:21.854Z"
   },
   {
    "duration": 159,
    "start_time": "2023-04-24T15:39:21.860Z"
   },
   {
    "duration": 4,
    "start_time": "2023-04-24T15:39:22.021Z"
   },
   {
    "duration": 206,
    "start_time": "2023-04-24T15:39:22.033Z"
   },
   {
    "duration": 154,
    "start_time": "2023-04-24T15:39:22.242Z"
   },
   {
    "duration": 9,
    "start_time": "2023-04-24T15:47:14.977Z"
   },
   {
    "duration": 61,
    "start_time": "2023-04-25T11:07:12.242Z"
   },
   {
    "duration": 1534,
    "start_time": "2023-04-25T11:07:20.203Z"
   },
   {
    "duration": 15,
    "start_time": "2023-04-25T11:07:21.740Z"
   },
   {
    "duration": 233,
    "start_time": "2023-04-25T11:07:21.757Z"
   },
   {
    "duration": 718,
    "start_time": "2023-04-25T11:07:21.993Z"
   },
   {
    "duration": 384,
    "start_time": "2023-04-25T11:07:22.714Z"
   },
   {
    "duration": 541,
    "start_time": "2023-04-25T11:07:23.101Z"
   },
   {
    "duration": 500,
    "start_time": "2023-04-25T11:07:23.644Z"
   },
   {
    "duration": 466,
    "start_time": "2023-04-25T11:07:24.146Z"
   },
   {
    "duration": 171,
    "start_time": "2023-04-25T11:07:24.614Z"
   },
   {
    "duration": 6,
    "start_time": "2023-04-25T11:07:24.787Z"
   },
   {
    "duration": 198,
    "start_time": "2023-04-25T11:07:24.795Z"
   },
   {
    "duration": 6,
    "start_time": "2023-04-25T11:07:24.995Z"
   },
   {
    "duration": 269,
    "start_time": "2023-04-25T11:07:25.004Z"
   },
   {
    "duration": 246,
    "start_time": "2023-04-25T11:07:25.276Z"
   },
   {
    "duration": 12,
    "start_time": "2023-04-25T11:07:25.524Z"
   },
   {
    "duration": 1437,
    "start_time": "2023-04-25T11:07:25.537Z"
   },
   {
    "duration": 1637,
    "start_time": "2023-04-25T11:09:09.717Z"
   },
   {
    "duration": 1602,
    "start_time": "2023-04-25T11:09:35.212Z"
   },
   {
    "duration": 1328,
    "start_time": "2023-04-25T11:10:21.708Z"
   },
   {
    "duration": 9,
    "start_time": "2023-04-25T11:10:42.997Z"
   },
   {
    "duration": 30,
    "start_time": "2023-04-25T11:13:24.615Z"
   },
   {
    "duration": 84,
    "start_time": "2023-04-25T11:30:23.411Z"
   },
   {
    "duration": 1145,
    "start_time": "2023-04-25T11:37:12.641Z"
   },
   {
    "duration": 1185,
    "start_time": "2023-04-25T11:37:36.376Z"
   },
   {
    "duration": 13,
    "start_time": "2023-04-25T11:37:57.742Z"
   },
   {
    "duration": 1244,
    "start_time": "2023-04-25T12:25:34.913Z"
   },
   {
    "duration": 12,
    "start_time": "2023-04-25T12:25:36.159Z"
   },
   {
    "duration": 83,
    "start_time": "2023-04-25T12:25:36.172Z"
   },
   {
    "duration": 561,
    "start_time": "2023-04-25T12:25:36.257Z"
   },
   {
    "duration": 314,
    "start_time": "2023-04-25T12:25:36.820Z"
   },
   {
    "duration": 402,
    "start_time": "2023-04-25T12:25:37.135Z"
   },
   {
    "duration": 346,
    "start_time": "2023-04-25T12:25:37.538Z"
   },
   {
    "duration": 418,
    "start_time": "2023-04-25T12:25:37.886Z"
   },
   {
    "duration": 154,
    "start_time": "2023-04-25T12:25:38.306Z"
   },
   {
    "duration": 4,
    "start_time": "2023-04-25T12:25:38.462Z"
   },
   {
    "duration": 176,
    "start_time": "2023-04-25T12:25:38.468Z"
   },
   {
    "duration": 4,
    "start_time": "2023-04-25T12:25:38.645Z"
   },
   {
    "duration": 214,
    "start_time": "2023-04-25T12:25:38.651Z"
   },
   {
    "duration": 166,
    "start_time": "2023-04-25T12:25:38.866Z"
   },
   {
    "duration": 10,
    "start_time": "2023-04-25T12:25:39.033Z"
   },
   {
    "duration": 11,
    "start_time": "2023-04-25T12:25:39.045Z"
   },
   {
    "duration": 43,
    "start_time": "2023-04-25T12:25:39.057Z"
   },
   {
    "duration": 13,
    "start_time": "2023-04-25T12:25:39.102Z"
   },
   {
    "duration": 1318,
    "start_time": "2023-04-25T16:02:12.034Z"
   },
   {
    "duration": 13,
    "start_time": "2023-04-25T16:02:13.355Z"
   },
   {
    "duration": 170,
    "start_time": "2023-04-25T16:02:13.369Z"
   },
   {
    "duration": 560,
    "start_time": "2023-04-25T16:02:13.541Z"
   },
   {
    "duration": 306,
    "start_time": "2023-04-25T16:02:14.103Z"
   },
   {
    "duration": 386,
    "start_time": "2023-04-25T16:02:14.411Z"
   },
   {
    "duration": 346,
    "start_time": "2023-04-25T16:02:14.798Z"
   },
   {
    "duration": 378,
    "start_time": "2023-04-25T16:02:15.145Z"
   },
   {
    "duration": 143,
    "start_time": "2023-04-25T16:02:15.525Z"
   },
   {
    "duration": 4,
    "start_time": "2023-04-25T16:02:15.670Z"
   },
   {
    "duration": 151,
    "start_time": "2023-04-25T16:02:15.675Z"
   },
   {
    "duration": 5,
    "start_time": "2023-04-25T16:02:15.828Z"
   },
   {
    "duration": 209,
    "start_time": "2023-04-25T16:02:15.835Z"
   },
   {
    "duration": 200,
    "start_time": "2023-04-25T16:02:16.045Z"
   },
   {
    "duration": 10,
    "start_time": "2023-04-25T16:02:16.247Z"
   },
   {
    "duration": 27,
    "start_time": "2023-04-25T16:02:16.258Z"
   },
   {
    "duration": 46,
    "start_time": "2023-04-25T16:02:16.286Z"
   },
   {
    "duration": 11,
    "start_time": "2023-04-25T16:02:16.334Z"
   },
   {
    "duration": 44,
    "start_time": "2023-04-26T09:30:19.925Z"
   },
   {
    "duration": 1243,
    "start_time": "2023-04-26T09:30:22.637Z"
   },
   {
    "duration": 97,
    "start_time": "2023-04-26T09:30:24.417Z"
   },
   {
    "duration": 19,
    "start_time": "2023-04-26T09:30:42.854Z"
   },
   {
    "duration": 76,
    "start_time": "2023-04-26T09:43:59.711Z"
   },
   {
    "duration": 86,
    "start_time": "2023-04-26T09:44:26.161Z"
   },
   {
    "duration": 128,
    "start_time": "2023-04-26T09:44:42.014Z"
   },
   {
    "duration": 82,
    "start_time": "2023-04-26T09:44:56.351Z"
   },
   {
    "duration": 214,
    "start_time": "2023-04-26T10:06:20.855Z"
   },
   {
    "duration": 3,
    "start_time": "2023-04-26T10:06:48.422Z"
   },
   {
    "duration": 20,
    "start_time": "2023-04-26T10:07:09.946Z"
   },
   {
    "duration": 101,
    "start_time": "2023-04-26T10:07:15.353Z"
   },
   {
    "duration": 18,
    "start_time": "2023-04-26T10:08:01.736Z"
   },
   {
    "duration": 15,
    "start_time": "2023-04-26T10:09:43.948Z"
   },
   {
    "duration": 7,
    "start_time": "2023-04-26T10:10:04.315Z"
   },
   {
    "duration": 33,
    "start_time": "2023-04-26T10:10:14.482Z"
   },
   {
    "duration": 5,
    "start_time": "2023-04-26T10:10:31.819Z"
   },
   {
    "duration": 6,
    "start_time": "2023-04-26T10:11:43.978Z"
   },
   {
    "duration": 18,
    "start_time": "2023-04-26T10:26:34.217Z"
   },
   {
    "duration": 14,
    "start_time": "2023-04-26T10:26:45.428Z"
   },
   {
    "duration": 11,
    "start_time": "2023-04-26T10:30:45.741Z"
   },
   {
    "duration": 11,
    "start_time": "2023-04-26T10:31:18.040Z"
   },
   {
    "duration": 78,
    "start_time": "2023-04-26T10:32:45.312Z"
   },
   {
    "duration": 20,
    "start_time": "2023-04-26T10:32:51.558Z"
   },
   {
    "duration": 17,
    "start_time": "2023-04-26T10:32:57.330Z"
   },
   {
    "duration": 22,
    "start_time": "2023-04-26T10:33:43.585Z"
   },
   {
    "duration": 595,
    "start_time": "2023-04-26T10:38:14.370Z"
   },
   {
    "duration": 555,
    "start_time": "2023-04-26T10:38:25.967Z"
   },
   {
    "duration": 12,
    "start_time": "2023-04-26T10:40:38.830Z"
   },
   {
    "duration": 16,
    "start_time": "2023-04-26T10:41:05.794Z"
   },
   {
    "duration": 14,
    "start_time": "2023-04-26T10:42:23.226Z"
   },
   {
    "duration": 22,
    "start_time": "2023-04-26T10:42:47.392Z"
   },
   {
    "duration": 369,
    "start_time": "2023-04-26T10:49:45.175Z"
   },
   {
    "duration": 352,
    "start_time": "2023-04-26T10:50:37.557Z"
   },
   {
    "duration": 369,
    "start_time": "2023-04-26T10:50:51.269Z"
   },
   {
    "duration": 346,
    "start_time": "2023-04-26T10:51:02.112Z"
   },
   {
    "duration": 470,
    "start_time": "2023-04-26T10:52:32.790Z"
   },
   {
    "duration": 179,
    "start_time": "2023-04-26T10:54:23.375Z"
   },
   {
    "duration": 373,
    "start_time": "2023-04-26T10:57:38.039Z"
   },
   {
    "duration": 178,
    "start_time": "2023-04-26T10:59:34.222Z"
   },
   {
    "duration": 163,
    "start_time": "2023-04-26T10:59:46.482Z"
   },
   {
    "duration": 161,
    "start_time": "2023-04-26T11:04:02.458Z"
   },
   {
    "duration": 149,
    "start_time": "2023-04-26T11:04:46.566Z"
   },
   {
    "duration": 10,
    "start_time": "2023-04-26T11:05:17.264Z"
   },
   {
    "duration": 1201,
    "start_time": "2023-04-26T11:05:29.883Z"
   },
   {
    "duration": 94,
    "start_time": "2023-04-26T11:05:31.085Z"
   },
   {
    "duration": 39,
    "start_time": "2023-04-26T11:05:31.180Z"
   },
   {
    "duration": 16,
    "start_time": "2023-04-26T11:05:31.221Z"
   },
   {
    "duration": 21,
    "start_time": "2023-04-26T11:05:31.238Z"
   },
   {
    "duration": 67,
    "start_time": "2023-04-26T11:05:31.260Z"
   },
   {
    "duration": 44,
    "start_time": "2023-04-26T11:05:31.329Z"
   },
   {
    "duration": 73,
    "start_time": "2023-04-26T11:05:31.375Z"
   },
   {
    "duration": 75,
    "start_time": "2023-04-26T11:05:31.450Z"
   },
   {
    "duration": 66,
    "start_time": "2023-04-26T11:05:31.527Z"
   },
   {
    "duration": 63,
    "start_time": "2023-04-26T11:05:31.595Z"
   },
   {
    "duration": 31,
    "start_time": "2023-04-26T11:05:31.660Z"
   },
   {
    "duration": 38,
    "start_time": "2023-04-26T11:05:31.693Z"
   },
   {
    "duration": 651,
    "start_time": "2023-04-26T11:05:31.733Z"
   },
   {
    "duration": 22,
    "start_time": "2023-04-26T11:05:32.385Z"
   },
   {
    "duration": 27,
    "start_time": "2023-04-26T11:05:32.410Z"
   },
   {
    "duration": 343,
    "start_time": "2023-04-26T11:05:32.439Z"
   },
   {
    "duration": 383,
    "start_time": "2023-04-26T11:05:32.783Z"
   },
   {
    "duration": 380,
    "start_time": "2023-04-26T11:05:33.168Z"
   },
   {
    "duration": 427,
    "start_time": "2023-04-26T11:05:33.549Z"
   },
   {
    "duration": 196,
    "start_time": "2023-04-26T11:05:33.978Z"
   },
   {
    "duration": 5,
    "start_time": "2023-04-26T11:05:34.176Z"
   },
   {
    "duration": 201,
    "start_time": "2023-04-26T11:05:34.183Z"
   },
   {
    "duration": 5,
    "start_time": "2023-04-26T11:05:34.385Z"
   },
   {
    "duration": 172,
    "start_time": "2023-04-26T11:05:34.391Z"
   },
   {
    "duration": 105,
    "start_time": "2023-04-26T11:05:34.565Z"
   },
   {
    "duration": 0,
    "start_time": "2023-04-26T11:05:34.672Z"
   },
   {
    "duration": 0,
    "start_time": "2023-04-26T11:05:34.673Z"
   },
   {
    "duration": 0,
    "start_time": "2023-04-26T11:05:34.673Z"
   },
   {
    "duration": 0,
    "start_time": "2023-04-26T11:05:34.675Z"
   },
   {
    "duration": 5,
    "start_time": "2023-04-26T11:06:09.517Z"
   },
   {
    "duration": 1068,
    "start_time": "2023-04-26T11:06:15.420Z"
   },
   {
    "duration": 85,
    "start_time": "2023-04-26T11:06:16.490Z"
   },
   {
    "duration": 45,
    "start_time": "2023-04-26T11:06:16.577Z"
   },
   {
    "duration": 16,
    "start_time": "2023-04-26T11:06:16.624Z"
   },
   {
    "duration": 5,
    "start_time": "2023-04-26T11:06:16.643Z"
   },
   {
    "duration": 19,
    "start_time": "2023-04-26T11:06:16.649Z"
   },
   {
    "duration": 4,
    "start_time": "2023-04-26T11:06:16.669Z"
   },
   {
    "duration": 6,
    "start_time": "2023-04-26T11:06:16.675Z"
   },
   {
    "duration": 23,
    "start_time": "2023-04-26T11:06:16.699Z"
   },
   {
    "duration": 11,
    "start_time": "2023-04-26T11:06:16.723Z"
   },
   {
    "duration": 14,
    "start_time": "2023-04-26T11:06:16.735Z"
   },
   {
    "duration": 11,
    "start_time": "2023-04-26T11:06:16.750Z"
   },
   {
    "duration": 34,
    "start_time": "2023-04-26T11:06:16.763Z"
   },
   {
    "duration": 634,
    "start_time": "2023-04-26T11:06:16.804Z"
   },
   {
    "duration": 11,
    "start_time": "2023-04-26T11:06:17.439Z"
   },
   {
    "duration": 13,
    "start_time": "2023-04-26T11:06:17.451Z"
   },
   {
    "duration": 337,
    "start_time": "2023-04-26T11:06:17.466Z"
   },
   {
    "duration": 452,
    "start_time": "2023-04-26T11:06:17.805Z"
   },
   {
    "duration": 397,
    "start_time": "2023-04-26T11:06:18.259Z"
   },
   {
    "duration": 405,
    "start_time": "2023-04-26T11:06:18.657Z"
   },
   {
    "duration": 161,
    "start_time": "2023-04-26T11:06:19.064Z"
   },
   {
    "duration": 4,
    "start_time": "2023-04-26T11:06:19.227Z"
   },
   {
    "duration": 178,
    "start_time": "2023-04-26T11:06:19.232Z"
   },
   {
    "duration": 10,
    "start_time": "2023-04-26T11:06:19.412Z"
   },
   {
    "duration": 169,
    "start_time": "2023-04-26T11:06:19.425Z"
   },
   {
    "duration": 34,
    "start_time": "2023-04-26T11:06:19.596Z"
   },
   {
    "duration": 9,
    "start_time": "2023-04-26T11:06:19.631Z"
   },
   {
    "duration": 11,
    "start_time": "2023-04-26T11:06:19.641Z"
   },
   {
    "duration": 123,
    "start_time": "2023-04-26T11:06:19.654Z"
   },
   {
    "duration": 0,
    "start_time": "2023-04-26T11:06:19.779Z"
   },
   {
    "duration": 23,
    "start_time": "2023-04-26T11:08:32.726Z"
   },
   {
    "duration": 26,
    "start_time": "2023-04-26T11:08:47.229Z"
   },
   {
    "duration": 7,
    "start_time": "2023-04-26T11:13:29.231Z"
   },
   {
    "duration": 10,
    "start_time": "2023-04-26T11:13:52.060Z"
   },
   {
    "duration": 153,
    "start_time": "2023-04-26T11:15:17.806Z"
   },
   {
    "duration": 10,
    "start_time": "2023-04-26T11:18:39.279Z"
   },
   {
    "duration": 12,
    "start_time": "2023-04-26T11:20:01.533Z"
   },
   {
    "duration": 37,
    "start_time": "2023-04-26T11:20:13.601Z"
   },
   {
    "duration": 19,
    "start_time": "2023-04-26T11:21:05.477Z"
   },
   {
    "duration": 67,
    "start_time": "2023-05-05T10:08:32.489Z"
   },
   {
    "duration": 1343,
    "start_time": "2023-05-11T15:28:14.828Z"
   },
   {
    "duration": 183,
    "start_time": "2023-05-11T15:28:16.174Z"
   },
   {
    "duration": 23,
    "start_time": "2023-05-11T15:28:16.358Z"
   },
   {
    "duration": 17,
    "start_time": "2023-05-11T15:28:16.383Z"
   },
   {
    "duration": 11,
    "start_time": "2023-05-11T15:28:16.402Z"
   },
   {
    "duration": 29,
    "start_time": "2023-05-11T15:28:16.414Z"
   },
   {
    "duration": 5,
    "start_time": "2023-05-11T15:28:16.445Z"
   },
   {
    "duration": 30,
    "start_time": "2023-05-11T15:28:16.451Z"
   },
   {
    "duration": 20,
    "start_time": "2023-05-11T15:28:16.483Z"
   },
   {
    "duration": 12,
    "start_time": "2023-05-11T15:28:16.506Z"
   },
   {
    "duration": 13,
    "start_time": "2023-05-11T15:28:16.520Z"
   },
   {
    "duration": 14,
    "start_time": "2023-05-11T15:28:16.535Z"
   },
   {
    "duration": 20,
    "start_time": "2023-05-11T15:28:16.579Z"
   },
   {
    "duration": 626,
    "start_time": "2023-05-11T15:28:16.602Z"
   },
   {
    "duration": 12,
    "start_time": "2023-05-11T15:28:17.229Z"
   },
   {
    "duration": 20,
    "start_time": "2023-05-11T15:28:17.243Z"
   },
   {
    "duration": 379,
    "start_time": "2023-05-11T15:28:17.278Z"
   },
   {
    "duration": 421,
    "start_time": "2023-05-11T15:28:17.659Z"
   },
   {
    "duration": 393,
    "start_time": "2023-05-11T15:28:18.082Z"
   },
   {
    "duration": 406,
    "start_time": "2023-05-11T15:28:18.477Z"
   },
   {
    "duration": 171,
    "start_time": "2023-05-11T15:28:18.885Z"
   },
   {
    "duration": 21,
    "start_time": "2023-05-11T15:28:19.058Z"
   },
   {
    "duration": 185,
    "start_time": "2023-05-11T15:28:19.081Z"
   },
   {
    "duration": 178,
    "start_time": "2023-05-11T15:28:19.268Z"
   },
   {
    "duration": 8,
    "start_time": "2023-05-11T15:28:19.448Z"
   },
   {
    "duration": 165,
    "start_time": "2023-05-11T15:28:19.458Z"
   },
   {
    "duration": 24,
    "start_time": "2023-05-11T15:28:19.625Z"
   },
   {
    "duration": 32,
    "start_time": "2023-05-11T15:28:19.651Z"
   },
   {
    "duration": 13,
    "start_time": "2023-05-11T15:28:19.684Z"
   },
   {
    "duration": 37,
    "start_time": "2023-05-11T15:28:19.699Z"
   },
   {
    "duration": 47,
    "start_time": "2023-05-11T15:28:19.738Z"
   },
   {
    "duration": 1174,
    "start_time": "2023-05-11T15:29:55.120Z"
   },
   {
    "duration": 62,
    "start_time": "2023-05-11T15:29:56.296Z"
   },
   {
    "duration": 24,
    "start_time": "2023-05-11T15:29:56.360Z"
   },
   {
    "duration": 20,
    "start_time": "2023-05-11T15:29:56.386Z"
   },
   {
    "duration": 7,
    "start_time": "2023-05-11T15:29:56.408Z"
   },
   {
    "duration": 32,
    "start_time": "2023-05-11T15:29:56.417Z"
   },
   {
    "duration": 6,
    "start_time": "2023-05-11T15:29:56.479Z"
   },
   {
    "duration": 7,
    "start_time": "2023-05-11T15:29:56.487Z"
   },
   {
    "duration": 22,
    "start_time": "2023-05-11T15:29:56.496Z"
   },
   {
    "duration": 12,
    "start_time": "2023-05-11T15:29:56.521Z"
   },
   {
    "duration": 44,
    "start_time": "2023-05-11T15:29:56.534Z"
   },
   {
    "duration": 15,
    "start_time": "2023-05-11T15:29:56.580Z"
   },
   {
    "duration": 23,
    "start_time": "2023-05-11T15:29:56.597Z"
   },
   {
    "duration": 643,
    "start_time": "2023-05-11T15:29:56.622Z"
   },
   {
    "duration": 16,
    "start_time": "2023-05-11T15:29:57.266Z"
   },
   {
    "duration": 16,
    "start_time": "2023-05-11T15:29:57.284Z"
   },
   {
    "duration": 355,
    "start_time": "2023-05-11T15:29:57.302Z"
   },
   {
    "duration": 422,
    "start_time": "2023-05-11T15:29:57.659Z"
   },
   {
    "duration": 372,
    "start_time": "2023-05-11T15:29:58.083Z"
   },
   {
    "duration": 396,
    "start_time": "2023-05-11T15:29:58.456Z"
   },
   {
    "duration": 159,
    "start_time": "2023-05-11T15:29:58.854Z"
   },
   {
    "duration": 11,
    "start_time": "2023-05-11T15:29:59.015Z"
   },
   {
    "duration": 184,
    "start_time": "2023-05-11T15:29:59.028Z"
   },
   {
    "duration": 176,
    "start_time": "2023-05-11T15:29:59.214Z"
   },
   {
    "duration": 11,
    "start_time": "2023-05-11T15:29:59.392Z"
   },
   {
    "duration": 163,
    "start_time": "2023-05-11T15:29:59.404Z"
   },
   {
    "duration": 33,
    "start_time": "2023-05-11T15:29:59.568Z"
   },
   {
    "duration": 10,
    "start_time": "2023-05-11T15:29:59.604Z"
   },
   {
    "duration": 12,
    "start_time": "2023-05-11T15:29:59.615Z"
   },
   {
    "duration": 59,
    "start_time": "2023-05-11T15:29:59.628Z"
   },
   {
    "duration": 16,
    "start_time": "2023-05-11T15:29:59.688Z"
   }
  ],
  "kernelspec": {
   "display_name": "Python 3 (ipykernel)",
   "language": "python",
   "name": "python3"
  },
  "language_info": {
   "codemirror_mode": {
    "name": "ipython",
    "version": 3
   },
   "file_extension": ".py",
   "mimetype": "text/x-python",
   "name": "python",
   "nbconvert_exporter": "python",
   "pygments_lexer": "ipython3",
   "version": "3.9.13"
  },
  "toc": {
   "base_numbering": 1,
   "nav_menu": {},
   "number_sections": true,
   "sideBar": true,
   "skip_h1_title": true,
   "title_cell": "Table of Contents",
   "title_sidebar": "Contents",
   "toc_cell": false,
   "toc_position": {},
   "toc_section_display": true,
   "toc_window_display": false
  }
 },
 "nbformat": 4,
 "nbformat_minor": 2
}
